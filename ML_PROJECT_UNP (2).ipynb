{
  "cells": [
    {
      "cell_type": "markdown",
      "source": [
        "#**DATA PREPROCESSING**"
      ],
      "metadata": {
        "id": "juzkuON1iCBJ"
      },
      "id": "juzkuON1iCBJ"
    },
    {
      "cell_type": "code",
      "source": [
        "from google.colab import drive\n",
        "drive.mount('/content/drive')"
      ],
      "metadata": {
        "colab": {
          "base_uri": "https://localhost:8080/"
        },
        "id": "0pUr_nv3AaCp",
        "outputId": "23ce429d-9595-4d21-834c-aaa7bb5d2e71"
      },
      "id": "0pUr_nv3AaCp",
      "execution_count": null,
      "outputs": [
        {
          "output_type": "stream",
          "name": "stdout",
          "text": [
            "Mounted at /content/drive\n"
          ]
        }
      ]
    },
    {
      "cell_type": "code",
      "execution_count": null,
      "id": "47c9b649",
      "metadata": {
        "id": "47c9b649"
      },
      "outputs": [],
      "source": [
        "#Importing the required libraries\n",
        "import pandas as pd\n",
        "import numpy as np\n",
        "import seaborn as sns\n",
        "import tensorflow as tf\n",
        "from sklearn.model_selection import train_test_split\n",
        "from sklearn.metrics import accuracy_score\n",
        "from sklearn.metrics import accuracy_score, classification_report\n",
        "from sklearn.metrics import ConfusionMatrixDisplay\n",
        "import matplotlib.pyplot as plt\n",
        "%matplotlib inline"
      ]
    },
    {
      "cell_type": "code",
      "source": [
        "pwd"
      ],
      "metadata": {
        "colab": {
          "base_uri": "https://localhost:8080/",
          "height": 35
        },
        "id": "95jH-iHxB2UT",
        "outputId": "66654627-fa2d-4327-9335-d2f700d959fe"
      },
      "id": "95jH-iHxB2UT",
      "execution_count": null,
      "outputs": [
        {
          "output_type": "execute_result",
          "data": {
            "text/plain": [
              "'/content'"
            ],
            "application/vnd.google.colaboratory.intrinsic+json": {
              "type": "string"
            }
          },
          "metadata": {},
          "execution_count": 3
        }
      ]
    },
    {
      "cell_type": "code",
      "execution_count": null,
      "id": "0b97875d",
      "metadata": {
        "id": "0b97875d"
      },
      "outputs": [],
      "source": [
        "#Loading the dataset\n",
        "path='/content/drive/MyDrive/csv_result_caesarian.csv'\n",
        "#cdata=pd.read_csv(\"csv_result-caesarian.csv\")\n",
        "cdata=pd.read_csv(path)\n"
      ]
    },
    {
      "cell_type": "code",
      "execution_count": null,
      "id": "f850fd90",
      "metadata": {
        "colab": {
          "base_uri": "https://localhost:8080/",
          "height": 206
        },
        "id": "f850fd90",
        "outputId": "0777b572-8041-4663-b903-f80994670b4c"
      },
      "outputs": [
        {
          "output_type": "execute_result",
          "data": {
            "text/plain": [
              "   id  'Age'  'Delivery  'Delivery.1  'Blood  'Heart  Caesarian\n",
              "0   1     22          1            0       2       0          0\n",
              "1   2     26          2            0       1       0          1\n",
              "2   3     26          2            1       1       0          0\n",
              "3   4     28          1            0       2       0          0\n",
              "4   5     22          2            0       1       0          1"
            ],
            "text/html": [
              "\n",
              "  <div id=\"df-08319563-657d-43a8-a4a8-61df1181b6c2\">\n",
              "    <div class=\"colab-df-container\">\n",
              "      <div>\n",
              "<style scoped>\n",
              "    .dataframe tbody tr th:only-of-type {\n",
              "        vertical-align: middle;\n",
              "    }\n",
              "\n",
              "    .dataframe tbody tr th {\n",
              "        vertical-align: top;\n",
              "    }\n",
              "\n",
              "    .dataframe thead th {\n",
              "        text-align: right;\n",
              "    }\n",
              "</style>\n",
              "<table border=\"1\" class=\"dataframe\">\n",
              "  <thead>\n",
              "    <tr style=\"text-align: right;\">\n",
              "      <th></th>\n",
              "      <th>id</th>\n",
              "      <th>'Age'</th>\n",
              "      <th>'Delivery</th>\n",
              "      <th>'Delivery.1</th>\n",
              "      <th>'Blood</th>\n",
              "      <th>'Heart</th>\n",
              "      <th>Caesarian</th>\n",
              "    </tr>\n",
              "  </thead>\n",
              "  <tbody>\n",
              "    <tr>\n",
              "      <th>0</th>\n",
              "      <td>1</td>\n",
              "      <td>22</td>\n",
              "      <td>1</td>\n",
              "      <td>0</td>\n",
              "      <td>2</td>\n",
              "      <td>0</td>\n",
              "      <td>0</td>\n",
              "    </tr>\n",
              "    <tr>\n",
              "      <th>1</th>\n",
              "      <td>2</td>\n",
              "      <td>26</td>\n",
              "      <td>2</td>\n",
              "      <td>0</td>\n",
              "      <td>1</td>\n",
              "      <td>0</td>\n",
              "      <td>1</td>\n",
              "    </tr>\n",
              "    <tr>\n",
              "      <th>2</th>\n",
              "      <td>3</td>\n",
              "      <td>26</td>\n",
              "      <td>2</td>\n",
              "      <td>1</td>\n",
              "      <td>1</td>\n",
              "      <td>0</td>\n",
              "      <td>0</td>\n",
              "    </tr>\n",
              "    <tr>\n",
              "      <th>3</th>\n",
              "      <td>4</td>\n",
              "      <td>28</td>\n",
              "      <td>1</td>\n",
              "      <td>0</td>\n",
              "      <td>2</td>\n",
              "      <td>0</td>\n",
              "      <td>0</td>\n",
              "    </tr>\n",
              "    <tr>\n",
              "      <th>4</th>\n",
              "      <td>5</td>\n",
              "      <td>22</td>\n",
              "      <td>2</td>\n",
              "      <td>0</td>\n",
              "      <td>1</td>\n",
              "      <td>0</td>\n",
              "      <td>1</td>\n",
              "    </tr>\n",
              "  </tbody>\n",
              "</table>\n",
              "</div>\n",
              "      <button class=\"colab-df-convert\" onclick=\"convertToInteractive('df-08319563-657d-43a8-a4a8-61df1181b6c2')\"\n",
              "              title=\"Convert this dataframe to an interactive table.\"\n",
              "              style=\"display:none;\">\n",
              "        \n",
              "  <svg xmlns=\"http://www.w3.org/2000/svg\" height=\"24px\"viewBox=\"0 0 24 24\"\n",
              "       width=\"24px\">\n",
              "    <path d=\"M0 0h24v24H0V0z\" fill=\"none\"/>\n",
              "    <path d=\"M18.56 5.44l.94 2.06.94-2.06 2.06-.94-2.06-.94-.94-2.06-.94 2.06-2.06.94zm-11 1L8.5 8.5l.94-2.06 2.06-.94-2.06-.94L8.5 2.5l-.94 2.06-2.06.94zm10 10l.94 2.06.94-2.06 2.06-.94-2.06-.94-.94-2.06-.94 2.06-2.06.94z\"/><path d=\"M17.41 7.96l-1.37-1.37c-.4-.4-.92-.59-1.43-.59-.52 0-1.04.2-1.43.59L10.3 9.45l-7.72 7.72c-.78.78-.78 2.05 0 2.83L4 21.41c.39.39.9.59 1.41.59.51 0 1.02-.2 1.41-.59l7.78-7.78 2.81-2.81c.8-.78.8-2.07 0-2.86zM5.41 20L4 18.59l7.72-7.72 1.47 1.35L5.41 20z\"/>\n",
              "  </svg>\n",
              "      </button>\n",
              "      \n",
              "  <style>\n",
              "    .colab-df-container {\n",
              "      display:flex;\n",
              "      flex-wrap:wrap;\n",
              "      gap: 12px;\n",
              "    }\n",
              "\n",
              "    .colab-df-convert {\n",
              "      background-color: #E8F0FE;\n",
              "      border: none;\n",
              "      border-radius: 50%;\n",
              "      cursor: pointer;\n",
              "      display: none;\n",
              "      fill: #1967D2;\n",
              "      height: 32px;\n",
              "      padding: 0 0 0 0;\n",
              "      width: 32px;\n",
              "    }\n",
              "\n",
              "    .colab-df-convert:hover {\n",
              "      background-color: #E2EBFA;\n",
              "      box-shadow: 0px 1px 2px rgba(60, 64, 67, 0.3), 0px 1px 3px 1px rgba(60, 64, 67, 0.15);\n",
              "      fill: #174EA6;\n",
              "    }\n",
              "\n",
              "    [theme=dark] .colab-df-convert {\n",
              "      background-color: #3B4455;\n",
              "      fill: #D2E3FC;\n",
              "    }\n",
              "\n",
              "    [theme=dark] .colab-df-convert:hover {\n",
              "      background-color: #434B5C;\n",
              "      box-shadow: 0px 1px 3px 1px rgba(0, 0, 0, 0.15);\n",
              "      filter: drop-shadow(0px 1px 2px rgba(0, 0, 0, 0.3));\n",
              "      fill: #FFFFFF;\n",
              "    }\n",
              "  </style>\n",
              "\n",
              "      <script>\n",
              "        const buttonEl =\n",
              "          document.querySelector('#df-08319563-657d-43a8-a4a8-61df1181b6c2 button.colab-df-convert');\n",
              "        buttonEl.style.display =\n",
              "          google.colab.kernel.accessAllowed ? 'block' : 'none';\n",
              "\n",
              "        async function convertToInteractive(key) {\n",
              "          const element = document.querySelector('#df-08319563-657d-43a8-a4a8-61df1181b6c2');\n",
              "          const dataTable =\n",
              "            await google.colab.kernel.invokeFunction('convertToInteractive',\n",
              "                                                     [key], {});\n",
              "          if (!dataTable) return;\n",
              "\n",
              "          const docLinkHtml = 'Like what you see? Visit the ' +\n",
              "            '<a target=\"_blank\" href=https://colab.research.google.com/notebooks/data_table.ipynb>data table notebook</a>'\n",
              "            + ' to learn more about interactive tables.';\n",
              "          element.innerHTML = '';\n",
              "          dataTable['output_type'] = 'display_data';\n",
              "          await google.colab.output.renderOutput(dataTable, element);\n",
              "          const docLink = document.createElement('div');\n",
              "          docLink.innerHTML = docLinkHtml;\n",
              "          element.appendChild(docLink);\n",
              "        }\n",
              "      </script>\n",
              "    </div>\n",
              "  </div>\n",
              "  "
            ]
          },
          "metadata": {},
          "execution_count": 5
        }
      ],
      "source": [
        "cdata.head()"
      ]
    },
    {
      "cell_type": "code",
      "execution_count": null,
      "id": "a33cff5e",
      "metadata": {
        "colab": {
          "base_uri": "https://localhost:8080/"
        },
        "id": "a33cff5e",
        "outputId": "b3049fd6-0132-4fd7-c655-7e5f1b17e16c"
      },
      "outputs": [
        {
          "output_type": "execute_result",
          "data": {
            "text/plain": [
              "(80, 7)"
            ]
          },
          "metadata": {},
          "execution_count": 6
        }
      ],
      "source": [
        "#Checking the dimensions of the dataset\n",
        "cdata.shape"
      ]
    },
    {
      "cell_type": "code",
      "execution_count": null,
      "id": "afd8d422",
      "metadata": {
        "colab": {
          "base_uri": "https://localhost:8080/"
        },
        "id": "afd8d422",
        "outputId": "8297fefb-bdba-444b-b16e-4324b7678a24"
      },
      "outputs": [
        {
          "output_type": "execute_result",
          "data": {
            "text/plain": [
              "id             0\n",
              "'Age'          0\n",
              "'Delivery      0\n",
              "'Delivery.1    0\n",
              "'Blood         0\n",
              "'Heart         0\n",
              "Caesarian      0\n",
              "dtype: int64"
            ]
          },
          "metadata": {},
          "execution_count": 7
        }
      ],
      "source": [
        "#Checking for Null values in the dataset\n",
        "cdata.isnull().sum().sort_values(ascending=False)"
      ]
    },
    {
      "cell_type": "code",
      "execution_count": null,
      "id": "57094a7b",
      "metadata": {
        "colab": {
          "base_uri": "https://localhost:8080/"
        },
        "id": "57094a7b",
        "outputId": "74f26426-7911-4de1-a297-d1e9b2c0ecb1"
      },
      "outputs": [
        {
          "output_type": "stream",
          "name": "stdout",
          "text": [
            "<class 'pandas.core.frame.DataFrame'>\n",
            "RangeIndex: 80 entries, 0 to 79\n",
            "Data columns (total 7 columns):\n",
            " #   Column       Non-Null Count  Dtype\n",
            "---  ------       --------------  -----\n",
            " 0   id           80 non-null     int64\n",
            " 1   'Age'        80 non-null     int64\n",
            " 2   'Delivery    80 non-null     int64\n",
            " 3   'Delivery.1  80 non-null     int64\n",
            " 4   'Blood       80 non-null     int64\n",
            " 5   'Heart       80 non-null     int64\n",
            " 6   Caesarian    80 non-null     int64\n",
            "dtypes: int64(7)\n",
            "memory usage: 4.5 KB\n"
          ]
        }
      ],
      "source": [
        "#Checking the datatype of the various columns present in the dataset\n",
        "cdata.info()"
      ]
    },
    {
      "cell_type": "code",
      "execution_count": null,
      "id": "a0727997",
      "metadata": {
        "colab": {
          "base_uri": "https://localhost:8080/"
        },
        "id": "a0727997",
        "outputId": "0ae54d3c-e7f5-4457-8006-7ce817e1a45c"
      },
      "outputs": [
        {
          "output_type": "execute_result",
          "data": {
            "text/plain": [
              "Index(['id', ''Age'', ''Delivery', ''Delivery.1', ''Blood', ''Heart',\n",
              "       'Caesarian'],\n",
              "      dtype='object')"
            ]
          },
          "metadata": {},
          "execution_count": 9
        }
      ],
      "source": [
        "#Checking the column names\n",
        "cdata.columns"
      ]
    },
    {
      "cell_type": "code",
      "execution_count": null,
      "id": "d73fca00",
      "metadata": {
        "id": "d73fca00"
      },
      "outputs": [],
      "source": [
        "#Dropping the id column from the dataset\n",
        "data=cdata.drop('id',axis=1)"
      ]
    },
    {
      "cell_type": "code",
      "execution_count": null,
      "id": "a3685092",
      "metadata": {
        "id": "a3685092"
      },
      "outputs": [],
      "source": [
        "#Re-naming the columns\n",
        "data.rename(columns = {\"'Age'\":'Age',\"'Delivery\":'Delivery Number',\"'Delivery.1\":'Delivery Time',\"'Blood\":'Blood Pressure',\"'Heart\":'Heart Problem'},inplace = True)"
      ]
    },
    {
      "cell_type": "markdown",
      "source": [
        "#**EXPLORATORY DATA ANALYSIS**"
      ],
      "metadata": {
        "id": "bxglEcS4TGON"
      },
      "id": "bxglEcS4TGON"
    },
    {
      "cell_type": "code",
      "execution_count": null,
      "id": "93f89310",
      "metadata": {
        "colab": {
          "base_uri": "https://localhost:8080/"
        },
        "id": "93f89310",
        "outputId": "09da06c6-510f-48a9-edaf-59d794604f81"
      },
      "outputs": [
        {
          "output_type": "execute_result",
          "data": {
            "text/plain": [
              "Index(['Age', 'Delivery Number', 'Delivery Time', 'Blood Pressure',\n",
              "       'Heart Problem', 'Caesarian'],\n",
              "      dtype='object')"
            ]
          },
          "metadata": {},
          "execution_count": 12
        }
      ],
      "source": [
        "#To check the column names\n",
        "data.columns"
      ]
    },
    {
      "cell_type": "code",
      "source": [
        "data.head()"
      ],
      "metadata": {
        "colab": {
          "base_uri": "https://localhost:8080/",
          "height": 206
        },
        "id": "z7TXj6Ou5XT7",
        "outputId": "6424cf24-8368-4497-8398-dd93de91d6a3"
      },
      "id": "z7TXj6Ou5XT7",
      "execution_count": null,
      "outputs": [
        {
          "output_type": "execute_result",
          "data": {
            "text/plain": [
              "   Age  Delivery Number  Delivery Time  Blood Pressure  Heart Problem  \\\n",
              "0   22                1              0               2              0   \n",
              "1   26                2              0               1              0   \n",
              "2   26                2              1               1              0   \n",
              "3   28                1              0               2              0   \n",
              "4   22                2              0               1              0   \n",
              "\n",
              "   Caesarian  \n",
              "0          0  \n",
              "1          1  \n",
              "2          0  \n",
              "3          0  \n",
              "4          1  "
            ],
            "text/html": [
              "\n",
              "  <div id=\"df-1aa96078-6778-40a7-966e-a228758af045\">\n",
              "    <div class=\"colab-df-container\">\n",
              "      <div>\n",
              "<style scoped>\n",
              "    .dataframe tbody tr th:only-of-type {\n",
              "        vertical-align: middle;\n",
              "    }\n",
              "\n",
              "    .dataframe tbody tr th {\n",
              "        vertical-align: top;\n",
              "    }\n",
              "\n",
              "    .dataframe thead th {\n",
              "        text-align: right;\n",
              "    }\n",
              "</style>\n",
              "<table border=\"1\" class=\"dataframe\">\n",
              "  <thead>\n",
              "    <tr style=\"text-align: right;\">\n",
              "      <th></th>\n",
              "      <th>Age</th>\n",
              "      <th>Delivery Number</th>\n",
              "      <th>Delivery Time</th>\n",
              "      <th>Blood Pressure</th>\n",
              "      <th>Heart Problem</th>\n",
              "      <th>Caesarian</th>\n",
              "    </tr>\n",
              "  </thead>\n",
              "  <tbody>\n",
              "    <tr>\n",
              "      <th>0</th>\n",
              "      <td>22</td>\n",
              "      <td>1</td>\n",
              "      <td>0</td>\n",
              "      <td>2</td>\n",
              "      <td>0</td>\n",
              "      <td>0</td>\n",
              "    </tr>\n",
              "    <tr>\n",
              "      <th>1</th>\n",
              "      <td>26</td>\n",
              "      <td>2</td>\n",
              "      <td>0</td>\n",
              "      <td>1</td>\n",
              "      <td>0</td>\n",
              "      <td>1</td>\n",
              "    </tr>\n",
              "    <tr>\n",
              "      <th>2</th>\n",
              "      <td>26</td>\n",
              "      <td>2</td>\n",
              "      <td>1</td>\n",
              "      <td>1</td>\n",
              "      <td>0</td>\n",
              "      <td>0</td>\n",
              "    </tr>\n",
              "    <tr>\n",
              "      <th>3</th>\n",
              "      <td>28</td>\n",
              "      <td>1</td>\n",
              "      <td>0</td>\n",
              "      <td>2</td>\n",
              "      <td>0</td>\n",
              "      <td>0</td>\n",
              "    </tr>\n",
              "    <tr>\n",
              "      <th>4</th>\n",
              "      <td>22</td>\n",
              "      <td>2</td>\n",
              "      <td>0</td>\n",
              "      <td>1</td>\n",
              "      <td>0</td>\n",
              "      <td>1</td>\n",
              "    </tr>\n",
              "  </tbody>\n",
              "</table>\n",
              "</div>\n",
              "      <button class=\"colab-df-convert\" onclick=\"convertToInteractive('df-1aa96078-6778-40a7-966e-a228758af045')\"\n",
              "              title=\"Convert this dataframe to an interactive table.\"\n",
              "              style=\"display:none;\">\n",
              "        \n",
              "  <svg xmlns=\"http://www.w3.org/2000/svg\" height=\"24px\"viewBox=\"0 0 24 24\"\n",
              "       width=\"24px\">\n",
              "    <path d=\"M0 0h24v24H0V0z\" fill=\"none\"/>\n",
              "    <path d=\"M18.56 5.44l.94 2.06.94-2.06 2.06-.94-2.06-.94-.94-2.06-.94 2.06-2.06.94zm-11 1L8.5 8.5l.94-2.06 2.06-.94-2.06-.94L8.5 2.5l-.94 2.06-2.06.94zm10 10l.94 2.06.94-2.06 2.06-.94-2.06-.94-.94-2.06-.94 2.06-2.06.94z\"/><path d=\"M17.41 7.96l-1.37-1.37c-.4-.4-.92-.59-1.43-.59-.52 0-1.04.2-1.43.59L10.3 9.45l-7.72 7.72c-.78.78-.78 2.05 0 2.83L4 21.41c.39.39.9.59 1.41.59.51 0 1.02-.2 1.41-.59l7.78-7.78 2.81-2.81c.8-.78.8-2.07 0-2.86zM5.41 20L4 18.59l7.72-7.72 1.47 1.35L5.41 20z\"/>\n",
              "  </svg>\n",
              "      </button>\n",
              "      \n",
              "  <style>\n",
              "    .colab-df-container {\n",
              "      display:flex;\n",
              "      flex-wrap:wrap;\n",
              "      gap: 12px;\n",
              "    }\n",
              "\n",
              "    .colab-df-convert {\n",
              "      background-color: #E8F0FE;\n",
              "      border: none;\n",
              "      border-radius: 50%;\n",
              "      cursor: pointer;\n",
              "      display: none;\n",
              "      fill: #1967D2;\n",
              "      height: 32px;\n",
              "      padding: 0 0 0 0;\n",
              "      width: 32px;\n",
              "    }\n",
              "\n",
              "    .colab-df-convert:hover {\n",
              "      background-color: #E2EBFA;\n",
              "      box-shadow: 0px 1px 2px rgba(60, 64, 67, 0.3), 0px 1px 3px 1px rgba(60, 64, 67, 0.15);\n",
              "      fill: #174EA6;\n",
              "    }\n",
              "\n",
              "    [theme=dark] .colab-df-convert {\n",
              "      background-color: #3B4455;\n",
              "      fill: #D2E3FC;\n",
              "    }\n",
              "\n",
              "    [theme=dark] .colab-df-convert:hover {\n",
              "      background-color: #434B5C;\n",
              "      box-shadow: 0px 1px 3px 1px rgba(0, 0, 0, 0.15);\n",
              "      filter: drop-shadow(0px 1px 2px rgba(0, 0, 0, 0.3));\n",
              "      fill: #FFFFFF;\n",
              "    }\n",
              "  </style>\n",
              "\n",
              "      <script>\n",
              "        const buttonEl =\n",
              "          document.querySelector('#df-1aa96078-6778-40a7-966e-a228758af045 button.colab-df-convert');\n",
              "        buttonEl.style.display =\n",
              "          google.colab.kernel.accessAllowed ? 'block' : 'none';\n",
              "\n",
              "        async function convertToInteractive(key) {\n",
              "          const element = document.querySelector('#df-1aa96078-6778-40a7-966e-a228758af045');\n",
              "          const dataTable =\n",
              "            await google.colab.kernel.invokeFunction('convertToInteractive',\n",
              "                                                     [key], {});\n",
              "          if (!dataTable) return;\n",
              "\n",
              "          const docLinkHtml = 'Like what you see? Visit the ' +\n",
              "            '<a target=\"_blank\" href=https://colab.research.google.com/notebooks/data_table.ipynb>data table notebook</a>'\n",
              "            + ' to learn more about interactive tables.';\n",
              "          element.innerHTML = '';\n",
              "          dataTable['output_type'] = 'display_data';\n",
              "          await google.colab.output.renderOutput(dataTable, element);\n",
              "          const docLink = document.createElement('div');\n",
              "          docLink.innerHTML = docLinkHtml;\n",
              "          element.appendChild(docLink);\n",
              "        }\n",
              "      </script>\n",
              "    </div>\n",
              "  </div>\n",
              "  "
            ]
          },
          "metadata": {},
          "execution_count": 13
        }
      ]
    },
    {
      "cell_type": "code",
      "execution_count": null,
      "id": "e9657624",
      "metadata": {
        "colab": {
          "base_uri": "https://localhost:8080/"
        },
        "id": "e9657624",
        "outputId": "f7988734-9378-4aa4-8189-66ce55ecd30a"
      },
      "outputs": [
        {
          "output_type": "execute_result",
          "data": {
            "text/plain": [
              "1    46\n",
              "0    34\n",
              "Name: Caesarian, dtype: int64"
            ]
          },
          "metadata": {},
          "execution_count": 14
        }
      ],
      "source": [
        "data['Caesarian'].value_counts()"
      ]
    },
    {
      "cell_type": "code",
      "source": [
        "lables=['No','Yes']\n",
        "var=data.groupby('Caesarian')['Caesarian'].count()\n",
        "plt.pie(var,labels=lables,autopct='%.0f%%')\n",
        "plt.show()"
      ],
      "metadata": {
        "colab": {
          "base_uri": "https://localhost:8080/",
          "height": 248
        },
        "id": "kB6sazTAMFra",
        "outputId": "7d0da12b-bed8-4e2e-835b-70e85cf9193b"
      },
      "id": "kB6sazTAMFra",
      "execution_count": null,
      "outputs": [
        {
          "output_type": "display_data",
          "data": {
            "text/plain": [
              "<Figure size 432x288 with 1 Axes>"
            ],
            "image/png": "[encoded data removed]"
          },
          "metadata": {}
        }
      ]
    },
    {
      "cell_type": "code",
      "execution_count": null,
      "id": "ba6e42b2",
      "metadata": {
        "colab": {
          "base_uri": "https://localhost:8080/"
        },
        "id": "ba6e42b2",
        "outputId": "74b3de91-dfe0-4a65-86af-51611689d48b"
      },
      "outputs": [
        {
          "output_type": "execute_result",
          "data": {
            "text/plain": [
              "0    46\n",
              "1    34\n",
              "Name: Delivery Time, dtype: int64"
            ]
          },
          "metadata": {},
          "execution_count": 16
        }
      ],
      "source": [
        "data['Delivery Time'].value_counts()"
      ]
    },
    {
      "cell_type": "code",
      "source": [
        "data.groupby(\"Delivery Time\").agg({\"Caesarian\":\"count\"})"
      ],
      "metadata": {
        "colab": {
          "base_uri": "https://localhost:8080/",
          "height": 143
        },
        "id": "0rM7MtgNWUJy",
        "outputId": "38ea6849-182f-4e36-8688-f0a1466f4052"
      },
      "id": "0rM7MtgNWUJy",
      "execution_count": null,
      "outputs": [
        {
          "output_type": "execute_result",
          "data": {
            "text/plain": [
              "               Caesarian\n",
              "Delivery Time           \n",
              "0                     46\n",
              "1                     34"
            ],
            "text/html": [
              "\n",
              "  <div id=\"df-6a15de9f-40e2-42aa-b5e8-5468f471296b\">\n",
              "    <div class=\"colab-df-container\">\n",
              "      <div>\n",
              "<style scoped>\n",
              "    .dataframe tbody tr th:only-of-type {\n",
              "        vertical-align: middle;\n",
              "    }\n",
              "\n",
              "    .dataframe tbody tr th {\n",
              "        vertical-align: top;\n",
              "    }\n",
              "\n",
              "    .dataframe thead th {\n",
              "        text-align: right;\n",
              "    }\n",
              "</style>\n",
              "<table border=\"1\" class=\"dataframe\">\n",
              "  <thead>\n",
              "    <tr style=\"text-align: right;\">\n",
              "      <th></th>\n",
              "      <th>Caesarian</th>\n",
              "    </tr>\n",
              "    <tr>\n",
              "      <th>Delivery Time</th>\n",
              "      <th></th>\n",
              "    </tr>\n",
              "  </thead>\n",
              "  <tbody>\n",
              "    <tr>\n",
              "      <th>0</th>\n",
              "      <td>46</td>\n",
              "    </tr>\n",
              "    <tr>\n",
              "      <th>1</th>\n",
              "      <td>34</td>\n",
              "    </tr>\n",
              "  </tbody>\n",
              "</table>\n",
              "</div>\n",
              "      <button class=\"colab-df-convert\" onclick=\"convertToInteractive('df-6a15de9f-40e2-42aa-b5e8-5468f471296b')\"\n",
              "              title=\"Convert this dataframe to an interactive table.\"\n",
              "              style=\"display:none;\">\n",
              "        \n",
              "  <svg xmlns=\"http://www.w3.org/2000/svg\" height=\"24px\"viewBox=\"0 0 24 24\"\n",
              "       width=\"24px\">\n",
              "    <path d=\"M0 0h24v24H0V0z\" fill=\"none\"/>\n",
              "    <path d=\"M18.56 5.44l.94 2.06.94-2.06 2.06-.94-2.06-.94-.94-2.06-.94 2.06-2.06.94zm-11 1L8.5 8.5l.94-2.06 2.06-.94-2.06-.94L8.5 2.5l-.94 2.06-2.06.94zm10 10l.94 2.06.94-2.06 2.06-.94-2.06-.94-.94-2.06-.94 2.06-2.06.94z\"/><path d=\"M17.41 7.96l-1.37-1.37c-.4-.4-.92-.59-1.43-.59-.52 0-1.04.2-1.43.59L10.3 9.45l-7.72 7.72c-.78.78-.78 2.05 0 2.83L4 21.41c.39.39.9.59 1.41.59.51 0 1.02-.2 1.41-.59l7.78-7.78 2.81-2.81c.8-.78.8-2.07 0-2.86zM5.41 20L4 18.59l7.72-7.72 1.47 1.35L5.41 20z\"/>\n",
              "  </svg>\n",
              "      </button>\n",
              "      \n",
              "  <style>\n",
              "    .colab-df-container {\n",
              "      display:flex;\n",
              "      flex-wrap:wrap;\n",
              "      gap: 12px;\n",
              "    }\n",
              "\n",
              "    .colab-df-convert {\n",
              "      background-color: #E8F0FE;\n",
              "      border: none;\n",
              "      border-radius: 50%;\n",
              "      cursor: pointer;\n",
              "      display: none;\n",
              "      fill: #1967D2;\n",
              "      height: 32px;\n",
              "      padding: 0 0 0 0;\n",
              "      width: 32px;\n",
              "    }\n",
              "\n",
              "    .colab-df-convert:hover {\n",
              "      background-color: #E2EBFA;\n",
              "      box-shadow: 0px 1px 2px rgba(60, 64, 67, 0.3), 0px 1px 3px 1px rgba(60, 64, 67, 0.15);\n",
              "      fill: #174EA6;\n",
              "    }\n",
              "\n",
              "    [theme=dark] .colab-df-convert {\n",
              "      background-color: #3B4455;\n",
              "      fill: #D2E3FC;\n",
              "    }\n",
              "\n",
              "    [theme=dark] .colab-df-convert:hover {\n",
              "      background-color: #434B5C;\n",
              "      box-shadow: 0px 1px 3px 1px rgba(0, 0, 0, 0.15);\n",
              "      filter: drop-shadow(0px 1px 2px rgba(0, 0, 0, 0.3));\n",
              "      fill: #FFFFFF;\n",
              "    }\n",
              "  </style>\n",
              "\n",
              "      <script>\n",
              "        const buttonEl =\n",
              "          document.querySelector('#df-6a15de9f-40e2-42aa-b5e8-5468f471296b button.colab-df-convert');\n",
              "        buttonEl.style.display =\n",
              "          google.colab.kernel.accessAllowed ? 'block' : 'none';\n",
              "\n",
              "        async function convertToInteractive(key) {\n",
              "          const element = document.querySelector('#df-6a15de9f-40e2-42aa-b5e8-5468f471296b');\n",
              "          const dataTable =\n",
              "            await google.colab.kernel.invokeFunction('convertToInteractive',\n",
              "                                                     [key], {});\n",
              "          if (!dataTable) return;\n",
              "\n",
              "          const docLinkHtml = 'Like what you see? Visit the ' +\n",
              "            '<a target=\"_blank\" href=https://colab.research.google.com/notebooks/data_table.ipynb>data table notebook</a>'\n",
              "            + ' to learn more about interactive tables.';\n",
              "          element.innerHTML = '';\n",
              "          dataTable['output_type'] = 'display_data';\n",
              "          await google.colab.output.renderOutput(dataTable, element);\n",
              "          const docLink = document.createElement('div');\n",
              "          docLink.innerHTML = docLinkHtml;\n",
              "          element.appendChild(docLink);\n",
              "        }\n",
              "      </script>\n",
              "    </div>\n",
              "  </div>\n",
              "  "
            ]
          },
          "metadata": {},
          "execution_count": 17
        }
      ]
    },
    {
      "cell_type": "code",
      "source": [
        "lables=['Timely','Premature','Latecomer']\n",
        "sns.countplot(x ='Delivery Time', data = data)\n",
        "plt.title(\"Delivery Time Count\")\n",
        "plt.show()"
      ],
      "metadata": {
        "colab": {
          "base_uri": "https://localhost:8080/",
          "height": 295
        },
        "id": "1VrfdO39MVUh",
        "outputId": "5ef54775-3981-46e5-de0a-65fe41e41daa"
      },
      "id": "1VrfdO39MVUh",
      "execution_count": null,
      "outputs": [
        {
          "output_type": "display_data",
          "data": {
            "text/plain": [
              "<Figure size 432x288 with 1 Axes>"
            ],
            "image/png": "[encoded data removed]"
          },
          "metadata": {
            "needs_background": "light"
          }
        }
      ]
    },
    {
      "cell_type": "code",
      "source": [
        "CrosstabResult=pd.crosstab(index=data['Delivery Time'],columns=data['Caesarian'])\n",
        "CrosstabResult.plot.bar(figsize=(6,6), rot=4) "
      ],
      "metadata": {
        "colab": {
          "base_uri": "https://localhost:8080/",
          "height": 405
        },
        "id": "wafQxEGCJTCu",
        "outputId": "7b7fea17-3070-41c7-bcb3-f6012c4ab7b8"
      },
      "id": "wafQxEGCJTCu",
      "execution_count": null,
      "outputs": [
        {
          "output_type": "execute_result",
          "data": {
            "text/plain": [
              "<AxesSubplot:xlabel='Delivery Time'>"
            ]
          },
          "metadata": {},
          "execution_count": 19
        },
        {
          "output_type": "display_data",
          "data": {
            "text/plain": [
              "<Figure size 432x432 with 1 Axes>"
            ],
            "image/png": "[encoded data removed]"
          },
          "metadata": {
            "needs_background": "light"
          }
        }
      ]
    },
    {
      "cell_type": "code",
      "execution_count": null,
      "id": "f099de82",
      "metadata": {
        "colab": {
          "base_uri": "https://localhost:8080/"
        },
        "id": "f099de82",
        "outputId": "ac958765-0db4-4785-aee2-529083f96fcd"
      },
      "outputs": [
        {
          "output_type": "execute_result",
          "data": {
            "text/plain": [
              "1    40\n",
              "2    20\n",
              "0    20\n",
              "Name: Blood Pressure, dtype: int64"
            ]
          },
          "metadata": {},
          "execution_count": 20
        }
      ],
      "source": [
        "data['Blood Pressure'].value_counts()"
      ]
    },
    {
      "cell_type": "code",
      "source": [
        "data.groupby(\"Blood Pressure\").agg({\"Caesarian\":\"count\"})"
      ],
      "metadata": {
        "colab": {
          "base_uri": "https://localhost:8080/",
          "height": 174
        },
        "id": "Q0AXuUB_VT8D",
        "outputId": "c08afc55-ddf2-4713-f83f-017f3b7d4167"
      },
      "id": "Q0AXuUB_VT8D",
      "execution_count": null,
      "outputs": [
        {
          "output_type": "execute_result",
          "data": {
            "text/plain": [
              "                Caesarian\n",
              "Blood Pressure           \n",
              "0                      20\n",
              "1                      40\n",
              "2                      20"
            ],
            "text/html": [
              "\n",
              "  <div id=\"df-e6f66d06-1d0d-4427-a2e3-8a5008262ab0\">\n",
              "    <div class=\"colab-df-container\">\n",
              "      <div>\n",
              "<style scoped>\n",
              "    .dataframe tbody tr th:only-of-type {\n",
              "        vertical-align: middle;\n",
              "    }\n",
              "\n",
              "    .dataframe tbody tr th {\n",
              "        vertical-align: top;\n",
              "    }\n",
              "\n",
              "    .dataframe thead th {\n",
              "        text-align: right;\n",
              "    }\n",
              "</style>\n",
              "<table border=\"1\" class=\"dataframe\">\n",
              "  <thead>\n",
              "    <tr style=\"text-align: right;\">\n",
              "      <th></th>\n",
              "      <th>Caesarian</th>\n",
              "    </tr>\n",
              "    <tr>\n",
              "      <th>Blood Pressure</th>\n",
              "      <th></th>\n",
              "    </tr>\n",
              "  </thead>\n",
              "  <tbody>\n",
              "    <tr>\n",
              "      <th>0</th>\n",
              "      <td>20</td>\n",
              "    </tr>\n",
              "    <tr>\n",
              "      <th>1</th>\n",
              "      <td>40</td>\n",
              "    </tr>\n",
              "    <tr>\n",
              "      <th>2</th>\n",
              "      <td>20</td>\n",
              "    </tr>\n",
              "  </tbody>\n",
              "</table>\n",
              "</div>\n",
              "      <button class=\"colab-df-convert\" onclick=\"convertToInteractive('df-e6f66d06-1d0d-4427-a2e3-8a5008262ab0')\"\n",
              "              title=\"Convert this dataframe to an interactive table.\"\n",
              "              style=\"display:none;\">\n",
              "        \n",
              "  <svg xmlns=\"http://www.w3.org/2000/svg\" height=\"24px\"viewBox=\"0 0 24 24\"\n",
              "       width=\"24px\">\n",
              "    <path d=\"M0 0h24v24H0V0z\" fill=\"none\"/>\n",
              "    <path d=\"M18.56 5.44l.94 2.06.94-2.06 2.06-.94-2.06-.94-.94-2.06-.94 2.06-2.06.94zm-11 1L8.5 8.5l.94-2.06 2.06-.94-2.06-.94L8.5 2.5l-.94 2.06-2.06.94zm10 10l.94 2.06.94-2.06 2.06-.94-2.06-.94-.94-2.06-.94 2.06-2.06.94z\"/><path d=\"M17.41 7.96l-1.37-1.37c-.4-.4-.92-.59-1.43-.59-.52 0-1.04.2-1.43.59L10.3 9.45l-7.72 7.72c-.78.78-.78 2.05 0 2.83L4 21.41c.39.39.9.59 1.41.59.51 0 1.02-.2 1.41-.59l7.78-7.78 2.81-2.81c.8-.78.8-2.07 0-2.86zM5.41 20L4 18.59l7.72-7.72 1.47 1.35L5.41 20z\"/>\n",
              "  </svg>\n",
              "      </button>\n",
              "      \n",
              "  <style>\n",
              "    .colab-df-container {\n",
              "      display:flex;\n",
              "      flex-wrap:wrap;\n",
              "      gap: 12px;\n",
              "    }\n",
              "\n",
              "    .colab-df-convert {\n",
              "      background-color: #E8F0FE;\n",
              "      border: none;\n",
              "      border-radius: 50%;\n",
              "      cursor: pointer;\n",
              "      display: none;\n",
              "      fill: #1967D2;\n",
              "      height: 32px;\n",
              "      padding: 0 0 0 0;\n",
              "      width: 32px;\n",
              "    }\n",
              "\n",
              "    .colab-df-convert:hover {\n",
              "      background-color: #E2EBFA;\n",
              "      box-shadow: 0px 1px 2px rgba(60, 64, 67, 0.3), 0px 1px 3px 1px rgba(60, 64, 67, 0.15);\n",
              "      fill: #174EA6;\n",
              "    }\n",
              "\n",
              "    [theme=dark] .colab-df-convert {\n",
              "      background-color: #3B4455;\n",
              "      fill: #D2E3FC;\n",
              "    }\n",
              "\n",
              "    [theme=dark] .colab-df-convert:hover {\n",
              "      background-color: #434B5C;\n",
              "      box-shadow: 0px 1px 3px 1px rgba(0, 0, 0, 0.15);\n",
              "      filter: drop-shadow(0px 1px 2px rgba(0, 0, 0, 0.3));\n",
              "      fill: #FFFFFF;\n",
              "    }\n",
              "  </style>\n",
              "\n",
              "      <script>\n",
              "        const buttonEl =\n",
              "          document.querySelector('#df-e6f66d06-1d0d-4427-a2e3-8a5008262ab0 button.colab-df-convert');\n",
              "        buttonEl.style.display =\n",
              "          google.colab.kernel.accessAllowed ? 'block' : 'none';\n",
              "\n",
              "        async function convertToInteractive(key) {\n",
              "          const element = document.querySelector('#df-e6f66d06-1d0d-4427-a2e3-8a5008262ab0');\n",
              "          const dataTable =\n",
              "            await google.colab.kernel.invokeFunction('convertToInteractive',\n",
              "                                                     [key], {});\n",
              "          if (!dataTable) return;\n",
              "\n",
              "          const docLinkHtml = 'Like what you see? Visit the ' +\n",
              "            '<a target=\"_blank\" href=https://colab.research.google.com/notebooks/data_table.ipynb>data table notebook</a>'\n",
              "            + ' to learn more about interactive tables.';\n",
              "          element.innerHTML = '';\n",
              "          dataTable['output_type'] = 'display_data';\n",
              "          await google.colab.output.renderOutput(dataTable, element);\n",
              "          const docLink = document.createElement('div');\n",
              "          docLink.innerHTML = docLinkHtml;\n",
              "          element.appendChild(docLink);\n",
              "        }\n",
              "      </script>\n",
              "    </div>\n",
              "  </div>\n",
              "  "
            ]
          },
          "metadata": {},
          "execution_count": 21
        }
      ]
    },
    {
      "cell_type": "code",
      "source": [
        "sns.countplot(y ='Blood Pressure', data = data)\n",
        "plt.title(\"Blood Pressure Count\")\n",
        "plt.show()"
      ],
      "metadata": {
        "colab": {
          "base_uri": "https://localhost:8080/",
          "height": 295
        },
        "id": "m6m6n0Q2MQMS",
        "outputId": "a7511828-0d9b-4f23-e296-c9426daa6d04"
      },
      "id": "m6m6n0Q2MQMS",
      "execution_count": null,
      "outputs": [
        {
          "output_type": "display_data",
          "data": {
            "text/plain": [
              "<Figure size 432x288 with 1 Axes>"
            ],
            "image/png": "[encoded data removed]"
          },
          "metadata": {
            "needs_background": "light"
          }
        }
      ]
    },
    {
      "cell_type": "code",
      "source": [
        "sns.factorplot(x='Caesarian', col='Blood Pressure', kind='count', data=data)"
      ],
      "metadata": {
        "colab": {
          "base_uri": "https://localhost:8080/",
          "height": 409
        },
        "id": "Qmui8cmEI6mE",
        "outputId": "1519a27d-c21d-4b43-fa0f-e6aaf49e0e84"
      },
      "id": "Qmui8cmEI6mE",
      "execution_count": null,
      "outputs": [
        {
          "output_type": "stream",
          "name": "stderr",
          "text": [
            "/usr/local/lib/python3.8/dist-packages/seaborn/categorical.py:3717: UserWarning: The `factorplot` function has been renamed to `catplot`. The original name will be removed in a future release. Please update your code. Note that the default `kind` in `factorplot` (`'point'`) has changed `'strip'` in `catplot`.\n",
            "  warnings.warn(msg)\n"
          ]
        },
        {
          "output_type": "execute_result",
          "data": {
            "text/plain": [
              "<seaborn.axisgrid.FacetGrid at 0x7f6726236820>"
            ]
          },
          "metadata": {},
          "execution_count": 23
        },
        {
          "output_type": "display_data",
          "data": {
            "text/plain": [
              "<Figure size 1080x360 with 3 Axes>"
            ],
            "image/png": "[encoded data removed]"
          },
          "metadata": {
            "needs_background": "light"
          }
        }
      ]
    },
    {
      "cell_type": "code",
      "execution_count": null,
      "id": "25690e54",
      "metadata": {
        "colab": {
          "base_uri": "https://localhost:8080/"
        },
        "id": "25690e54",
        "outputId": "c443e421-94b7-4abd-b3f8-49019575ddbf"
      },
      "outputs": [
        {
          "output_type": "execute_result",
          "data": {
            "text/plain": [
              "0    50\n",
              "1    30\n",
              "Name: Heart Problem, dtype: int64"
            ]
          },
          "metadata": {},
          "execution_count": 24
        }
      ],
      "source": [
        "data['Heart Problem'].value_counts()"
      ]
    },
    {
      "cell_type": "code",
      "source": [
        "data.groupby(\"Heart Problem\").agg({\"Caesarian\":\"count\"})"
      ],
      "metadata": {
        "colab": {
          "base_uri": "https://localhost:8080/",
          "height": 143
        },
        "id": "Qs5lhSZJU6Ww",
        "outputId": "54b9de46-ba20-4fb2-e4d1-b807b87ff967"
      },
      "id": "Qs5lhSZJU6Ww",
      "execution_count": null,
      "outputs": [
        {
          "output_type": "execute_result",
          "data": {
            "text/plain": [
              "               Caesarian\n",
              "Heart Problem           \n",
              "0                     50\n",
              "1                     30"
            ],
            "text/html": [
              "\n",
              "  <div id=\"df-040ece2f-3bdb-454b-9003-798e65ee0e57\">\n",
              "    <div class=\"colab-df-container\">\n",
              "      <div>\n",
              "<style scoped>\n",
              "    .dataframe tbody tr th:only-of-type {\n",
              "        vertical-align: middle;\n",
              "    }\n",
              "\n",
              "    .dataframe tbody tr th {\n",
              "        vertical-align: top;\n",
              "    }\n",
              "\n",
              "    .dataframe thead th {\n",
              "        text-align: right;\n",
              "    }\n",
              "</style>\n",
              "<table border=\"1\" class=\"dataframe\">\n",
              "  <thead>\n",
              "    <tr style=\"text-align: right;\">\n",
              "      <th></th>\n",
              "      <th>Caesarian</th>\n",
              "    </tr>\n",
              "    <tr>\n",
              "      <th>Heart Problem</th>\n",
              "      <th></th>\n",
              "    </tr>\n",
              "  </thead>\n",
              "  <tbody>\n",
              "    <tr>\n",
              "      <th>0</th>\n",
              "      <td>50</td>\n",
              "    </tr>\n",
              "    <tr>\n",
              "      <th>1</th>\n",
              "      <td>30</td>\n",
              "    </tr>\n",
              "  </tbody>\n",
              "</table>\n",
              "</div>\n",
              "      <button class=\"colab-df-convert\" onclick=\"convertToInteractive('df-040ece2f-3bdb-454b-9003-798e65ee0e57')\"\n",
              "              title=\"Convert this dataframe to an interactive table.\"\n",
              "              style=\"display:none;\">\n",
              "        \n",
              "  <svg xmlns=\"http://www.w3.org/2000/svg\" height=\"24px\"viewBox=\"0 0 24 24\"\n",
              "       width=\"24px\">\n",
              "    <path d=\"M0 0h24v24H0V0z\" fill=\"none\"/>\n",
              "    <path d=\"M18.56 5.44l.94 2.06.94-2.06 2.06-.94-2.06-.94-.94-2.06-.94 2.06-2.06.94zm-11 1L8.5 8.5l.94-2.06 2.06-.94-2.06-.94L8.5 2.5l-.94 2.06-2.06.94zm10 10l.94 2.06.94-2.06 2.06-.94-2.06-.94-.94-2.06-.94 2.06-2.06.94z\"/><path d=\"M17.41 7.96l-1.37-1.37c-.4-.4-.92-.59-1.43-.59-.52 0-1.04.2-1.43.59L10.3 9.45l-7.72 7.72c-.78.78-.78 2.05 0 2.83L4 21.41c.39.39.9.59 1.41.59.51 0 1.02-.2 1.41-.59l7.78-7.78 2.81-2.81c.8-.78.8-2.07 0-2.86zM5.41 20L4 18.59l7.72-7.72 1.47 1.35L5.41 20z\"/>\n",
              "  </svg>\n",
              "      </button>\n",
              "      \n",
              "  <style>\n",
              "    .colab-df-container {\n",
              "      display:flex;\n",
              "      flex-wrap:wrap;\n",
              "      gap: 12px;\n",
              "    }\n",
              "\n",
              "    .colab-df-convert {\n",
              "      background-color: #E8F0FE;\n",
              "      border: none;\n",
              "      border-radius: 50%;\n",
              "      cursor: pointer;\n",
              "      display: none;\n",
              "      fill: #1967D2;\n",
              "      height: 32px;\n",
              "      padding: 0 0 0 0;\n",
              "      width: 32px;\n",
              "    }\n",
              "\n",
              "    .colab-df-convert:hover {\n",
              "      background-color: #E2EBFA;\n",
              "      box-shadow: 0px 1px 2px rgba(60, 64, 67, 0.3), 0px 1px 3px 1px rgba(60, 64, 67, 0.15);\n",
              "      fill: #174EA6;\n",
              "    }\n",
              "\n",
              "    [theme=dark] .colab-df-convert {\n",
              "      background-color: #3B4455;\n",
              "      fill: #D2E3FC;\n",
              "    }\n",
              "\n",
              "    [theme=dark] .colab-df-convert:hover {\n",
              "      background-color: #434B5C;\n",
              "      box-shadow: 0px 1px 3px 1px rgba(0, 0, 0, 0.15);\n",
              "      filter: drop-shadow(0px 1px 2px rgba(0, 0, 0, 0.3));\n",
              "      fill: #FFFFFF;\n",
              "    }\n",
              "  </style>\n",
              "\n",
              "      <script>\n",
              "        const buttonEl =\n",
              "          document.querySelector('#df-040ece2f-3bdb-454b-9003-798e65ee0e57 button.colab-df-convert');\n",
              "        buttonEl.style.display =\n",
              "          google.colab.kernel.accessAllowed ? 'block' : 'none';\n",
              "\n",
              "        async function convertToInteractive(key) {\n",
              "          const element = document.querySelector('#df-040ece2f-3bdb-454b-9003-798e65ee0e57');\n",
              "          const dataTable =\n",
              "            await google.colab.kernel.invokeFunction('convertToInteractive',\n",
              "                                                     [key], {});\n",
              "          if (!dataTable) return;\n",
              "\n",
              "          const docLinkHtml = 'Like what you see? Visit the ' +\n",
              "            '<a target=\"_blank\" href=https://colab.research.google.com/notebooks/data_table.ipynb>data table notebook</a>'\n",
              "            + ' to learn more about interactive tables.';\n",
              "          element.innerHTML = '';\n",
              "          dataTable['output_type'] = 'display_data';\n",
              "          await google.colab.output.renderOutput(dataTable, element);\n",
              "          const docLink = document.createElement('div');\n",
              "          docLink.innerHTML = docLinkHtml;\n",
              "          element.appendChild(docLink);\n",
              "        }\n",
              "      </script>\n",
              "    </div>\n",
              "  </div>\n",
              "  "
            ]
          },
          "metadata": {},
          "execution_count": 25
        }
      ]
    },
    {
      "cell_type": "code",
      "source": [
        "sns.countplot(x ='Heart Problem', data = data)\n",
        "plt.title(\"Heart Problem Count\")\n",
        "plt.show()"
      ],
      "metadata": {
        "colab": {
          "base_uri": "https://localhost:8080/",
          "height": 295
        },
        "id": "44CNMr8NMLHc",
        "outputId": "7b7482e2-8087-4115-e3fc-9ed79a1c4281"
      },
      "id": "44CNMr8NMLHc",
      "execution_count": null,
      "outputs": [
        {
          "output_type": "display_data",
          "data": {
            "text/plain": [
              "<Figure size 432x288 with 1 Axes>"
            ],
            "image/png": "[encoded data removed]"
          },
          "metadata": {
            "needs_background": "light"
          }
        }
      ]
    },
    {
      "cell_type": "code",
      "source": [
        "sns.factorplot(x='Caesarian', col='Heart Problem', kind='count', data=data)"
      ],
      "metadata": {
        "colab": {
          "base_uri": "https://localhost:8080/",
          "height": 441
        },
        "id": "3fr4kq9YJ5uG",
        "outputId": "c28de2a5-2ec7-45b7-b8c6-10ecfbff8675"
      },
      "id": "3fr4kq9YJ5uG",
      "execution_count": null,
      "outputs": [
        {
          "output_type": "stream",
          "name": "stderr",
          "text": [
            "/usr/local/lib/python3.8/dist-packages/seaborn/categorical.py:3717: UserWarning: The `factorplot` function has been renamed to `catplot`. The original name will be removed in a future release. Please update your code. Note that the default `kind` in `factorplot` (`'point'`) has changed `'strip'` in `catplot`.\n",
            "  warnings.warn(msg)\n"
          ]
        },
        {
          "output_type": "execute_result",
          "data": {
            "text/plain": [
              "<seaborn.axisgrid.FacetGrid at 0x7f672605b5b0>"
            ]
          },
          "metadata": {},
          "execution_count": 27
        },
        {
          "output_type": "display_data",
          "data": {
            "text/plain": [
              "<Figure size 720x360 with 2 Axes>"
            ],
            "image/png": "[encoded data removed]"
          },
          "metadata": {
            "needs_background": "light"
          }
        }
      ]
    },
    {
      "cell_type": "code",
      "execution_count": null,
      "id": "e1e85636",
      "metadata": {
        "id": "e1e85636",
        "colab": {
          "base_uri": "https://localhost:8080/"
        },
        "outputId": "b542579b-77b6-46b4-965e-05a2f833c20a"
      },
      "outputs": [
        {
          "output_type": "execute_result",
          "data": {
            "text/plain": [
              "1    41\n",
              "2    27\n",
              "3    10\n",
              "4     2\n",
              "Name: Delivery Number, dtype: int64"
            ]
          },
          "metadata": {},
          "execution_count": 28
        }
      ],
      "source": [
        "data['Delivery Number'].value_counts()"
      ]
    },
    {
      "cell_type": "code",
      "source": [
        "data.groupby(\"Delivery Number\").agg({\"Caesarian\":\"count\"})"
      ],
      "metadata": {
        "colab": {
          "base_uri": "https://localhost:8080/",
          "height": 206
        },
        "id": "3pSUenaJWicQ",
        "outputId": "7c7b2ab5-bdd3-40cf-b3e2-037e144a7ca5"
      },
      "id": "3pSUenaJWicQ",
      "execution_count": null,
      "outputs": [
        {
          "output_type": "execute_result",
          "data": {
            "text/plain": [
              "                 Caesarian\n",
              "Delivery Number           \n",
              "1                       41\n",
              "2                       27\n",
              "3                       10\n",
              "4                        2"
            ],
            "text/html": [
              "\n",
              "  <div id=\"df-a9e49ac0-e169-4735-9be5-fe44142833c7\">\n",
              "    <div class=\"colab-df-container\">\n",
              "      <div>\n",
              "<style scoped>\n",
              "    .dataframe tbody tr th:only-of-type {\n",
              "        vertical-align: middle;\n",
              "    }\n",
              "\n",
              "    .dataframe tbody tr th {\n",
              "        vertical-align: top;\n",
              "    }\n",
              "\n",
              "    .dataframe thead th {\n",
              "        text-align: right;\n",
              "    }\n",
              "</style>\n",
              "<table border=\"1\" class=\"dataframe\">\n",
              "  <thead>\n",
              "    <tr style=\"text-align: right;\">\n",
              "      <th></th>\n",
              "      <th>Caesarian</th>\n",
              "    </tr>\n",
              "    <tr>\n",
              "      <th>Delivery Number</th>\n",
              "      <th></th>\n",
              "    </tr>\n",
              "  </thead>\n",
              "  <tbody>\n",
              "    <tr>\n",
              "      <th>1</th>\n",
              "      <td>41</td>\n",
              "    </tr>\n",
              "    <tr>\n",
              "      <th>2</th>\n",
              "      <td>27</td>\n",
              "    </tr>\n",
              "    <tr>\n",
              "      <th>3</th>\n",
              "      <td>10</td>\n",
              "    </tr>\n",
              "    <tr>\n",
              "      <th>4</th>\n",
              "      <td>2</td>\n",
              "    </tr>\n",
              "  </tbody>\n",
              "</table>\n",
              "</div>\n",
              "      <button class=\"colab-df-convert\" onclick=\"convertToInteractive('df-a9e49ac0-e169-4735-9be5-fe44142833c7')\"\n",
              "              title=\"Convert this dataframe to an interactive table.\"\n",
              "              style=\"display:none;\">\n",
              "        \n",
              "  <svg xmlns=\"http://www.w3.org/2000/svg\" height=\"24px\"viewBox=\"0 0 24 24\"\n",
              "       width=\"24px\">\n",
              "    <path d=\"M0 0h24v24H0V0z\" fill=\"none\"/>\n",
              "    <path d=\"M18.56 5.44l.94 2.06.94-2.06 2.06-.94-2.06-.94-.94-2.06-.94 2.06-2.06.94zm-11 1L8.5 8.5l.94-2.06 2.06-.94-2.06-.94L8.5 2.5l-.94 2.06-2.06.94zm10 10l.94 2.06.94-2.06 2.06-.94-2.06-.94-.94-2.06-.94 2.06-2.06.94z\"/><path d=\"M17.41 7.96l-1.37-1.37c-.4-.4-.92-.59-1.43-.59-.52 0-1.04.2-1.43.59L10.3 9.45l-7.72 7.72c-.78.78-.78 2.05 0 2.83L4 21.41c.39.39.9.59 1.41.59.51 0 1.02-.2 1.41-.59l7.78-7.78 2.81-2.81c.8-.78.8-2.07 0-2.86zM5.41 20L4 18.59l7.72-7.72 1.47 1.35L5.41 20z\"/>\n",
              "  </svg>\n",
              "      </button>\n",
              "      \n",
              "  <style>\n",
              "    .colab-df-container {\n",
              "      display:flex;\n",
              "      flex-wrap:wrap;\n",
              "      gap: 12px;\n",
              "    }\n",
              "\n",
              "    .colab-df-convert {\n",
              "      background-color: #E8F0FE;\n",
              "      border: none;\n",
              "      border-radius: 50%;\n",
              "      cursor: pointer;\n",
              "      display: none;\n",
              "      fill: #1967D2;\n",
              "      height: 32px;\n",
              "      padding: 0 0 0 0;\n",
              "      width: 32px;\n",
              "    }\n",
              "\n",
              "    .colab-df-convert:hover {\n",
              "      background-color: #E2EBFA;\n",
              "      box-shadow: 0px 1px 2px rgba(60, 64, 67, 0.3), 0px 1px 3px 1px rgba(60, 64, 67, 0.15);\n",
              "      fill: #174EA6;\n",
              "    }\n",
              "\n",
              "    [theme=dark] .colab-df-convert {\n",
              "      background-color: #3B4455;\n",
              "      fill: #D2E3FC;\n",
              "    }\n",
              "\n",
              "    [theme=dark] .colab-df-convert:hover {\n",
              "      background-color: #434B5C;\n",
              "      box-shadow: 0px 1px 3px 1px rgba(0, 0, 0, 0.15);\n",
              "      filter: drop-shadow(0px 1px 2px rgba(0, 0, 0, 0.3));\n",
              "      fill: #FFFFFF;\n",
              "    }\n",
              "  </style>\n",
              "\n",
              "      <script>\n",
              "        const buttonEl =\n",
              "          document.querySelector('#df-a9e49ac0-e169-4735-9be5-fe44142833c7 button.colab-df-convert');\n",
              "        buttonEl.style.display =\n",
              "          google.colab.kernel.accessAllowed ? 'block' : 'none';\n",
              "\n",
              "        async function convertToInteractive(key) {\n",
              "          const element = document.querySelector('#df-a9e49ac0-e169-4735-9be5-fe44142833c7');\n",
              "          const dataTable =\n",
              "            await google.colab.kernel.invokeFunction('convertToInteractive',\n",
              "                                                     [key], {});\n",
              "          if (!dataTable) return;\n",
              "\n",
              "          const docLinkHtml = 'Like what you see? Visit the ' +\n",
              "            '<a target=\"_blank\" href=https://colab.research.google.com/notebooks/data_table.ipynb>data table notebook</a>'\n",
              "            + ' to learn more about interactive tables.';\n",
              "          element.innerHTML = '';\n",
              "          dataTable['output_type'] = 'display_data';\n",
              "          await google.colab.output.renderOutput(dataTable, element);\n",
              "          const docLink = document.createElement('div');\n",
              "          docLink.innerHTML = docLinkHtml;\n",
              "          element.appendChild(docLink);\n",
              "        }\n",
              "      </script>\n",
              "    </div>\n",
              "  </div>\n",
              "  "
            ]
          },
          "metadata": {},
          "execution_count": 29
        }
      ]
    },
    {
      "cell_type": "code",
      "source": [
        "sns.countplot(x ='Delivery Number', data = data)\n",
        "plt.title(\"Delivery Number Count\")\n",
        "plt.show()"
      ],
      "metadata": {
        "colab": {
          "base_uri": "https://localhost:8080/",
          "height": 295
        },
        "id": "Gf5gpGDTMB0i",
        "outputId": "fe348b3c-0ea5-4c6e-df93-29628229196f"
      },
      "id": "Gf5gpGDTMB0i",
      "execution_count": null,
      "outputs": [
        {
          "output_type": "display_data",
          "data": {
            "text/plain": [
              "<Figure size 432x288 with 1 Axes>"
            ],
            "image/png": "[encoded data removed]"
          },
          "metadata": {
            "needs_background": "light"
          }
        }
      ]
    },
    {
      "cell_type": "code",
      "source": [
        "CrosstabResult=pd.crosstab(index=data['Delivery Number'],columns=data['Caesarian'])\n",
        "CrosstabResult.plot.bar(figsize=(6,6), rot=4) "
      ],
      "metadata": {
        "colab": {
          "base_uri": "https://localhost:8080/",
          "height": 405
        },
        "id": "7qdyHI3lKbYA",
        "outputId": "842a6000-28c1-4319-a1c1-9bfdc80fbf08"
      },
      "id": "7qdyHI3lKbYA",
      "execution_count": null,
      "outputs": [
        {
          "output_type": "execute_result",
          "data": {
            "text/plain": [
              "<AxesSubplot:xlabel='Delivery Number'>"
            ]
          },
          "metadata": {},
          "execution_count": 31
        },
        {
          "output_type": "display_data",
          "data": {
            "text/plain": [
              "<Figure size 432x432 with 1 Axes>"
            ],
            "image/png": "[encoded data removed]"
          },
          "metadata": {
            "needs_background": "light"
          }
        }
      ]
    },
    {
      "cell_type": "code",
      "source": [
        "data[\"Age\"].hist(edgecolor = \"black\")"
      ],
      "metadata": {
        "colab": {
          "base_uri": "https://localhost:8080/",
          "height": 282
        },
        "id": "39WlcWt15aq6",
        "outputId": "67ada7b1-cdae-40ec-bd36-ab925a69d8f8"
      },
      "id": "39WlcWt15aq6",
      "execution_count": null,
      "outputs": [
        {
          "output_type": "execute_result",
          "data": {
            "text/plain": [
              "<AxesSubplot:>"
            ]
          },
          "metadata": {},
          "execution_count": 32
        },
        {
          "output_type": "display_data",
          "data": {
            "text/plain": [
              "<Figure size 432x288 with 1 Axes>"
            ],
            "image/png": "[encoded data removed]"
          },
          "metadata": {
            "needs_background": "light"
          }
        }
      ]
    },
    {
      "cell_type": "code",
      "source": [
        "sns.boxplot(x = data[\"Age\"]);"
      ],
      "metadata": {
        "colab": {
          "base_uri": "https://localhost:8080/",
          "height": 279
        },
        "id": "LFIub6wGX_fb",
        "outputId": "0816957c-2769-4fd0-cf94-b73b369e3abf"
      },
      "id": "LFIub6wGX_fb",
      "execution_count": null,
      "outputs": [
        {
          "output_type": "display_data",
          "data": {
            "text/plain": [
              "<Figure size 432x288 with 1 Axes>"
            ],
            "image/png": "[encoded data removed]"
          },
          "metadata": {
            "needs_background": "light"
          }
        }
      ]
    },
    {
      "cell_type": "code",
      "source": [
        "print(\"Maximum Age: \" + str(data[\"Age\"].max()) + \" Minimum Age: \" + str(data[\"Age\"].min()))"
      ],
      "metadata": {
        "colab": {
          "base_uri": "https://localhost:8080/"
        },
        "id": "9cugT7PtUviq",
        "outputId": "ea3ac3e4-a740-4fbb-808f-802ce97ed9fc"
      },
      "id": "9cugT7PtUviq",
      "execution_count": null,
      "outputs": [
        {
          "output_type": "stream",
          "name": "stdout",
          "text": [
            "Maximum Age: 40 Minimum Age: 17\n"
          ]
        }
      ]
    },
    {
      "cell_type": "code",
      "source": [
        "data.groupby(\"Caesarian\").agg({\"Age\":\"max\"})"
      ],
      "metadata": {
        "colab": {
          "base_uri": "https://localhost:8080/",
          "height": 143
        },
        "id": "P0Kn4qv0WwBz",
        "outputId": "e10ad26e-38ec-49cc-d8b4-a6dc78d6d989"
      },
      "id": "P0Kn4qv0WwBz",
      "execution_count": null,
      "outputs": [
        {
          "output_type": "execute_result",
          "data": {
            "text/plain": [
              "           Age\n",
              "Caesarian     \n",
              "0           36\n",
              "1           40"
            ],
            "text/html": [
              "\n",
              "  <div id=\"df-ec1719b0-b3ca-490b-9a18-c1268d95fbe1\">\n",
              "    <div class=\"colab-df-container\">\n",
              "      <div>\n",
              "<style scoped>\n",
              "    .dataframe tbody tr th:only-of-type {\n",
              "        vertical-align: middle;\n",
              "    }\n",
              "\n",
              "    .dataframe tbody tr th {\n",
              "        vertical-align: top;\n",
              "    }\n",
              "\n",
              "    .dataframe thead th {\n",
              "        text-align: right;\n",
              "    }\n",
              "</style>\n",
              "<table border=\"1\" class=\"dataframe\">\n",
              "  <thead>\n",
              "    <tr style=\"text-align: right;\">\n",
              "      <th></th>\n",
              "      <th>Age</th>\n",
              "    </tr>\n",
              "    <tr>\n",
              "      <th>Caesarian</th>\n",
              "      <th></th>\n",
              "    </tr>\n",
              "  </thead>\n",
              "  <tbody>\n",
              "    <tr>\n",
              "      <th>0</th>\n",
              "      <td>36</td>\n",
              "    </tr>\n",
              "    <tr>\n",
              "      <th>1</th>\n",
              "      <td>40</td>\n",
              "    </tr>\n",
              "  </tbody>\n",
              "</table>\n",
              "</div>\n",
              "      <button class=\"colab-df-convert\" onclick=\"convertToInteractive('df-ec1719b0-b3ca-490b-9a18-c1268d95fbe1')\"\n",
              "              title=\"Convert this dataframe to an interactive table.\"\n",
              "              style=\"display:none;\">\n",
              "        \n",
              "  <svg xmlns=\"http://www.w3.org/2000/svg\" height=\"24px\"viewBox=\"0 0 24 24\"\n",
              "       width=\"24px\">\n",
              "    <path d=\"M0 0h24v24H0V0z\" fill=\"none\"/>\n",
              "    <path d=\"M18.56 5.44l.94 2.06.94-2.06 2.06-.94-2.06-.94-.94-2.06-.94 2.06-2.06.94zm-11 1L8.5 8.5l.94-2.06 2.06-.94-2.06-.94L8.5 2.5l-.94 2.06-2.06.94zm10 10l.94 2.06.94-2.06 2.06-.94-2.06-.94-.94-2.06-.94 2.06-2.06.94z\"/><path d=\"M17.41 7.96l-1.37-1.37c-.4-.4-.92-.59-1.43-.59-.52 0-1.04.2-1.43.59L10.3 9.45l-7.72 7.72c-.78.78-.78 2.05 0 2.83L4 21.41c.39.39.9.59 1.41.59.51 0 1.02-.2 1.41-.59l7.78-7.78 2.81-2.81c.8-.78.8-2.07 0-2.86zM5.41 20L4 18.59l7.72-7.72 1.47 1.35L5.41 20z\"/>\n",
              "  </svg>\n",
              "      </button>\n",
              "      \n",
              "  <style>\n",
              "    .colab-df-container {\n",
              "      display:flex;\n",
              "      flex-wrap:wrap;\n",
              "      gap: 12px;\n",
              "    }\n",
              "\n",
              "    .colab-df-convert {\n",
              "      background-color: #E8F0FE;\n",
              "      border: none;\n",
              "      border-radius: 50%;\n",
              "      cursor: pointer;\n",
              "      display: none;\n",
              "      fill: #1967D2;\n",
              "      height: 32px;\n",
              "      padding: 0 0 0 0;\n",
              "      width: 32px;\n",
              "    }\n",
              "\n",
              "    .colab-df-convert:hover {\n",
              "      background-color: #E2EBFA;\n",
              "      box-shadow: 0px 1px 2px rgba(60, 64, 67, 0.3), 0px 1px 3px 1px rgba(60, 64, 67, 0.15);\n",
              "      fill: #174EA6;\n",
              "    }\n",
              "\n",
              "    [theme=dark] .colab-df-convert {\n",
              "      background-color: #3B4455;\n",
              "      fill: #D2E3FC;\n",
              "    }\n",
              "\n",
              "    [theme=dark] .colab-df-convert:hover {\n",
              "      background-color: #434B5C;\n",
              "      box-shadow: 0px 1px 3px 1px rgba(0, 0, 0, 0.15);\n",
              "      filter: drop-shadow(0px 1px 2px rgba(0, 0, 0, 0.3));\n",
              "      fill: #FFFFFF;\n",
              "    }\n",
              "  </style>\n",
              "\n",
              "      <script>\n",
              "        const buttonEl =\n",
              "          document.querySelector('#df-ec1719b0-b3ca-490b-9a18-c1268d95fbe1 button.colab-df-convert');\n",
              "        buttonEl.style.display =\n",
              "          google.colab.kernel.accessAllowed ? 'block' : 'none';\n",
              "\n",
              "        async function convertToInteractive(key) {\n",
              "          const element = document.querySelector('#df-ec1719b0-b3ca-490b-9a18-c1268d95fbe1');\n",
              "          const dataTable =\n",
              "            await google.colab.kernel.invokeFunction('convertToInteractive',\n",
              "                                                     [key], {});\n",
              "          if (!dataTable) return;\n",
              "\n",
              "          const docLinkHtml = 'Like what you see? Visit the ' +\n",
              "            '<a target=\"_blank\" href=https://colab.research.google.com/notebooks/data_table.ipynb>data table notebook</a>'\n",
              "            + ' to learn more about interactive tables.';\n",
              "          element.innerHTML = '';\n",
              "          dataTable['output_type'] = 'display_data';\n",
              "          await google.colab.output.renderOutput(dataTable, element);\n",
              "          const docLink = document.createElement('div');\n",
              "          docLink.innerHTML = docLinkHtml;\n",
              "          element.appendChild(docLink);\n",
              "        }\n",
              "      </script>\n",
              "    </div>\n",
              "  </div>\n",
              "  "
            ]
          },
          "metadata": {},
          "execution_count": 35
        }
      ]
    },
    {
      "cell_type": "code",
      "source": [
        "data.groupby(\"Caesarian\").agg({\"Age\":\"min\"})"
      ],
      "metadata": {
        "colab": {
          "base_uri": "https://localhost:8080/",
          "height": 143
        },
        "id": "wTGeE3cFW6iE",
        "outputId": "37e3ec52-242e-49b1-c63d-96c1fc43118f"
      },
      "id": "wTGeE3cFW6iE",
      "execution_count": null,
      "outputs": [
        {
          "output_type": "execute_result",
          "data": {
            "text/plain": [
              "           Age\n",
              "Caesarian     \n",
              "0           18\n",
              "1           17"
            ],
            "text/html": [
              "\n",
              "  <div id=\"df-86c76d85-aaa6-4a98-9ee2-766e57b0ab99\">\n",
              "    <div class=\"colab-df-container\">\n",
              "      <div>\n",
              "<style scoped>\n",
              "    .dataframe tbody tr th:only-of-type {\n",
              "        vertical-align: middle;\n",
              "    }\n",
              "\n",
              "    .dataframe tbody tr th {\n",
              "        vertical-align: top;\n",
              "    }\n",
              "\n",
              "    .dataframe thead th {\n",
              "        text-align: right;\n",
              "    }\n",
              "</style>\n",
              "<table border=\"1\" class=\"dataframe\">\n",
              "  <thead>\n",
              "    <tr style=\"text-align: right;\">\n",
              "      <th></th>\n",
              "      <th>Age</th>\n",
              "    </tr>\n",
              "    <tr>\n",
              "      <th>Caesarian</th>\n",
              "      <th></th>\n",
              "    </tr>\n",
              "  </thead>\n",
              "  <tbody>\n",
              "    <tr>\n",
              "      <th>0</th>\n",
              "      <td>18</td>\n",
              "    </tr>\n",
              "    <tr>\n",
              "      <th>1</th>\n",
              "      <td>17</td>\n",
              "    </tr>\n",
              "  </tbody>\n",
              "</table>\n",
              "</div>\n",
              "      <button class=\"colab-df-convert\" onclick=\"convertToInteractive('df-86c76d85-aaa6-4a98-9ee2-766e57b0ab99')\"\n",
              "              title=\"Convert this dataframe to an interactive table.\"\n",
              "              style=\"display:none;\">\n",
              "        \n",
              "  <svg xmlns=\"http://www.w3.org/2000/svg\" height=\"24px\"viewBox=\"0 0 24 24\"\n",
              "       width=\"24px\">\n",
              "    <path d=\"M0 0h24v24H0V0z\" fill=\"none\"/>\n",
              "    <path d=\"M18.56 5.44l.94 2.06.94-2.06 2.06-.94-2.06-.94-.94-2.06-.94 2.06-2.06.94zm-11 1L8.5 8.5l.94-2.06 2.06-.94-2.06-.94L8.5 2.5l-.94 2.06-2.06.94zm10 10l.94 2.06.94-2.06 2.06-.94-2.06-.94-.94-2.06-.94 2.06-2.06.94z\"/><path d=\"M17.41 7.96l-1.37-1.37c-.4-.4-.92-.59-1.43-.59-.52 0-1.04.2-1.43.59L10.3 9.45l-7.72 7.72c-.78.78-.78 2.05 0 2.83L4 21.41c.39.39.9.59 1.41.59.51 0 1.02-.2 1.41-.59l7.78-7.78 2.81-2.81c.8-.78.8-2.07 0-2.86zM5.41 20L4 18.59l7.72-7.72 1.47 1.35L5.41 20z\"/>\n",
              "  </svg>\n",
              "      </button>\n",
              "      \n",
              "  <style>\n",
              "    .colab-df-container {\n",
              "      display:flex;\n",
              "      flex-wrap:wrap;\n",
              "      gap: 12px;\n",
              "    }\n",
              "\n",
              "    .colab-df-convert {\n",
              "      background-color: #E8F0FE;\n",
              "      border: none;\n",
              "      border-radius: 50%;\n",
              "      cursor: pointer;\n",
              "      display: none;\n",
              "      fill: #1967D2;\n",
              "      height: 32px;\n",
              "      padding: 0 0 0 0;\n",
              "      width: 32px;\n",
              "    }\n",
              "\n",
              "    .colab-df-convert:hover {\n",
              "      background-color: #E2EBFA;\n",
              "      box-shadow: 0px 1px 2px rgba(60, 64, 67, 0.3), 0px 1px 3px 1px rgba(60, 64, 67, 0.15);\n",
              "      fill: #174EA6;\n",
              "    }\n",
              "\n",
              "    [theme=dark] .colab-df-convert {\n",
              "      background-color: #3B4455;\n",
              "      fill: #D2E3FC;\n",
              "    }\n",
              "\n",
              "    [theme=dark] .colab-df-convert:hover {\n",
              "      background-color: #434B5C;\n",
              "      box-shadow: 0px 1px 3px 1px rgba(0, 0, 0, 0.15);\n",
              "      filter: drop-shadow(0px 1px 2px rgba(0, 0, 0, 0.3));\n",
              "      fill: #FFFFFF;\n",
              "    }\n",
              "  </style>\n",
              "\n",
              "      <script>\n",
              "        const buttonEl =\n",
              "          document.querySelector('#df-86c76d85-aaa6-4a98-9ee2-766e57b0ab99 button.colab-df-convert');\n",
              "        buttonEl.style.display =\n",
              "          google.colab.kernel.accessAllowed ? 'block' : 'none';\n",
              "\n",
              "        async function convertToInteractive(key) {\n",
              "          const element = document.querySelector('#df-86c76d85-aaa6-4a98-9ee2-766e57b0ab99');\n",
              "          const dataTable =\n",
              "            await google.colab.kernel.invokeFunction('convertToInteractive',\n",
              "                                                     [key], {});\n",
              "          if (!dataTable) return;\n",
              "\n",
              "          const docLinkHtml = 'Like what you see? Visit the ' +\n",
              "            '<a target=\"_blank\" href=https://colab.research.google.com/notebooks/data_table.ipynb>data table notebook</a>'\n",
              "            + ' to learn more about interactive tables.';\n",
              "          element.innerHTML = '';\n",
              "          dataTable['output_type'] = 'display_data';\n",
              "          await google.colab.output.renderOutput(dataTable, element);\n",
              "          const docLink = document.createElement('div');\n",
              "          docLink.innerHTML = docLinkHtml;\n",
              "          element.appendChild(docLink);\n",
              "        }\n",
              "      </script>\n",
              "    </div>\n",
              "  </div>\n",
              "  "
            ]
          },
          "metadata": {},
          "execution_count": 36
        }
      ]
    },
    {
      "cell_type": "code",
      "source": [
        "sns.heatmap(data.corr(),annot=True)"
      ],
      "metadata": {
        "id": "lnFojVODaGxX",
        "colab": {
          "base_uri": "https://localhost:8080/",
          "height": 361
        },
        "outputId": "9e15f880-9e56-49d2-e297-64083bdbcc8a"
      },
      "id": "lnFojVODaGxX",
      "execution_count": null,
      "outputs": [
        {
          "output_type": "execute_result",
          "data": {
            "text/plain": [
              "<AxesSubplot:>"
            ]
          },
          "metadata": {},
          "execution_count": 37
        },
        {
          "output_type": "display_data",
          "data": {
            "text/plain": [
              "<Figure size 432x288 with 2 Axes>"
            ],
            "image/png": "[encoded data removed]"
          },
          "metadata": {
            "needs_background": "light"
          }
        }
      ]
    },
    {
      "cell_type": "markdown",
      "source": [
        "#**BUILDING CLASSIFICATION MODELS**"
      ],
      "metadata": {
        "id": "nGyWMxCsOWqi"
      },
      "id": "nGyWMxCsOWqi"
    },
    {
      "cell_type": "code",
      "source": [
        "#Assigning dependent and independent variables to y and x respectively\n",
        "y = data[\"Caesarian\"]\n",
        "x = data.drop(\"Caesarian\",axis=1)"
      ],
      "metadata": {
        "id": "oT2NHtCtXif9"
      },
      "id": "oT2NHtCtXif9",
      "execution_count": null,
      "outputs": []
    },
    {
      "cell_type": "code",
      "source": [
        "# Splitting the dataset, 80% for training and 20% for testing\n",
        "x_train, x_test, y_train, y_test= train_test_split(x, y, test_size=0.2, random_state=42)"
      ],
      "metadata": {
        "id": "-KFZuuJjZuCE"
      },
      "id": "-KFZuuJjZuCE",
      "execution_count": null,
      "outputs": []
    },
    {
      "cell_type": "markdown",
      "source": [
        "Logistic Regression"
      ],
      "metadata": {
        "id": "zCJRtX2XL2L-"
      },
      "id": "zCJRtX2XL2L-"
    },
    {
      "cell_type": "code",
      "source": [
        "from sklearn.linear_model import LogisticRegression"
      ],
      "metadata": {
        "id": "S40iuel3hUA7"
      },
      "id": "S40iuel3hUA7",
      "execution_count": null,
      "outputs": []
    },
    {
      "cell_type": "code",
      "source": [
        "from sklearn.metrics import classification_report"
      ],
      "metadata": {
        "id": "shEP7PleHu38"
      },
      "id": "shEP7PleHu38",
      "execution_count": null,
      "outputs": []
    },
    {
      "cell_type": "code",
      "source": [
        "logreg = LogisticRegression(max_iter=1000)"
      ],
      "metadata": {
        "id": "ibRSv6neH048"
      },
      "id": "ibRSv6neH048",
      "execution_count": null,
      "outputs": []
    },
    {
      "cell_type": "code",
      "source": [
        "logmodel=logreg.fit(x_train,y_train)"
      ],
      "metadata": {
        "id": "h85-nZxuH5gJ"
      },
      "id": "h85-nZxuH5gJ",
      "execution_count": null,
      "outputs": []
    },
    {
      "cell_type": "code",
      "source": [
        "logmodel.score(x_train,y_train)"
      ],
      "metadata": {
        "colab": {
          "base_uri": "https://localhost:8080/"
        },
        "id": "57As0qGJINZr",
        "outputId": "341adcf5-3003-45f7-e08e-d7767267f29b"
      },
      "id": "57As0qGJINZr",
      "execution_count": null,
      "outputs": [
        {
          "output_type": "execute_result",
          "data": {
            "text/plain": [
              "0.640625"
            ]
          },
          "metadata": {},
          "execution_count": 44
        }
      ]
    },
    {
      "cell_type": "code",
      "source": [
        "logpredict=logmodel.predict(x_test)"
      ],
      "metadata": {
        "id": "diZJFCXGIcJ5"
      },
      "id": "diZJFCXGIcJ5",
      "execution_count": null,
      "outputs": []
    },
    {
      "cell_type": "code",
      "source": [
        "from sklearn import metrics\n",
        "print('Model Accuracy: ',metrics.accuracy_score(y_test,logpredict))"
      ],
      "metadata": {
        "colab": {
          "base_uri": "https://localhost:8080/"
        },
        "id": "YSkS0KVRRDfM",
        "outputId": "d8f38dfb-2b58-4a29-9d2d-8e3c7fc6de84"
      },
      "id": "YSkS0KVRRDfM",
      "execution_count": null,
      "outputs": [
        {
          "output_type": "stream",
          "name": "stdout",
          "text": [
            "Model Accuracy:  0.8125\n"
          ]
        }
      ]
    },
    {
      "cell_type": "code",
      "source": [
        "print(classification_report(y_test,logpredict))"
      ],
      "metadata": {
        "colab": {
          "base_uri": "https://localhost:8080/"
        },
        "id": "JsQZHx5BI1LG",
        "outputId": "d2b6759f-fb0e-44f5-d45c-7e9f4c11713b"
      },
      "id": "JsQZHx5BI1LG",
      "execution_count": null,
      "outputs": [
        {
          "output_type": "stream",
          "name": "stdout",
          "text": [
            "              precision    recall  f1-score   support\n",
            "\n",
            "           0       1.00      0.50      0.67         6\n",
            "           1       0.77      1.00      0.87        10\n",
            "\n",
            "    accuracy                           0.81        16\n",
            "   macro avg       0.88      0.75      0.77        16\n",
            "weighted avg       0.86      0.81      0.79        16\n",
            "\n"
          ]
        }
      ]
    },
    {
      "cell_type": "code",
      "source": [
        "ConfusionMatrixDisplay.from_predictions(y_test,logpredict)\n"
      ],
      "metadata": {
        "id": "nE_5YgpuMBW2",
        "colab": {
          "base_uri": "https://localhost:8080/",
          "height": 300
        },
        "outputId": "af5da869-a2a8-4398-c683-5372b8e9ea5f"
      },
      "id": "nE_5YgpuMBW2",
      "execution_count": null,
      "outputs": [
        {
          "output_type": "execute_result",
          "data": {
            "text/plain": [
              "<sklearn.metrics._plot.confusion_matrix.ConfusionMatrixDisplay at 0x7f67259c7520>"
            ]
          },
          "metadata": {},
          "execution_count": 48
        },
        {
          "output_type": "display_data",
          "data": {
            "text/plain": [
              "<Figure size 432x288 with 2 Axes>"
            ],
            "image/png": "[encoded data removed]"
          },
          "metadata": {
            "needs_background": "light"
          }
        }
      ]
    },
    {
      "cell_type": "markdown",
      "source": [
        "Decision Tree Classifier"
      ],
      "metadata": {
        "id": "HCfywV7jLu-G"
      },
      "id": "HCfywV7jLu-G"
    },
    {
      "cell_type": "code",
      "source": [
        "from sklearn.tree import DecisionTreeClassifier  "
      ],
      "metadata": {
        "id": "FKnkGD5fJcXw"
      },
      "id": "FKnkGD5fJcXw",
      "execution_count": null,
      "outputs": []
    },
    {
      "cell_type": "code",
      "source": [
        "dtree=DecisionTreeClassifier()"
      ],
      "metadata": {
        "id": "qUdHX-G5Jvam"
      },
      "id": "qUdHX-G5Jvam",
      "execution_count": null,
      "outputs": []
    },
    {
      "cell_type": "code",
      "source": [
        "dtreemodel=dtree.fit(x_train,y_train)"
      ],
      "metadata": {
        "id": "MJf1-F8-Jyo0"
      },
      "id": "MJf1-F8-Jyo0",
      "execution_count": null,
      "outputs": []
    },
    {
      "cell_type": "code",
      "source": [
        "dtreemodel.score(x_train,y_train)"
      ],
      "metadata": {
        "id": "uqKztXHuJ4Kc",
        "colab": {
          "base_uri": "https://localhost:8080/"
        },
        "outputId": "414d3df7-2a8b-4e51-cff2-7bf2c640ac33"
      },
      "id": "uqKztXHuJ4Kc",
      "execution_count": null,
      "outputs": [
        {
          "output_type": "execute_result",
          "data": {
            "text/plain": [
              "0.96875"
            ]
          },
          "metadata": {},
          "execution_count": 52
        }
      ]
    },
    {
      "cell_type": "code",
      "source": [
        "dtreepredict=dtreemodel.predict(x_test)"
      ],
      "metadata": {
        "id": "V1sibcL0J9vb"
      },
      "id": "V1sibcL0J9vb",
      "execution_count": null,
      "outputs": []
    },
    {
      "cell_type": "code",
      "source": [
        "print('Accuracy of model is',metrics.accuracy_score(y_test,dtreepredict))"
      ],
      "metadata": {
        "colab": {
          "base_uri": "https://localhost:8080/"
        },
        "id": "2VOICea9RKRj",
        "outputId": "29e71141-1158-42fc-ff4f-0c368d6cca7e"
      },
      "id": "2VOICea9RKRj",
      "execution_count": null,
      "outputs": [
        {
          "output_type": "stream",
          "name": "stdout",
          "text": [
            "Accuracy of model is 0.4375\n"
          ]
        }
      ]
    },
    {
      "cell_type": "code",
      "source": [
        "print(classification_report(y_test,dtreepredict))"
      ],
      "metadata": {
        "id": "UcCDHy11KP-l",
        "colab": {
          "base_uri": "https://localhost:8080/"
        },
        "outputId": "d77cd232-5348-4730-ad65-5f182e109bfc"
      },
      "id": "UcCDHy11KP-l",
      "execution_count": null,
      "outputs": [
        {
          "output_type": "stream",
          "name": "stdout",
          "text": [
            "              precision    recall  f1-score   support\n",
            "\n",
            "           0       0.33      0.50      0.40         6\n",
            "           1       0.57      0.40      0.47        10\n",
            "\n",
            "    accuracy                           0.44        16\n",
            "   macro avg       0.45      0.45      0.44        16\n",
            "weighted avg       0.48      0.44      0.44        16\n",
            "\n"
          ]
        }
      ]
    },
    {
      "cell_type": "code",
      "source": [
        "ConfusionMatrixDisplay.from_predictions(y_test,dtreepredict)"
      ],
      "metadata": {
        "colab": {
          "base_uri": "https://localhost:8080/",
          "height": 300
        },
        "id": "A7TFm20xUkZ6",
        "outputId": "66ac0093-8f6a-48d5-a898-2134849c65f8"
      },
      "id": "A7TFm20xUkZ6",
      "execution_count": null,
      "outputs": [
        {
          "output_type": "execute_result",
          "data": {
            "text/plain": [
              "<sklearn.metrics._plot.confusion_matrix.ConfusionMatrixDisplay at 0x7f6725530dc0>"
            ]
          },
          "metadata": {},
          "execution_count": 56
        },
        {
          "output_type": "display_data",
          "data": {
            "text/plain": [
              "<Figure size 432x288 with 2 Axes>"
            ],
            "image/png": "[encoded data removed]"
          },
          "metadata": {
            "needs_background": "light"
          }
        }
      ]
    },
    {
      "cell_type": "markdown",
      "source": [
        "Random Forest Classifier"
      ],
      "metadata": {
        "id": "iQOjFIemL7no"
      },
      "id": "iQOjFIemL7no"
    },
    {
      "cell_type": "code",
      "source": [
        "from sklearn.ensemble import RandomForestClassifier"
      ],
      "metadata": {
        "id": "w6MGeR7UKeHU"
      },
      "id": "w6MGeR7UKeHU",
      "execution_count": null,
      "outputs": []
    },
    {
      "cell_type": "code",
      "source": [
        "rfc = RandomForestClassifier(n_estimators=1000)"
      ],
      "metadata": {
        "id": "jpujxwoDMDiY"
      },
      "id": "jpujxwoDMDiY",
      "execution_count": null,
      "outputs": []
    },
    {
      "cell_type": "code",
      "source": [
        "rfmodel = rfc.fit(x_train,y_train)"
      ],
      "metadata": {
        "id": "4nChSwHXMZPl"
      },
      "id": "4nChSwHXMZPl",
      "execution_count": null,
      "outputs": []
    },
    {
      "cell_type": "code",
      "source": [
        "rfmodel.score(x_train,y_train)"
      ],
      "metadata": {
        "id": "5qbgALzvMeOT",
        "colab": {
          "base_uri": "https://localhost:8080/"
        },
        "outputId": "57d8bcb0-1e98-48e5-9ff1-0d6f1c5d7068"
      },
      "id": "5qbgALzvMeOT",
      "execution_count": null,
      "outputs": [
        {
          "output_type": "execute_result",
          "data": {
            "text/plain": [
              "0.96875"
            ]
          },
          "metadata": {},
          "execution_count": 60
        }
      ]
    },
    {
      "cell_type": "code",
      "source": [
        "rfpredict=rfmodel.predict(x_test)"
      ],
      "metadata": {
        "id": "kurjVULYMmy0"
      },
      "id": "kurjVULYMmy0",
      "execution_count": null,
      "outputs": []
    },
    {
      "cell_type": "code",
      "source": [
        "rfpredict"
      ],
      "metadata": {
        "id": "OfiVzOJwMwah",
        "colab": {
          "base_uri": "https://localhost:8080/"
        },
        "outputId": "2151de46-361d-4fca-ac7d-ec81fb1e43fe"
      },
      "id": "OfiVzOJwMwah",
      "execution_count": null,
      "outputs": [
        {
          "output_type": "execute_result",
          "data": {
            "text/plain": [
              "array([1, 1, 0, 1, 1, 1, 1, 1, 1, 0, 1, 1, 1, 1, 1, 1])"
            ]
          },
          "metadata": {},
          "execution_count": 62
        }
      ]
    },
    {
      "cell_type": "code",
      "source": [
        "print(classification_report(y_test,rfpredict))"
      ],
      "metadata": {
        "id": "elMsIXZcM2uO",
        "colab": {
          "base_uri": "https://localhost:8080/"
        },
        "outputId": "84abffce-b994-41e1-c516-154c48cf984e"
      },
      "id": "elMsIXZcM2uO",
      "execution_count": null,
      "outputs": [
        {
          "output_type": "stream",
          "name": "stdout",
          "text": [
            "              precision    recall  f1-score   support\n",
            "\n",
            "           0       1.00      0.33      0.50         6\n",
            "           1       0.71      1.00      0.83        10\n",
            "\n",
            "    accuracy                           0.75        16\n",
            "   macro avg       0.86      0.67      0.67        16\n",
            "weighted avg       0.82      0.75      0.71        16\n",
            "\n"
          ]
        }
      ]
    },
    {
      "cell_type": "code",
      "source": [
        "print('Accuracy of model is',metrics.accuracy_score(y_test,rfpredict))"
      ],
      "metadata": {
        "id": "Mly5eC2VRR16",
        "colab": {
          "base_uri": "https://localhost:8080/"
        },
        "outputId": "a67ffe69-f0cf-48c0-c185-ffa25ac89282"
      },
      "id": "Mly5eC2VRR16",
      "execution_count": null,
      "outputs": [
        {
          "output_type": "stream",
          "name": "stdout",
          "text": [
            "Accuracy of model is 0.75\n"
          ]
        }
      ]
    },
    {
      "cell_type": "code",
      "source": [
        "ConfusionMatrixDisplay.from_predictions(y_test,rfpredict)"
      ],
      "metadata": {
        "colab": {
          "base_uri": "https://localhost:8080/",
          "height": 300
        },
        "id": "F0dTp5ryUpnb",
        "outputId": "456622a4-392c-4026-fffd-87eb4ee2e3eb"
      },
      "id": "F0dTp5ryUpnb",
      "execution_count": null,
      "outputs": [
        {
          "output_type": "execute_result",
          "data": {
            "text/plain": [
              "<sklearn.metrics._plot.confusion_matrix.ConfusionMatrixDisplay at 0x7f672510b970>"
            ]
          },
          "metadata": {},
          "execution_count": 65
        },
        {
          "output_type": "display_data",
          "data": {
            "text/plain": [
              "<Figure size 432x288 with 2 Axes>"
            ],
            "image/png": "[encoded data removed]"
          },
          "metadata": {
            "needs_background": "light"
          }
        }
      ]
    },
    {
      "cell_type": "markdown",
      "source": [
        "Support Vector Machine"
      ],
      "metadata": {
        "id": "qx4chRGeNeTo"
      },
      "id": "qx4chRGeNeTo"
    },
    {
      "cell_type": "code",
      "source": [
        "from sklearn.svm import SVC"
      ],
      "metadata": {
        "id": "eeQvBJCWNGxG"
      },
      "id": "eeQvBJCWNGxG",
      "execution_count": null,
      "outputs": []
    },
    {
      "cell_type": "code",
      "source": [
        "svm = SVC()"
      ],
      "metadata": {
        "id": "LcaKEwCANiOw"
      },
      "id": "LcaKEwCANiOw",
      "execution_count": null,
      "outputs": []
    },
    {
      "cell_type": "code",
      "source": [
        "svmmodel = svm.fit(x_train,y_train)"
      ],
      "metadata": {
        "id": "LRmAq8e7Nk6A"
      },
      "id": "LRmAq8e7Nk6A",
      "execution_count": null,
      "outputs": []
    },
    {
      "cell_type": "code",
      "source": [
        "svmmodel.score(x_train,y_train)"
      ],
      "metadata": {
        "id": "extASX_6Nrcz",
        "colab": {
          "base_uri": "https://localhost:8080/"
        },
        "outputId": "06d13345-1672-4a2f-9414-999e26702099"
      },
      "id": "extASX_6Nrcz",
      "execution_count": null,
      "outputs": [
        {
          "output_type": "execute_result",
          "data": {
            "text/plain": [
              "0.5625"
            ]
          },
          "metadata": {},
          "execution_count": 69
        }
      ]
    },
    {
      "cell_type": "code",
      "source": [
        "svmpredict=svmmodel.predict(x_test)"
      ],
      "metadata": {
        "id": "8gsA40S7Nzhp"
      },
      "id": "8gsA40S7Nzhp",
      "execution_count": null,
      "outputs": []
    },
    {
      "cell_type": "code",
      "source": [
        "print('Accuracy of model is',metrics.accuracy_score(y_test,svmpredict))"
      ],
      "metadata": {
        "id": "zu2jacCQRXLL",
        "colab": {
          "base_uri": "https://localhost:8080/"
        },
        "outputId": "092ec884-d0a8-4109-97c4-0a3729c0c4d9"
      },
      "id": "zu2jacCQRXLL",
      "execution_count": null,
      "outputs": [
        {
          "output_type": "stream",
          "name": "stdout",
          "text": [
            "Accuracy of model is 0.625\n"
          ]
        }
      ]
    },
    {
      "cell_type": "code",
      "source": [
        "print(classification_report(y_test,svmpredict))"
      ],
      "metadata": {
        "id": "Bo841BBKOnnn",
        "colab": {
          "base_uri": "https://localhost:8080/"
        },
        "outputId": "4fb29f2d-5d33-4256-d7f1-1abc1e8eb384"
      },
      "id": "Bo841BBKOnnn",
      "execution_count": null,
      "outputs": [
        {
          "output_type": "stream",
          "name": "stdout",
          "text": [
            "              precision    recall  f1-score   support\n",
            "\n",
            "           0       0.00      0.00      0.00         6\n",
            "           1       0.62      1.00      0.77        10\n",
            "\n",
            "    accuracy                           0.62        16\n",
            "   macro avg       0.31      0.50      0.38        16\n",
            "weighted avg       0.39      0.62      0.48        16\n",
            "\n"
          ]
        },
        {
          "output_type": "stream",
          "name": "stderr",
          "text": [
            "/usr/local/lib/python3.8/dist-packages/sklearn/metrics/_classification.py:1344: UndefinedMetricWarning: Precision and F-score are ill-defined and being set to 0.0 in labels with no predicted samples. Use `zero_division` parameter to control this behavior.\n",
            "  _warn_prf(average, modifier, msg_start, len(result))\n",
            "/usr/local/lib/python3.8/dist-packages/sklearn/metrics/_classification.py:1344: UndefinedMetricWarning: Precision and F-score are ill-defined and being set to 0.0 in labels with no predicted samples. Use `zero_division` parameter to control this behavior.\n",
            "  _warn_prf(average, modifier, msg_start, len(result))\n",
            "/usr/local/lib/python3.8/dist-packages/sklearn/metrics/_classification.py:1344: UndefinedMetricWarning: Precision and F-score are ill-defined and being set to 0.0 in labels with no predicted samples. Use `zero_division` parameter to control this behavior.\n",
            "  _warn_prf(average, modifier, msg_start, len(result))\n"
          ]
        }
      ]
    },
    {
      "cell_type": "code",
      "source": [
        "ConfusionMatrixDisplay.from_predictions(y_test,svmpredict)"
      ],
      "metadata": {
        "colab": {
          "base_uri": "https://localhost:8080/",
          "height": 300
        },
        "id": "eZgGk2MSUush",
        "outputId": "40cf9d61-b53c-4fd7-c27a-96551d2df5d6"
      },
      "id": "eZgGk2MSUush",
      "execution_count": null,
      "outputs": [
        {
          "output_type": "execute_result",
          "data": {
            "text/plain": [
              "<sklearn.metrics._plot.confusion_matrix.ConfusionMatrixDisplay at 0x7f6725522ac0>"
            ]
          },
          "metadata": {},
          "execution_count": 73
        },
        {
          "output_type": "display_data",
          "data": {
            "text/plain": [
              "<Figure size 432x288 with 2 Axes>"
            ],
            "image/png": "[encoded data removed]"
          },
          "metadata": {
            "needs_background": "light"
          }
        }
      ]
    },
    {
      "cell_type": "markdown",
      "source": [
        "Gradient Boosting Classifier"
      ],
      "metadata": {
        "id": "1sTsOaDKO4_f"
      },
      "id": "1sTsOaDKO4_f"
    },
    {
      "cell_type": "code",
      "source": [
        "from sklearn.ensemble import GradientBoostingClassifier"
      ],
      "metadata": {
        "id": "2KrPYZlKOt3U"
      },
      "id": "2KrPYZlKOt3U",
      "execution_count": null,
      "outputs": []
    },
    {
      "cell_type": "code",
      "source": [
        "gbc = GradientBoostingClassifier(n_estimators=100)"
      ],
      "metadata": {
        "id": "l6z_mmvePMf8"
      },
      "id": "l6z_mmvePMf8",
      "execution_count": null,
      "outputs": []
    },
    {
      "cell_type": "code",
      "source": [
        "gbmodel = gbc.fit(x_train,y_train)"
      ],
      "metadata": {
        "id": "sU4MQiRQPVad"
      },
      "id": "sU4MQiRQPVad",
      "execution_count": null,
      "outputs": []
    },
    {
      "cell_type": "code",
      "source": [
        "gbmodel.score(x_train,y_train)"
      ],
      "metadata": {
        "id": "WfybRQsRPgJD",
        "colab": {
          "base_uri": "https://localhost:8080/"
        },
        "outputId": "da01d31e-00f2-4d35-ff4d-4670fc32557c"
      },
      "id": "WfybRQsRPgJD",
      "execution_count": null,
      "outputs": [
        {
          "output_type": "execute_result",
          "data": {
            "text/plain": [
              "0.9375"
            ]
          },
          "metadata": {},
          "execution_count": 77
        }
      ]
    },
    {
      "cell_type": "code",
      "source": [
        "gbpredict = gbmodel.predict(x_test)"
      ],
      "metadata": {
        "id": "xWvrZ-VYPo_n"
      },
      "id": "xWvrZ-VYPo_n",
      "execution_count": null,
      "outputs": []
    },
    {
      "cell_type": "code",
      "source": [
        "print('Accuracy of model is',metrics.accuracy_score(y_test,gbpredict))"
      ],
      "metadata": {
        "id": "7K_vVu5VRbTZ",
        "colab": {
          "base_uri": "https://localhost:8080/"
        },
        "outputId": "deb45be8-2b1f-48c2-f467-18fbc919ba24"
      },
      "id": "7K_vVu5VRbTZ",
      "execution_count": null,
      "outputs": [
        {
          "output_type": "stream",
          "name": "stdout",
          "text": [
            "Accuracy of model is 0.625\n"
          ]
        }
      ]
    },
    {
      "cell_type": "code",
      "source": [
        "print(classification_report(y_test,gbpredict))"
      ],
      "metadata": {
        "id": "OLoENH9yP8w5",
        "colab": {
          "base_uri": "https://localhost:8080/"
        },
        "outputId": "f4e5087c-79b4-4d09-b0ce-32f6b4eb8b31"
      },
      "id": "OLoENH9yP8w5",
      "execution_count": null,
      "outputs": [
        {
          "output_type": "stream",
          "name": "stdout",
          "text": [
            "              precision    recall  f1-score   support\n",
            "\n",
            "           0       0.50      0.33      0.40         6\n",
            "           1       0.67      0.80      0.73        10\n",
            "\n",
            "    accuracy                           0.62        16\n",
            "   macro avg       0.58      0.57      0.56        16\n",
            "weighted avg       0.60      0.62      0.60        16\n",
            "\n"
          ]
        }
      ]
    },
    {
      "cell_type": "code",
      "source": [
        "ConfusionMatrixDisplay.from_predictions(y_test,gbpredict)"
      ],
      "metadata": {
        "colab": {
          "base_uri": "https://localhost:8080/",
          "height": 300
        },
        "id": "fGDI8h_cUy5C",
        "outputId": "b2548031-df5f-42a5-c2b4-5d7fa374ff39"
      },
      "id": "fGDI8h_cUy5C",
      "execution_count": null,
      "outputs": [
        {
          "output_type": "execute_result",
          "data": {
            "text/plain": [
              "<sklearn.metrics._plot.confusion_matrix.ConfusionMatrixDisplay at 0x7f6724eeaa30>"
            ]
          },
          "metadata": {},
          "execution_count": 81
        },
        {
          "output_type": "display_data",
          "data": {
            "text/plain": [
              "<Figure size 432x288 with 2 Axes>"
            ],
            "image/png": "[encoded data removed]"
          },
          "metadata": {
            "needs_background": "light"
          }
        }
      ]
    },
    {
      "cell_type": "markdown",
      "source": [
        "Bagging"
      ],
      "metadata": {
        "id": "vTa46NxKRSr6"
      },
      "id": "vTa46NxKRSr6"
    },
    {
      "cell_type": "code",
      "source": [
        "from sklearn.ensemble import BaggingClassifier"
      ],
      "metadata": {
        "id": "Vkhat-dZQbXJ"
      },
      "id": "Vkhat-dZQbXJ",
      "execution_count": null,
      "outputs": []
    },
    {
      "cell_type": "code",
      "source": [
        "baggingc = BaggingClassifier(n_estimators=400)"
      ],
      "metadata": {
        "id": "lph4rrZ6RU5w"
      },
      "id": "lph4rrZ6RU5w",
      "execution_count": null,
      "outputs": []
    },
    {
      "cell_type": "code",
      "source": [
        "bmodel = baggingc.fit(x_train,y_train)"
      ],
      "metadata": {
        "id": "feQ26XfaRjvA"
      },
      "id": "feQ26XfaRjvA",
      "execution_count": null,
      "outputs": []
    },
    {
      "cell_type": "code",
      "source": [
        "bmodel.score(x_train,y_train)"
      ],
      "metadata": {
        "id": "uZEvckKxRp3Q",
        "colab": {
          "base_uri": "https://localhost:8080/"
        },
        "outputId": "2a62161a-e2c0-4a5e-a78e-e5d0b0e23c79"
      },
      "id": "uZEvckKxRp3Q",
      "execution_count": null,
      "outputs": [
        {
          "output_type": "execute_result",
          "data": {
            "text/plain": [
              "0.96875"
            ]
          },
          "metadata": {},
          "execution_count": 85
        }
      ]
    },
    {
      "cell_type": "code",
      "source": [
        "bpredict = bmodel.predict(x_test)"
      ],
      "metadata": {
        "id": "jQ-E_hOvRwO4"
      },
      "id": "jQ-E_hOvRwO4",
      "execution_count": null,
      "outputs": []
    },
    {
      "cell_type": "code",
      "source": [
        "print('Accuracy of model is',metrics.accuracy_score(y_test,bpredict))"
      ],
      "metadata": {
        "id": "Eq6CADY9Rfrl",
        "colab": {
          "base_uri": "https://localhost:8080/"
        },
        "outputId": "053a7fdf-3ac1-4bb3-ed94-fe63246bb15f"
      },
      "id": "Eq6CADY9Rfrl",
      "execution_count": null,
      "outputs": [
        {
          "output_type": "stream",
          "name": "stdout",
          "text": [
            "Accuracy of model is 0.75\n"
          ]
        }
      ]
    },
    {
      "cell_type": "code",
      "source": [
        "print(classification_report(y_test,bpredict))"
      ],
      "metadata": {
        "id": "rxUaZk2YR-88",
        "colab": {
          "base_uri": "https://localhost:8080/"
        },
        "outputId": "fa8ebc5f-aaa7-444c-effb-24c0166c2958"
      },
      "id": "rxUaZk2YR-88",
      "execution_count": null,
      "outputs": [
        {
          "output_type": "stream",
          "name": "stdout",
          "text": [
            "              precision    recall  f1-score   support\n",
            "\n",
            "           0       0.75      0.50      0.60         6\n",
            "           1       0.75      0.90      0.82        10\n",
            "\n",
            "    accuracy                           0.75        16\n",
            "   macro avg       0.75      0.70      0.71        16\n",
            "weighted avg       0.75      0.75      0.74        16\n",
            "\n"
          ]
        }
      ]
    },
    {
      "cell_type": "code",
      "source": [
        "ConfusionMatrixDisplay.from_predictions(y_test,bpredict)"
      ],
      "metadata": {
        "colab": {
          "base_uri": "https://localhost:8080/",
          "height": 300
        },
        "id": "0J_2ZEFCU3P1",
        "outputId": "7e51a434-eecf-414f-a503-15f98c7f39af"
      },
      "id": "0J_2ZEFCU3P1",
      "execution_count": null,
      "outputs": [
        {
          "output_type": "execute_result",
          "data": {
            "text/plain": [
              "<sklearn.metrics._plot.confusion_matrix.ConfusionMatrixDisplay at 0x7f6724e50af0>"
            ]
          },
          "metadata": {},
          "execution_count": 89
        },
        {
          "output_type": "display_data",
          "data": {
            "text/plain": [
              "<Figure size 432x288 with 2 Axes>"
            ],
            "image/png": "[encoded data removed]"
          },
          "metadata": {
            "needs_background": "light"
          }
        }
      ]
    },
    {
      "cell_type": "markdown",
      "source": [
        "KNN Classifier"
      ],
      "metadata": {
        "id": "3fXrRKBBSOfn"
      },
      "id": "3fXrRKBBSOfn"
    },
    {
      "cell_type": "code",
      "source": [
        "from sklearn.neighbors import KNeighborsClassifier"
      ],
      "metadata": {
        "id": "Qw9qex-4SCZq"
      },
      "id": "Qw9qex-4SCZq",
      "execution_count": null,
      "outputs": []
    },
    {
      "cell_type": "code",
      "source": [
        "knn = KNeighborsClassifier(n_neighbors=3)"
      ],
      "metadata": {
        "id": "bkXbMq5hSTHx"
      },
      "id": "bkXbMq5hSTHx",
      "execution_count": null,
      "outputs": []
    },
    {
      "cell_type": "code",
      "source": [
        "knnmodel = knn.fit(x_train,y_train)"
      ],
      "metadata": {
        "id": "1vKBDqsxSayA"
      },
      "id": "1vKBDqsxSayA",
      "execution_count": null,
      "outputs": []
    },
    {
      "cell_type": "code",
      "source": [
        "knnmodel.score(x_train,y_train)"
      ],
      "metadata": {
        "id": "qH8MQ_PxSc4D",
        "colab": {
          "base_uri": "https://localhost:8080/"
        },
        "outputId": "1830c2ee-1887-45a7-ae66-96d8e6405d7f"
      },
      "id": "qH8MQ_PxSc4D",
      "execution_count": null,
      "outputs": [
        {
          "output_type": "execute_result",
          "data": {
            "text/plain": [
              "0.734375"
            ]
          },
          "metadata": {},
          "execution_count": 93
        }
      ]
    },
    {
      "cell_type": "code",
      "source": [
        "knnpredict = knnmodel.predict(x_test)"
      ],
      "metadata": {
        "id": "TI3_nmldSlWT"
      },
      "id": "TI3_nmldSlWT",
      "execution_count": null,
      "outputs": []
    },
    {
      "cell_type": "code",
      "source": [
        "print('Model Accuracy:',metrics.accuracy_score(y_test,knnpredict))"
      ],
      "metadata": {
        "id": "smTjKj-BRj5m",
        "colab": {
          "base_uri": "https://localhost:8080/"
        },
        "outputId": "e4907e08-70c6-4654-ff39-208fcf1d8250"
      },
      "id": "smTjKj-BRj5m",
      "execution_count": null,
      "outputs": [
        {
          "output_type": "stream",
          "name": "stdout",
          "text": [
            "Model Accuracy: 0.625\n"
          ]
        }
      ]
    },
    {
      "cell_type": "code",
      "source": [
        "print(classification_report(y_test,knnpredict))"
      ],
      "metadata": {
        "id": "iokjIzbxS2M4",
        "colab": {
          "base_uri": "https://localhost:8080/"
        },
        "outputId": "9023f702-f4d7-41bf-b3d9-f38628db8642"
      },
      "id": "iokjIzbxS2M4",
      "execution_count": null,
      "outputs": [
        {
          "output_type": "stream",
          "name": "stdout",
          "text": [
            "              precision    recall  f1-score   support\n",
            "\n",
            "           0       0.50      0.67      0.57         6\n",
            "           1       0.75      0.60      0.67        10\n",
            "\n",
            "    accuracy                           0.62        16\n",
            "   macro avg       0.62      0.63      0.62        16\n",
            "weighted avg       0.66      0.62      0.63        16\n",
            "\n"
          ]
        }
      ]
    },
    {
      "cell_type": "code",
      "source": [
        "ConfusionMatrixDisplay.from_predictions(y_test,knnpredict)"
      ],
      "metadata": {
        "colab": {
          "base_uri": "https://localhost:8080/",
          "height": 300
        },
        "id": "4jY62CaqU7q9",
        "outputId": "bdfa57f9-3c24-494d-a27b-604a33fce2de"
      },
      "id": "4jY62CaqU7q9",
      "execution_count": null,
      "outputs": [
        {
          "output_type": "execute_result",
          "data": {
            "text/plain": [
              "<sklearn.metrics._plot.confusion_matrix.ConfusionMatrixDisplay at 0x7f6724e7b2b0>"
            ]
          },
          "metadata": {},
          "execution_count": 97
        },
        {
          "output_type": "display_data",
          "data": {
            "text/plain": [
              "<Figure size 432x288 with 2 Axes>"
            ],
            "image/png": "[encoded data removed]"
          },
          "metadata": {
            "needs_background": "light"
          }
        }
      ]
    },
    {
      "cell_type": "code",
      "source": [
        "k_list = list(range(1,30))\n",
        "k_values = dict(n_neighbors=k_list)\n",
        "print(k_values.keys()),\n",
        "print(k_values.values())\n",
        "from sklearn.model_selection import GridSearchCV\n",
        "grid = GridSearchCV(knn, k_values, cv=5, scoring='accuracy')\n",
        "grid\n",
        "grid.fit(x,y)\n",
        "grid.cv_results_\n",
        "for key in grid.cv_results_.keys():\n",
        "  print(key) \n",
        "grid_table = pd.DataFrame(grid.cv_results_)\n",
        "grid_table.head()\n",
        "grid_table_rank = grid_table[['params','mean_test_score','std_test_score','rank_test_score']].loc[grid_table['rank_test_score']==1].sort_values(by='std_test_score', ascending=True)\n",
        "grid_table_rank\n",
        "print(\"The best value of k = {} with {} of accuracy.\".format(grid.best_params_,grid.best_score_))\n",
        "print(\"The best classifier is: {}\".format(grid.best_estimator_))"
      ],
      "metadata": {
        "colab": {
          "base_uri": "https://localhost:8080/"
        },
        "id": "9piWWrp0yM6D",
        "outputId": "9d0a65ea-990e-4701-c555-73baa11bf03b"
      },
      "id": "9piWWrp0yM6D",
      "execution_count": null,
      "outputs": [
        {
          "output_type": "stream",
          "name": "stdout",
          "text": [
            "dict_keys(['n_neighbors'])\n",
            "dict_values([[1, 2, 3, 4, 5, 6, 7, 8, 9, 10, 11, 12, 13, 14, 15, 16, 17, 18, 19, 20, 21, 22, 23, 24, 25, 26, 27, 28, 29]])\n",
            "mean_fit_time\n",
            "std_fit_time\n",
            "mean_score_time\n",
            "std_score_time\n",
            "param_n_neighbors\n",
            "params\n",
            "split0_test_score\n",
            "split1_test_score\n",
            "split2_test_score\n",
            "split3_test_score\n",
            "split4_test_score\n",
            "mean_test_score\n",
            "std_test_score\n",
            "rank_test_score\n",
            "The best value of k = {'n_neighbors': 11} with 0.6 of accuracy.\n",
            "The best classifier is: KNeighborsClassifier(n_neighbors=11)\n"
          ]
        }
      ]
    },
    {
      "cell_type": "code",
      "source": [
        "graphic = grid.cv_results_['mean_test_score']\n",
        "graphic\n",
        "\n",
        "plt.figure(figsize=(10,5))\n",
        "plt.plot(k_list,graphic,color='navy',linestyle='dashed',marker='o')\n",
        "plt.xlabel('K Number of Neighbors', fontdict={'fontsize': 15})\n",
        "plt.ylabel('Accuracy', fontdict={'fontsize': 15})\n",
        "plt.title('K NUMBER X ACCURACY', fontdict={'fontsize': 30})\n",
        "plt.xticks(range(0,50,3),)\n",
        "#plt.xaxis.set_major_locator(MultipleLocator(3))\n",
        "plt.show()"
      ],
      "metadata": {
        "id": "ANHQoN2JyMyq",
        "colab": {
          "base_uri": "https://localhost:8080/",
          "height": 368
        },
        "outputId": "8451c0be-2239-4776-d352-1f80d9926e0e"
      },
      "id": "ANHQoN2JyMyq",
      "execution_count": null,
      "outputs": [
        {
          "output_type": "display_data",
          "data": {
            "text/plain": [
              "<Figure size 720x360 with 1 Axes>"
            ],
            "image/png": "[encoded data removed]"
          },
          "metadata": {
            "needs_background": "light"
          }
        }
      ]
    },
    {
      "cell_type": "markdown",
      "source": [
        "Boosting"
      ],
      "metadata": {
        "id": "2a-Q-o4qPpmP"
      },
      "id": "2a-Q-o4qPpmP"
    },
    {
      "cell_type": "code",
      "source": [
        "from sklearn.ensemble import AdaBoostClassifier"
      ],
      "metadata": {
        "id": "Xw5XpHCwS5WA"
      },
      "id": "Xw5XpHCwS5WA",
      "execution_count": null,
      "outputs": []
    },
    {
      "cell_type": "code",
      "source": [
        "abc = AdaBoostClassifier(n_estimators=1000,random_state=42)"
      ],
      "metadata": {
        "id": "r79JRne2PsRe"
      },
      "id": "r79JRne2PsRe",
      "execution_count": null,
      "outputs": []
    },
    {
      "cell_type": "code",
      "source": [
        "abcmodel = abc.fit(x_train,y_train)"
      ],
      "metadata": {
        "id": "7_rFDUrLP5V7"
      },
      "id": "7_rFDUrLP5V7",
      "execution_count": null,
      "outputs": []
    },
    {
      "cell_type": "code",
      "source": [
        "abcmodel.score(x_train,y_train)"
      ],
      "metadata": {
        "id": "soGdj9AyP_8E",
        "colab": {
          "base_uri": "https://localhost:8080/"
        },
        "outputId": "8586469a-b405-4ea2-b51a-1d8718369632"
      },
      "id": "soGdj9AyP_8E",
      "execution_count": null,
      "outputs": [
        {
          "output_type": "execute_result",
          "data": {
            "text/plain": [
              "0.78125"
            ]
          },
          "metadata": {},
          "execution_count": 103
        }
      ]
    },
    {
      "cell_type": "code",
      "source": [
        "abcpredict = abcmodel.predict(x_test)"
      ],
      "metadata": {
        "id": "LrV7mdrMQMB1"
      },
      "id": "LrV7mdrMQMB1",
      "execution_count": null,
      "outputs": []
    },
    {
      "cell_type": "code",
      "source": [
        "print('Model Accuracy:',metrics.accuracy_score(y_test,abcpredict))"
      ],
      "metadata": {
        "id": "3MsDB6c_Rvib",
        "colab": {
          "base_uri": "https://localhost:8080/"
        },
        "outputId": "7ca72739-4dea-497b-e01f-0889969dca54"
      },
      "id": "3MsDB6c_Rvib",
      "execution_count": null,
      "outputs": [
        {
          "output_type": "stream",
          "name": "stdout",
          "text": [
            "Model Accuracy: 0.625\n"
          ]
        }
      ]
    },
    {
      "cell_type": "code",
      "source": [
        "print(classification_report(y_test,abcpredict))"
      ],
      "metadata": {
        "id": "kilZaiYiQXGH",
        "colab": {
          "base_uri": "https://localhost:8080/"
        },
        "outputId": "dfe77569-196f-453f-9aff-95f4f0a92e6a"
      },
      "id": "kilZaiYiQXGH",
      "execution_count": null,
      "outputs": [
        {
          "output_type": "stream",
          "name": "stdout",
          "text": [
            "              precision    recall  f1-score   support\n",
            "\n",
            "           0       0.50      0.33      0.40         6\n",
            "           1       0.67      0.80      0.73        10\n",
            "\n",
            "    accuracy                           0.62        16\n",
            "   macro avg       0.58      0.57      0.56        16\n",
            "weighted avg       0.60      0.62      0.60        16\n",
            "\n"
          ]
        }
      ]
    },
    {
      "cell_type": "code",
      "source": [
        "ConfusionMatrixDisplay.from_predictions(y_test,abcpredict)"
      ],
      "metadata": {
        "colab": {
          "base_uri": "https://localhost:8080/",
          "height": 300
        },
        "id": "gkxYD4pVVAQz",
        "outputId": "3ca66ded-ba07-4864-a55b-d8b97d3f629b"
      },
      "id": "gkxYD4pVVAQz",
      "execution_count": null,
      "outputs": [
        {
          "output_type": "execute_result",
          "data": {
            "text/plain": [
              "<sklearn.metrics._plot.confusion_matrix.ConfusionMatrixDisplay at 0x7f6724bce280>"
            ]
          },
          "metadata": {},
          "execution_count": 107
        },
        {
          "output_type": "display_data",
          "data": {
            "text/plain": [
              "<Figure size 432x288 with 2 Axes>"
            ],
            "image/png": "[encoded data removed]"
          },
          "metadata": {
            "needs_background": "light"
          }
        }
      ]
    },
    {
      "cell_type": "code",
      "source": [
        "from xgboost import XGBClassifier"
      ],
      "metadata": {
        "id": "_GGgLkn8QnSW"
      },
      "id": "_GGgLkn8QnSW",
      "execution_count": null,
      "outputs": []
    },
    {
      "cell_type": "code",
      "source": [
        "xgb = XGBClassifier(n_estimators=1000)"
      ],
      "metadata": {
        "id": "XhNAUZ9XQrfZ"
      },
      "id": "XhNAUZ9XQrfZ",
      "execution_count": null,
      "outputs": []
    },
    {
      "cell_type": "code",
      "source": [
        "xgbmodel = xgb.fit(x_train,y_train)"
      ],
      "metadata": {
        "id": "T-RnRy2WJSCj"
      },
      "id": "T-RnRy2WJSCj",
      "execution_count": null,
      "outputs": []
    },
    {
      "cell_type": "code",
      "source": [
        "from sklearn.metrics import accuracy_score, classification_report"
      ],
      "metadata": {
        "id": "E3oHG6QBJikp"
      },
      "id": "E3oHG6QBJikp",
      "execution_count": null,
      "outputs": []
    },
    {
      "cell_type": "code",
      "source": [
        "xgbmodel.score(x_train,y_train)"
      ],
      "metadata": {
        "id": "vaxtxQhMKsoy",
        "colab": {
          "base_uri": "https://localhost:8080/"
        },
        "outputId": "974e7110-be6b-42fc-ddf6-7568edcb975e"
      },
      "id": "vaxtxQhMKsoy",
      "execution_count": null,
      "outputs": [
        {
          "output_type": "execute_result",
          "data": {
            "text/plain": [
              "0.921875"
            ]
          },
          "metadata": {},
          "execution_count": 112
        }
      ]
    },
    {
      "cell_type": "code",
      "source": [
        "xgbpredict = xgbmodel.predict(x_test)"
      ],
      "metadata": {
        "id": "BLYR1__kLS7W"
      },
      "id": "BLYR1__kLS7W",
      "execution_count": null,
      "outputs": []
    },
    {
      "cell_type": "code",
      "source": [
        "print('Model Accuracy:',metrics.accuracy_score(y_test,xgbpredict))"
      ],
      "metadata": {
        "id": "_CiCGqbLLjcW",
        "colab": {
          "base_uri": "https://localhost:8080/"
        },
        "outputId": "e1391414-00dc-43d4-b729-8572599e407b"
      },
      "id": "_CiCGqbLLjcW",
      "execution_count": null,
      "outputs": [
        {
          "output_type": "stream",
          "name": "stdout",
          "text": [
            "Model Accuracy: 0.625\n"
          ]
        }
      ]
    },
    {
      "cell_type": "code",
      "source": [
        "print(classification_report(y_test,xgbpredict))"
      ],
      "metadata": {
        "id": "ZZQ2KAKuLfi-",
        "colab": {
          "base_uri": "https://localhost:8080/"
        },
        "outputId": "0d57d050-483a-450a-b58a-0a0cca6f09d7"
      },
      "id": "ZZQ2KAKuLfi-",
      "execution_count": null,
      "outputs": [
        {
          "output_type": "stream",
          "name": "stdout",
          "text": [
            "              precision    recall  f1-score   support\n",
            "\n",
            "           0       0.50      0.50      0.50         6\n",
            "           1       0.70      0.70      0.70        10\n",
            "\n",
            "    accuracy                           0.62        16\n",
            "   macro avg       0.60      0.60      0.60        16\n",
            "weighted avg       0.62      0.62      0.62        16\n",
            "\n"
          ]
        }
      ]
    },
    {
      "cell_type": "code",
      "source": [
        "ConfusionMatrixDisplay.from_predictions(y_test,xgbpredict)"
      ],
      "metadata": {
        "colab": {
          "base_uri": "https://localhost:8080/",
          "height": 300
        },
        "id": "0l_UuETzVEYm",
        "outputId": "4100a0fa-83c4-40c6-e781-72052870398b"
      },
      "id": "0l_UuETzVEYm",
      "execution_count": null,
      "outputs": [
        {
          "output_type": "execute_result",
          "data": {
            "text/plain": [
              "<sklearn.metrics._plot.confusion_matrix.ConfusionMatrixDisplay at 0x7f6714adeca0>"
            ]
          },
          "metadata": {},
          "execution_count": 116
        },
        {
          "output_type": "display_data",
          "data": {
            "text/plain": [
              "<Figure size 432x288 with 2 Axes>"
            ],
            "image/png": "[encoded data removed]"
          },
          "metadata": {
            "needs_background": "light"
          }
        }
      ]
    },
    {
      "cell_type": "markdown",
      "source": [
        "Artificial Neural Network"
      ],
      "metadata": {
        "id": "VLl3SBYuOCDk"
      },
      "id": "VLl3SBYuOCDk"
    },
    {
      "cell_type": "code",
      "source": [
        "tf.random.set_seed(42)\n",
        "\n",
        "# STEP 1: Creating the model\n",
        "model= tf.keras.Sequential([\n",
        "                            tf.keras.layers.Dense(5, activation='relu'),\n",
        "                            tf.keras.layers.Dense(2, activation='relu'),\n",
        "                            tf.keras.layers.Dense(1, activation='sigmoid')\n",
        "])\n",
        "\n",
        "# STEP 2: Compiling the model\n",
        "model.compile(loss= tf.keras.losses.binary_crossentropy,\n",
        "              optimizer= tf.keras.optimizers.SGD(lr=0.01),#Adam or SGD\n",
        "              metrics= [tf.keras.metrics.BinaryAccuracy(name='accuracy'),\n",
        "                        tf.keras.metrics.Precision(name='precision'),\n",
        "                        tf.keras.metrics.Recall(name='a=recall')\n",
        "              ]\n",
        "              )\n",
        "\n",
        "# STEP 3: Fiting the model\n",
        "history= model.fit(x_train, y_train, epochs=1000)"
      ],
      "metadata": {
        "id": "D4FmPR1FLrN_",
        "colab": {
          "base_uri": "https://localhost:8080/"
        },
        "outputId": "05942b9f-c669-4df9-e83b-156f663020f3"
      },
      "id": "D4FmPR1FLrN_",
      "execution_count": null,
      "outputs": [
        {
          "output_type": "stream",
          "name": "stderr",
          "text": [
            "WARNING:absl:`lr` is deprecated, please use `learning_rate` instead, or use the legacy optimizer, e.g.,tf.keras.optimizers.legacy.SGD.\n"
          ]
        },
        {
          "output_type": "stream",
          "name": "stdout",
          "text": [
            "Epoch 1/1000\n",
            "2/2 [==============================] - 1s 18ms/step - loss: 0.6858 - accuracy: 0.5000 - precision: 0.5455 - a=recall: 0.6667\n",
            "Epoch 2/1000\n",
            "2/2 [==============================] - 0s 8ms/step - loss: 0.6842 - accuracy: 0.5469 - precision: 0.5686 - a=recall: 0.8056\n",
            "Epoch 3/1000\n",
            "2/2 [==============================] - 0s 19ms/step - loss: 0.6828 - accuracy: 0.5469 - precision: 0.5574 - a=recall: 0.9444\n",
            "Epoch 4/1000\n",
            "2/2 [==============================] - 0s 10ms/step - loss: 0.6820 - accuracy: 0.5469 - precision: 0.5574 - a=recall: 0.9444\n",
            "Epoch 5/1000\n",
            "2/2 [==============================] - 0s 9ms/step - loss: 0.6864 - accuracy: 0.5781 - precision: 0.5714 - a=recall: 1.0000\n",
            "Epoch 6/1000\n",
            "2/2 [==============================] - 0s 12ms/step - loss: 0.6831 - accuracy: 0.5781 - precision: 0.5714 - a=recall: 1.0000\n",
            "Epoch 7/1000\n",
            "2/2 [==============================] - 0s 10ms/step - loss: 0.6817 - accuracy: 0.5781 - precision: 0.5714 - a=recall: 1.0000\n",
            "Epoch 8/1000\n",
            "2/2 [==============================] - 0s 11ms/step - loss: 0.6816 - accuracy: 0.5625 - precision: 0.5625 - a=recall: 1.0000\n",
            "Epoch 9/1000\n",
            "2/2 [==============================] - 0s 12ms/step - loss: 0.6816 - accuracy: 0.5625 - precision: 0.5625 - a=recall: 1.0000\n",
            "Epoch 10/1000\n",
            "2/2 [==============================] - 0s 12ms/step - loss: 0.6828 - accuracy: 0.5625 - precision: 0.5625 - a=recall: 1.0000\n",
            "Epoch 11/1000\n",
            "2/2 [==============================] - 0s 15ms/step - loss: 0.6819 - accuracy: 0.5781 - precision: 0.5714 - a=recall: 1.0000\n",
            "Epoch 12/1000\n",
            "2/2 [==============================] - 0s 13ms/step - loss: 0.6817 - accuracy: 0.5625 - precision: 0.5625 - a=recall: 1.0000\n",
            "Epoch 13/1000\n",
            "2/2 [==============================] - 0s 10ms/step - loss: 0.6815 - accuracy: 0.5625 - precision: 0.5625 - a=recall: 1.0000\n",
            "Epoch 14/1000\n",
            "2/2 [==============================] - 0s 13ms/step - loss: 0.6845 - accuracy: 0.5469 - precision: 0.5556 - a=recall: 0.9722\n",
            "Epoch 15/1000\n",
            "2/2 [==============================] - 0s 10ms/step - loss: 0.6814 - accuracy: 0.5625 - precision: 0.5625 - a=recall: 1.0000\n",
            "Epoch 16/1000\n",
            "2/2 [==============================] - 0s 12ms/step - loss: 0.6819 - accuracy: 0.5625 - precision: 0.5625 - a=recall: 1.0000\n",
            "Epoch 17/1000\n",
            "2/2 [==============================] - 0s 11ms/step - loss: 0.6835 - accuracy: 0.5625 - precision: 0.5645 - a=recall: 0.9722\n",
            "Epoch 18/1000\n",
            "2/2 [==============================] - 0s 17ms/step - loss: 0.6838 - accuracy: 0.5625 - precision: 0.5625 - a=recall: 1.0000\n",
            "Epoch 19/1000\n",
            "2/2 [==============================] - 0s 12ms/step - loss: 0.6828 - accuracy: 0.5625 - precision: 0.5625 - a=recall: 1.0000\n",
            "Epoch 20/1000\n",
            "2/2 [==============================] - 0s 10ms/step - loss: 0.6835 - accuracy: 0.5469 - precision: 0.5556 - a=recall: 0.9722\n",
            "Epoch 21/1000\n",
            "2/2 [==============================] - 0s 12ms/step - loss: 0.6851 - accuracy: 0.5469 - precision: 0.5574 - a=recall: 0.9444\n",
            "Epoch 22/1000\n",
            "2/2 [==============================] - 0s 13ms/step - loss: 0.6817 - accuracy: 0.5625 - precision: 0.5625 - a=recall: 1.0000\n",
            "Epoch 23/1000\n",
            "2/2 [==============================] - 0s 10ms/step - loss: 0.6821 - accuracy: 0.5625 - precision: 0.5625 - a=recall: 1.0000\n",
            "Epoch 24/1000\n",
            "2/2 [==============================] - 0s 10ms/step - loss: 0.6814 - accuracy: 0.5625 - precision: 0.5625 - a=recall: 1.0000\n",
            "Epoch 25/1000\n",
            "2/2 [==============================] - 0s 9ms/step - loss: 0.6823 - accuracy: 0.5625 - precision: 0.5625 - a=recall: 1.0000\n",
            "Epoch 26/1000\n",
            "2/2 [==============================] - 0s 11ms/step - loss: 0.6824 - accuracy: 0.5781 - precision: 0.5714 - a=recall: 1.0000\n",
            "Epoch 27/1000\n",
            "2/2 [==============================] - 0s 13ms/step - loss: 0.6823 - accuracy: 0.5625 - precision: 0.5625 - a=recall: 1.0000\n",
            "Epoch 28/1000\n",
            "2/2 [==============================] - 0s 10ms/step - loss: 0.6840 - accuracy: 0.5625 - precision: 0.5625 - a=recall: 1.0000\n",
            "Epoch 29/1000\n",
            "2/2 [==============================] - 0s 8ms/step - loss: 0.6821 - accuracy: 0.5625 - precision: 0.5625 - a=recall: 1.0000\n",
            "Epoch 30/1000\n",
            "2/2 [==============================] - 0s 10ms/step - loss: 0.6883 - accuracy: 0.5312 - precision: 0.5500 - a=recall: 0.9167\n",
            "Epoch 31/1000\n",
            "2/2 [==============================] - 0s 8ms/step - loss: 0.6827 - accuracy: 0.5625 - precision: 0.5625 - a=recall: 1.0000\n",
            "Epoch 32/1000\n",
            "2/2 [==============================] - 0s 8ms/step - loss: 0.6813 - accuracy: 0.5625 - precision: 0.5625 - a=recall: 1.0000\n",
            "Epoch 33/1000\n",
            "2/2 [==============================] - 0s 8ms/step - loss: 0.6816 - accuracy: 0.5625 - precision: 0.5625 - a=recall: 1.0000\n",
            "Epoch 34/1000\n",
            "2/2 [==============================] - 0s 9ms/step - loss: 0.6856 - accuracy: 0.5625 - precision: 0.5625 - a=recall: 1.0000\n",
            "Epoch 35/1000\n",
            "2/2 [==============================] - 0s 10ms/step - loss: 0.6815 - accuracy: 0.5625 - precision: 0.5625 - a=recall: 1.0000\n",
            "Epoch 36/1000\n",
            "2/2 [==============================] - 0s 9ms/step - loss: 0.6813 - accuracy: 0.5625 - precision: 0.5625 - a=recall: 1.0000\n",
            "Epoch 37/1000\n",
            "2/2 [==============================] - 0s 9ms/step - loss: 0.6822 - accuracy: 0.5625 - precision: 0.5625 - a=recall: 1.0000\n",
            "Epoch 38/1000\n",
            "2/2 [==============================] - 0s 9ms/step - loss: 0.6813 - accuracy: 0.5625 - precision: 0.5625 - a=recall: 1.0000\n",
            "Epoch 39/1000\n",
            "2/2 [==============================] - 0s 9ms/step - loss: 0.6813 - accuracy: 0.5625 - precision: 0.5625 - a=recall: 1.0000\n",
            "Epoch 40/1000\n",
            "2/2 [==============================] - 0s 10ms/step - loss: 0.6814 - accuracy: 0.5625 - precision: 0.5625 - a=recall: 1.0000\n",
            "Epoch 41/1000\n",
            "2/2 [==============================] - 0s 9ms/step - loss: 0.6813 - accuracy: 0.5625 - precision: 0.5625 - a=recall: 1.0000\n",
            "Epoch 42/1000\n",
            "2/2 [==============================] - 0s 9ms/step - loss: 0.6816 - accuracy: 0.5625 - precision: 0.5625 - a=recall: 1.0000\n",
            "Epoch 43/1000\n",
            "2/2 [==============================] - 0s 10ms/step - loss: 0.6829 - accuracy: 0.5469 - precision: 0.5574 - a=recall: 0.9444\n",
            "Epoch 44/1000\n",
            "2/2 [==============================] - 0s 15ms/step - loss: 0.6813 - accuracy: 0.5625 - precision: 0.5625 - a=recall: 1.0000\n",
            "Epoch 45/1000\n",
            "2/2 [==============================] - 0s 13ms/step - loss: 0.6842 - accuracy: 0.5625 - precision: 0.5625 - a=recall: 1.0000\n",
            "Epoch 46/1000\n",
            "2/2 [==============================] - 0s 12ms/step - loss: 0.6827 - accuracy: 0.5625 - precision: 0.5625 - a=recall: 1.0000\n",
            "Epoch 47/1000\n",
            "2/2 [==============================] - 0s 10ms/step - loss: 0.6814 - accuracy: 0.5625 - precision: 0.5625 - a=recall: 1.0000\n",
            "Epoch 48/1000\n",
            "2/2 [==============================] - 0s 11ms/step - loss: 0.6869 - accuracy: 0.5625 - precision: 0.5625 - a=recall: 1.0000\n",
            "Epoch 49/1000\n",
            "2/2 [==============================] - 0s 11ms/step - loss: 0.6848 - accuracy: 0.5469 - precision: 0.5556 - a=recall: 0.9722\n",
            "Epoch 50/1000\n",
            "2/2 [==============================] - 0s 10ms/step - loss: 0.6842 - accuracy: 0.5469 - precision: 0.5556 - a=recall: 0.9722\n",
            "Epoch 51/1000\n",
            "2/2 [==============================] - 0s 12ms/step - loss: 0.6834 - accuracy: 0.5625 - precision: 0.5625 - a=recall: 1.0000\n",
            "Epoch 52/1000\n",
            "2/2 [==============================] - 0s 10ms/step - loss: 0.6813 - accuracy: 0.5625 - precision: 0.5625 - a=recall: 1.0000\n",
            "Epoch 53/1000\n",
            "2/2 [==============================] - 0s 12ms/step - loss: 0.6813 - accuracy: 0.5625 - precision: 0.5625 - a=recall: 1.0000\n",
            "Epoch 54/1000\n",
            "2/2 [==============================] - 0s 11ms/step - loss: 0.6813 - accuracy: 0.5625 - precision: 0.5625 - a=recall: 1.0000\n",
            "Epoch 55/1000\n",
            "2/2 [==============================] - 0s 17ms/step - loss: 0.6905 - accuracy: 0.5781 - precision: 0.5714 - a=recall: 1.0000\n",
            "Epoch 56/1000\n",
            "2/2 [==============================] - 0s 11ms/step - loss: 0.6836 - accuracy: 0.5625 - precision: 0.5625 - a=recall: 1.0000\n",
            "Epoch 57/1000\n",
            "2/2 [==============================] - 0s 10ms/step - loss: 0.6814 - accuracy: 0.5625 - precision: 0.5625 - a=recall: 1.0000\n",
            "Epoch 58/1000\n",
            "2/2 [==============================] - 0s 11ms/step - loss: 0.6813 - accuracy: 0.5625 - precision: 0.5625 - a=recall: 1.0000\n",
            "Epoch 59/1000\n",
            "2/2 [==============================] - 0s 11ms/step - loss: 0.6834 - accuracy: 0.5625 - precision: 0.5625 - a=recall: 1.0000\n",
            "Epoch 60/1000\n",
            "2/2 [==============================] - 0s 13ms/step - loss: 0.6816 - accuracy: 0.5781 - precision: 0.5714 - a=recall: 1.0000\n",
            "Epoch 61/1000\n",
            "2/2 [==============================] - 0s 15ms/step - loss: 0.6843 - accuracy: 0.5625 - precision: 0.5645 - a=recall: 0.9722\n",
            "Epoch 62/1000\n",
            "2/2 [==============================] - 0s 11ms/step - loss: 0.6812 - accuracy: 0.5625 - precision: 0.5625 - a=recall: 1.0000\n",
            "Epoch 63/1000\n",
            "2/2 [==============================] - 0s 14ms/step - loss: 0.6827 - accuracy: 0.5625 - precision: 0.5625 - a=recall: 1.0000\n",
            "Epoch 64/1000\n",
            "2/2 [==============================] - 0s 11ms/step - loss: 0.6815 - accuracy: 0.5625 - precision: 0.5625 - a=recall: 1.0000\n",
            "Epoch 65/1000\n",
            "2/2 [==============================] - 0s 17ms/step - loss: 0.6814 - accuracy: 0.5625 - precision: 0.5625 - a=recall: 1.0000\n",
            "Epoch 66/1000\n",
            "2/2 [==============================] - 0s 11ms/step - loss: 0.6812 - accuracy: 0.5625 - precision: 0.5625 - a=recall: 1.0000\n",
            "Epoch 67/1000\n",
            "2/2 [==============================] - 0s 10ms/step - loss: 0.6812 - accuracy: 0.5625 - precision: 0.5625 - a=recall: 1.0000\n",
            "Epoch 68/1000\n",
            "2/2 [==============================] - 0s 12ms/step - loss: 0.6820 - accuracy: 0.5625 - precision: 0.5625 - a=recall: 1.0000\n",
            "Epoch 69/1000\n",
            "2/2 [==============================] - 0s 10ms/step - loss: 0.6825 - accuracy: 0.5781 - precision: 0.5714 - a=recall: 1.0000\n",
            "Epoch 70/1000\n",
            "2/2 [==============================] - 0s 11ms/step - loss: 0.6820 - accuracy: 0.5781 - precision: 0.5714 - a=recall: 1.0000\n",
            "Epoch 71/1000\n",
            "2/2 [==============================] - 0s 12ms/step - loss: 0.6818 - accuracy: 0.5625 - precision: 0.5625 - a=recall: 1.0000\n",
            "Epoch 72/1000\n",
            "2/2 [==============================] - 0s 11ms/step - loss: 0.6813 - accuracy: 0.5625 - precision: 0.5625 - a=recall: 1.0000\n",
            "Epoch 73/1000\n",
            "2/2 [==============================] - 0s 12ms/step - loss: 0.6813 - accuracy: 0.5625 - precision: 0.5625 - a=recall: 1.0000\n",
            "Epoch 74/1000\n",
            "2/2 [==============================] - 0s 11ms/step - loss: 0.6811 - accuracy: 0.5625 - precision: 0.5625 - a=recall: 1.0000\n",
            "Epoch 75/1000\n",
            "2/2 [==============================] - 0s 12ms/step - loss: 0.6817 - accuracy: 0.5625 - precision: 0.5625 - a=recall: 1.0000\n",
            "Epoch 76/1000\n",
            "2/2 [==============================] - 0s 11ms/step - loss: 0.6819 - accuracy: 0.5625 - precision: 0.5625 - a=recall: 1.0000\n",
            "Epoch 77/1000\n",
            "2/2 [==============================] - 0s 10ms/step - loss: 0.6835 - accuracy: 0.5625 - precision: 0.5625 - a=recall: 1.0000\n",
            "Epoch 78/1000\n",
            "2/2 [==============================] - 0s 10ms/step - loss: 0.6812 - accuracy: 0.5625 - precision: 0.5625 - a=recall: 1.0000\n",
            "Epoch 79/1000\n",
            "2/2 [==============================] - 0s 11ms/step - loss: 0.6812 - accuracy: 0.5625 - precision: 0.5625 - a=recall: 1.0000\n",
            "Epoch 80/1000\n",
            "2/2 [==============================] - 0s 10ms/step - loss: 0.6811 - accuracy: 0.5625 - precision: 0.5625 - a=recall: 1.0000\n",
            "Epoch 81/1000\n",
            "2/2 [==============================] - 0s 10ms/step - loss: 0.6812 - accuracy: 0.5625 - precision: 0.5625 - a=recall: 1.0000\n",
            "Epoch 82/1000\n",
            "2/2 [==============================] - 0s 10ms/step - loss: 0.6825 - accuracy: 0.5625 - precision: 0.5625 - a=recall: 1.0000\n",
            "Epoch 83/1000\n",
            "2/2 [==============================] - 0s 11ms/step - loss: 0.6812 - accuracy: 0.5625 - precision: 0.5625 - a=recall: 1.0000\n",
            "Epoch 84/1000\n",
            "2/2 [==============================] - 0s 11ms/step - loss: 0.6815 - accuracy: 0.5625 - precision: 0.5625 - a=recall: 1.0000\n",
            "Epoch 85/1000\n",
            "2/2 [==============================] - 0s 11ms/step - loss: 0.6811 - accuracy: 0.5625 - precision: 0.5625 - a=recall: 1.0000\n",
            "Epoch 86/1000\n",
            "2/2 [==============================] - 0s 10ms/step - loss: 0.6830 - accuracy: 0.5312 - precision: 0.5484 - a=recall: 0.9444\n",
            "Epoch 87/1000\n",
            "2/2 [==============================] - 0s 11ms/step - loss: 0.6827 - accuracy: 0.5625 - precision: 0.5645 - a=recall: 0.9722\n",
            "Epoch 88/1000\n",
            "2/2 [==============================] - 0s 16ms/step - loss: 0.6815 - accuracy: 0.5625 - precision: 0.5625 - a=recall: 1.0000\n",
            "Epoch 89/1000\n",
            "2/2 [==============================] - 0s 14ms/step - loss: 0.6836 - accuracy: 0.5625 - precision: 0.5625 - a=recall: 1.0000\n",
            "Epoch 90/1000\n",
            "2/2 [==============================] - 0s 18ms/step - loss: 0.6810 - accuracy: 0.5625 - precision: 0.5625 - a=recall: 1.0000\n",
            "Epoch 91/1000\n",
            "2/2 [==============================] - 0s 11ms/step - loss: 0.6811 - accuracy: 0.5625 - precision: 0.5625 - a=recall: 1.0000\n",
            "Epoch 92/1000\n",
            "2/2 [==============================] - 0s 10ms/step - loss: 0.6837 - accuracy: 0.5625 - precision: 0.5625 - a=recall: 1.0000\n",
            "Epoch 93/1000\n",
            "2/2 [==============================] - 0s 11ms/step - loss: 0.6825 - accuracy: 0.5469 - precision: 0.5556 - a=recall: 0.9722\n",
            "Epoch 94/1000\n",
            "2/2 [==============================] - 0s 10ms/step - loss: 0.6820 - accuracy: 0.5625 - precision: 0.5625 - a=recall: 1.0000\n",
            "Epoch 95/1000\n",
            "2/2 [==============================] - 0s 10ms/step - loss: 0.6810 - accuracy: 0.5625 - precision: 0.5625 - a=recall: 1.0000\n",
            "Epoch 96/1000\n",
            "2/2 [==============================] - 0s 10ms/step - loss: 0.6811 - accuracy: 0.5625 - precision: 0.5625 - a=recall: 1.0000\n",
            "Epoch 97/1000\n",
            "2/2 [==============================] - 0s 12ms/step - loss: 0.6813 - accuracy: 0.5625 - precision: 0.5625 - a=recall: 1.0000\n",
            "Epoch 98/1000\n",
            "2/2 [==============================] - 0s 10ms/step - loss: 0.6823 - accuracy: 0.5625 - precision: 0.5625 - a=recall: 1.0000\n",
            "Epoch 99/1000\n",
            "2/2 [==============================] - 0s 12ms/step - loss: 0.6828 - accuracy: 0.5625 - precision: 0.5625 - a=recall: 1.0000\n",
            "Epoch 100/1000\n",
            "2/2 [==============================] - 0s 10ms/step - loss: 0.6825 - accuracy: 0.5625 - precision: 0.5625 - a=recall: 1.0000\n",
            "Epoch 101/1000\n",
            "2/2 [==============================] - 0s 11ms/step - loss: 0.6812 - accuracy: 0.5625 - precision: 0.5625 - a=recall: 1.0000\n",
            "Epoch 102/1000\n",
            "2/2 [==============================] - 0s 11ms/step - loss: 0.6814 - accuracy: 0.5781 - precision: 0.5714 - a=recall: 1.0000\n",
            "Epoch 103/1000\n",
            "2/2 [==============================] - 0s 11ms/step - loss: 0.6811 - accuracy: 0.5625 - precision: 0.5625 - a=recall: 1.0000\n",
            "Epoch 104/1000\n",
            "2/2 [==============================] - 0s 11ms/step - loss: 0.6818 - accuracy: 0.5625 - precision: 0.5625 - a=recall: 1.0000\n",
            "Epoch 105/1000\n",
            "2/2 [==============================] - 0s 10ms/step - loss: 0.6816 - accuracy: 0.5625 - precision: 0.5625 - a=recall: 1.0000\n",
            "Epoch 106/1000\n",
            "2/2 [==============================] - 0s 10ms/step - loss: 0.6865 - accuracy: 0.5625 - precision: 0.5625 - a=recall: 1.0000\n",
            "Epoch 107/1000\n",
            "2/2 [==============================] - 0s 15ms/step - loss: 0.6824 - accuracy: 0.5625 - precision: 0.5625 - a=recall: 1.0000\n",
            "Epoch 108/1000\n",
            "2/2 [==============================] - 0s 15ms/step - loss: 0.6813 - accuracy: 0.5781 - precision: 0.5714 - a=recall: 1.0000\n",
            "Epoch 109/1000\n",
            "2/2 [==============================] - 0s 13ms/step - loss: 0.6810 - accuracy: 0.5625 - precision: 0.5625 - a=recall: 1.0000\n",
            "Epoch 110/1000\n",
            "2/2 [==============================] - 0s 10ms/step - loss: 0.6836 - accuracy: 0.5625 - precision: 0.5625 - a=recall: 1.0000\n",
            "Epoch 111/1000\n",
            "2/2 [==============================] - 0s 10ms/step - loss: 0.6849 - accuracy: 0.5625 - precision: 0.5625 - a=recall: 1.0000\n",
            "Epoch 112/1000\n",
            "2/2 [==============================] - 0s 11ms/step - loss: 0.6810 - accuracy: 0.5625 - precision: 0.5625 - a=recall: 1.0000\n",
            "Epoch 113/1000\n",
            "2/2 [==============================] - 0s 14ms/step - loss: 0.6823 - accuracy: 0.5625 - precision: 0.5625 - a=recall: 1.0000\n",
            "Epoch 114/1000\n",
            "2/2 [==============================] - 0s 11ms/step - loss: 0.6812 - accuracy: 0.5625 - precision: 0.5645 - a=recall: 0.9722\n",
            "Epoch 115/1000\n",
            "2/2 [==============================] - 0s 12ms/step - loss: 0.6813 - accuracy: 0.5781 - precision: 0.5714 - a=recall: 1.0000\n",
            "Epoch 116/1000\n",
            "2/2 [==============================] - 0s 10ms/step - loss: 0.6812 - accuracy: 0.5781 - precision: 0.5714 - a=recall: 1.0000\n",
            "Epoch 117/1000\n",
            "2/2 [==============================] - 0s 13ms/step - loss: 0.6831 - accuracy: 0.5469 - precision: 0.5556 - a=recall: 0.9722\n",
            "Epoch 118/1000\n",
            "2/2 [==============================] - 0s 11ms/step - loss: 0.6810 - accuracy: 0.5625 - precision: 0.5625 - a=recall: 1.0000\n",
            "Epoch 119/1000\n",
            "2/2 [==============================] - 0s 14ms/step - loss: 0.6812 - accuracy: 0.5625 - precision: 0.5625 - a=recall: 1.0000\n",
            "Epoch 120/1000\n",
            "2/2 [==============================] - 0s 10ms/step - loss: 0.6832 - accuracy: 0.5625 - precision: 0.5645 - a=recall: 0.9722\n",
            "Epoch 121/1000\n",
            "2/2 [==============================] - 0s 10ms/step - loss: 0.6816 - accuracy: 0.5625 - precision: 0.5625 - a=recall: 1.0000\n",
            "Epoch 122/1000\n",
            "2/2 [==============================] - 0s 9ms/step - loss: 0.6813 - accuracy: 0.5625 - precision: 0.5625 - a=recall: 1.0000\n",
            "Epoch 123/1000\n",
            "2/2 [==============================] - 0s 9ms/step - loss: 0.6814 - accuracy: 0.5625 - precision: 0.5625 - a=recall: 1.0000\n",
            "Epoch 124/1000\n",
            "2/2 [==============================] - 0s 12ms/step - loss: 0.6809 - accuracy: 0.5625 - precision: 0.5625 - a=recall: 1.0000\n",
            "Epoch 125/1000\n",
            "2/2 [==============================] - 0s 12ms/step - loss: 0.6808 - accuracy: 0.5625 - precision: 0.5625 - a=recall: 1.0000\n",
            "Epoch 126/1000\n",
            "2/2 [==============================] - 0s 11ms/step - loss: 0.6819 - accuracy: 0.5469 - precision: 0.5556 - a=recall: 0.9722\n",
            "Epoch 127/1000\n",
            "2/2 [==============================] - 0s 11ms/step - loss: 0.6815 - accuracy: 0.5625 - precision: 0.5625 - a=recall: 1.0000\n",
            "Epoch 128/1000\n",
            "2/2 [==============================] - 0s 11ms/step - loss: 0.6811 - accuracy: 0.5625 - precision: 0.5625 - a=recall: 1.0000\n",
            "Epoch 129/1000\n",
            "2/2 [==============================] - 0s 11ms/step - loss: 0.6809 - accuracy: 0.5625 - precision: 0.5625 - a=recall: 1.0000\n",
            "Epoch 130/1000\n",
            "2/2 [==============================] - 0s 11ms/step - loss: 0.6821 - accuracy: 0.5469 - precision: 0.5556 - a=recall: 0.9722\n",
            "Epoch 131/1000\n",
            "2/2 [==============================] - 0s 10ms/step - loss: 0.6811 - accuracy: 0.5625 - precision: 0.5625 - a=recall: 1.0000\n",
            "Epoch 132/1000\n",
            "2/2 [==============================] - 0s 11ms/step - loss: 0.6811 - accuracy: 0.5625 - precision: 0.5625 - a=recall: 1.0000\n",
            "Epoch 133/1000\n",
            "2/2 [==============================] - 0s 11ms/step - loss: 0.6831 - accuracy: 0.5625 - precision: 0.5625 - a=recall: 1.0000\n",
            "Epoch 134/1000\n",
            "2/2 [==============================] - 0s 11ms/step - loss: 0.6808 - accuracy: 0.5625 - precision: 0.5625 - a=recall: 1.0000\n",
            "Epoch 135/1000\n",
            "2/2 [==============================] - 0s 10ms/step - loss: 0.6809 - accuracy: 0.5625 - precision: 0.5625 - a=recall: 1.0000\n",
            "Epoch 136/1000\n",
            "2/2 [==============================] - 0s 11ms/step - loss: 0.6814 - accuracy: 0.5625 - precision: 0.5625 - a=recall: 1.0000\n",
            "Epoch 137/1000\n",
            "2/2 [==============================] - 0s 11ms/step - loss: 0.6819 - accuracy: 0.5625 - precision: 0.5625 - a=recall: 1.0000\n",
            "Epoch 138/1000\n",
            "2/2 [==============================] - 0s 11ms/step - loss: 0.6811 - accuracy: 0.5625 - precision: 0.5625 - a=recall: 1.0000\n",
            "Epoch 139/1000\n",
            "2/2 [==============================] - 0s 11ms/step - loss: 0.6817 - accuracy: 0.5469 - precision: 0.5556 - a=recall: 0.9722\n",
            "Epoch 140/1000\n",
            "2/2 [==============================] - 0s 12ms/step - loss: 0.6851 - accuracy: 0.5781 - precision: 0.5738 - a=recall: 0.9722\n",
            "Epoch 141/1000\n",
            "2/2 [==============================] - 0s 14ms/step - loss: 0.6808 - accuracy: 0.5625 - precision: 0.5625 - a=recall: 1.0000\n",
            "Epoch 142/1000\n",
            "2/2 [==============================] - 0s 12ms/step - loss: 0.6819 - accuracy: 0.5312 - precision: 0.5484 - a=recall: 0.9444\n",
            "Epoch 143/1000\n",
            "2/2 [==============================] - 0s 18ms/step - loss: 0.6825 - accuracy: 0.5469 - precision: 0.5574 - a=recall: 0.9444\n",
            "Epoch 144/1000\n",
            "2/2 [==============================] - 0s 16ms/step - loss: 0.6824 - accuracy: 0.5625 - precision: 0.5645 - a=recall: 0.9722\n",
            "Epoch 145/1000\n",
            "2/2 [==============================] - 0s 17ms/step - loss: 0.6818 - accuracy: 0.5625 - precision: 0.5625 - a=recall: 1.0000\n",
            "Epoch 146/1000\n",
            "2/2 [==============================] - 0s 16ms/step - loss: 0.6814 - accuracy: 0.5625 - precision: 0.5625 - a=recall: 1.0000\n",
            "Epoch 147/1000\n",
            "2/2 [==============================] - 0s 13ms/step - loss: 0.6820 - accuracy: 0.5312 - precision: 0.5484 - a=recall: 0.9444\n",
            "Epoch 148/1000\n",
            "2/2 [==============================] - 0s 12ms/step - loss: 0.6808 - accuracy: 0.5625 - precision: 0.5625 - a=recall: 1.0000\n",
            "Epoch 149/1000\n",
            "2/2 [==============================] - 0s 11ms/step - loss: 0.6809 - accuracy: 0.5625 - precision: 0.5625 - a=recall: 1.0000\n",
            "Epoch 150/1000\n",
            "2/2 [==============================] - 0s 10ms/step - loss: 0.6816 - accuracy: 0.5625 - precision: 0.5625 - a=recall: 1.0000\n",
            "Epoch 151/1000\n",
            "2/2 [==============================] - 0s 11ms/step - loss: 0.6811 - accuracy: 0.5469 - precision: 0.5556 - a=recall: 0.9722\n",
            "Epoch 152/1000\n",
            "2/2 [==============================] - 0s 10ms/step - loss: 0.6809 - accuracy: 0.5625 - precision: 0.5625 - a=recall: 1.0000\n",
            "Epoch 153/1000\n",
            "2/2 [==============================] - 0s 10ms/step - loss: 0.6809 - accuracy: 0.5781 - precision: 0.5714 - a=recall: 1.0000\n",
            "Epoch 154/1000\n",
            "2/2 [==============================] - 0s 10ms/step - loss: 0.6808 - accuracy: 0.5781 - precision: 0.5714 - a=recall: 1.0000\n",
            "Epoch 155/1000\n",
            "2/2 [==============================] - 0s 11ms/step - loss: 0.6817 - accuracy: 0.5625 - precision: 0.5645 - a=recall: 0.9722\n",
            "Epoch 156/1000\n",
            "2/2 [==============================] - 0s 11ms/step - loss: 0.6811 - accuracy: 0.5625 - precision: 0.5625 - a=recall: 1.0000\n",
            "Epoch 157/1000\n",
            "2/2 [==============================] - 0s 9ms/step - loss: 0.6813 - accuracy: 0.5625 - precision: 0.5625 - a=recall: 1.0000\n",
            "Epoch 158/1000\n",
            "2/2 [==============================] - 0s 10ms/step - loss: 0.6817 - accuracy: 0.5625 - precision: 0.5625 - a=recall: 1.0000\n",
            "Epoch 159/1000\n",
            "2/2 [==============================] - 0s 10ms/step - loss: 0.6808 - accuracy: 0.5625 - precision: 0.5625 - a=recall: 1.0000\n",
            "Epoch 160/1000\n",
            "2/2 [==============================] - 0s 11ms/step - loss: 0.6807 - accuracy: 0.5625 - precision: 0.5625 - a=recall: 1.0000\n",
            "Epoch 161/1000\n",
            "2/2 [==============================] - 0s 11ms/step - loss: 0.6808 - accuracy: 0.5625 - precision: 0.5625 - a=recall: 1.0000\n",
            "Epoch 162/1000\n",
            "2/2 [==============================] - 0s 10ms/step - loss: 0.6812 - accuracy: 0.5625 - precision: 0.5625 - a=recall: 1.0000\n",
            "Epoch 163/1000\n",
            "2/2 [==============================] - 0s 15ms/step - loss: 0.6825 - accuracy: 0.5469 - precision: 0.5556 - a=recall: 0.9722\n",
            "Epoch 164/1000\n",
            "2/2 [==============================] - 0s 19ms/step - loss: 0.6810 - accuracy: 0.5625 - precision: 0.5625 - a=recall: 1.0000\n",
            "Epoch 165/1000\n",
            "2/2 [==============================] - 0s 11ms/step - loss: 0.6808 - accuracy: 0.5625 - precision: 0.5625 - a=recall: 1.0000\n",
            "Epoch 166/1000\n",
            "2/2 [==============================] - 0s 12ms/step - loss: 0.6809 - accuracy: 0.5625 - precision: 0.5625 - a=recall: 1.0000\n",
            "Epoch 167/1000\n",
            "2/2 [==============================] - 0s 10ms/step - loss: 0.6877 - accuracy: 0.5625 - precision: 0.5625 - a=recall: 1.0000\n",
            "Epoch 168/1000\n",
            "2/2 [==============================] - 0s 11ms/step - loss: 0.6812 - accuracy: 0.5625 - precision: 0.5645 - a=recall: 0.9722\n",
            "Epoch 169/1000\n",
            "2/2 [==============================] - 0s 11ms/step - loss: 0.6812 - accuracy: 0.5625 - precision: 0.5645 - a=recall: 0.9722\n",
            "Epoch 170/1000\n",
            "2/2 [==============================] - 0s 11ms/step - loss: 0.6811 - accuracy: 0.5625 - precision: 0.5625 - a=recall: 1.0000\n",
            "Epoch 171/1000\n",
            "2/2 [==============================] - 0s 10ms/step - loss: 0.6809 - accuracy: 0.5625 - precision: 0.5625 - a=recall: 1.0000\n",
            "Epoch 172/1000\n",
            "2/2 [==============================] - 0s 11ms/step - loss: 0.6807 - accuracy: 0.5625 - precision: 0.5625 - a=recall: 1.0000\n",
            "Epoch 173/1000\n",
            "2/2 [==============================] - 0s 9ms/step - loss: 0.6848 - accuracy: 0.5625 - precision: 0.5690 - a=recall: 0.9167\n",
            "Epoch 174/1000\n",
            "2/2 [==============================] - 0s 10ms/step - loss: 0.6808 - accuracy: 0.5625 - precision: 0.5625 - a=recall: 1.0000\n",
            "Epoch 175/1000\n",
            "2/2 [==============================] - 0s 9ms/step - loss: 0.6807 - accuracy: 0.5625 - precision: 0.5625 - a=recall: 1.0000\n",
            "Epoch 176/1000\n",
            "2/2 [==============================] - 0s 10ms/step - loss: 0.6820 - accuracy: 0.5469 - precision: 0.5556 - a=recall: 0.9722\n",
            "Epoch 177/1000\n",
            "2/2 [==============================] - 0s 10ms/step - loss: 0.6868 - accuracy: 0.5625 - precision: 0.5625 - a=recall: 1.0000\n",
            "Epoch 178/1000\n",
            "2/2 [==============================] - 0s 10ms/step - loss: 0.6815 - accuracy: 0.5312 - precision: 0.5484 - a=recall: 0.9444\n",
            "Epoch 179/1000\n",
            "2/2 [==============================] - 0s 10ms/step - loss: 0.6810 - accuracy: 0.5469 - precision: 0.5574 - a=recall: 0.9444\n",
            "Epoch 180/1000\n",
            "2/2 [==============================] - 0s 10ms/step - loss: 0.6832 - accuracy: 0.5469 - precision: 0.5556 - a=recall: 0.9722\n",
            "Epoch 181/1000\n",
            "2/2 [==============================] - 0s 10ms/step - loss: 0.6811 - accuracy: 0.5625 - precision: 0.5625 - a=recall: 1.0000\n",
            "Epoch 182/1000\n",
            "2/2 [==============================] - 0s 10ms/step - loss: 0.6846 - accuracy: 0.5625 - precision: 0.5625 - a=recall: 1.0000\n",
            "Epoch 183/1000\n",
            "2/2 [==============================] - 0s 10ms/step - loss: 0.6809 - accuracy: 0.5469 - precision: 0.5556 - a=recall: 0.9722\n",
            "Epoch 184/1000\n",
            "2/2 [==============================] - 0s 12ms/step - loss: 0.6825 - accuracy: 0.5625 - precision: 0.5625 - a=recall: 1.0000\n",
            "Epoch 185/1000\n",
            "2/2 [==============================] - 0s 10ms/step - loss: 0.6808 - accuracy: 0.5625 - precision: 0.5645 - a=recall: 0.9722\n",
            "Epoch 186/1000\n",
            "2/2 [==============================] - 0s 10ms/step - loss: 0.6805 - accuracy: 0.5625 - precision: 0.5625 - a=recall: 1.0000\n",
            "Epoch 187/1000\n",
            "2/2 [==============================] - 0s 10ms/step - loss: 0.6805 - accuracy: 0.5625 - precision: 0.5625 - a=recall: 1.0000\n",
            "Epoch 188/1000\n",
            "2/2 [==============================] - 0s 10ms/step - loss: 0.6809 - accuracy: 0.5469 - precision: 0.5556 - a=recall: 0.9722\n",
            "Epoch 189/1000\n",
            "2/2 [==============================] - 0s 10ms/step - loss: 0.6807 - accuracy: 0.5625 - precision: 0.5625 - a=recall: 1.0000\n",
            "Epoch 190/1000\n",
            "2/2 [==============================] - 0s 11ms/step - loss: 0.6809 - accuracy: 0.5625 - precision: 0.5625 - a=recall: 1.0000\n",
            "Epoch 191/1000\n",
            "2/2 [==============================] - 0s 10ms/step - loss: 0.6806 - accuracy: 0.5625 - precision: 0.5625 - a=recall: 1.0000\n",
            "Epoch 192/1000\n",
            "2/2 [==============================] - 0s 10ms/step - loss: 0.6821 - accuracy: 0.5625 - precision: 0.5625 - a=recall: 1.0000\n",
            "Epoch 193/1000\n",
            "2/2 [==============================] - 0s 9ms/step - loss: 0.6806 - accuracy: 0.5625 - precision: 0.5625 - a=recall: 1.0000\n",
            "Epoch 194/1000\n",
            "2/2 [==============================] - 0s 9ms/step - loss: 0.6846 - accuracy: 0.5469 - precision: 0.5574 - a=recall: 0.9444\n",
            "Epoch 195/1000\n",
            "2/2 [==============================] - 0s 11ms/step - loss: 0.6839 - accuracy: 0.5625 - precision: 0.5625 - a=recall: 1.0000\n",
            "Epoch 196/1000\n",
            "2/2 [==============================] - 0s 11ms/step - loss: 0.6818 - accuracy: 0.5625 - precision: 0.5625 - a=recall: 1.0000\n",
            "Epoch 197/1000\n",
            "2/2 [==============================] - 0s 11ms/step - loss: 0.6815 - accuracy: 0.5625 - precision: 0.5625 - a=recall: 1.0000\n",
            "Epoch 198/1000\n",
            "2/2 [==============================] - 0s 9ms/step - loss: 0.6833 - accuracy: 0.5312 - precision: 0.5500 - a=recall: 0.9167\n",
            "Epoch 199/1000\n",
            "2/2 [==============================] - 0s 10ms/step - loss: 0.6805 - accuracy: 0.5625 - precision: 0.5625 - a=recall: 1.0000\n",
            "Epoch 200/1000\n",
            "2/2 [==============================] - 0s 10ms/step - loss: 0.6835 - accuracy: 0.5625 - precision: 0.5625 - a=recall: 1.0000\n",
            "Epoch 201/1000\n",
            "2/2 [==============================] - 0s 10ms/step - loss: 0.6890 - accuracy: 0.5781 - precision: 0.5789 - a=recall: 0.9167\n",
            "Epoch 202/1000\n",
            "2/2 [==============================] - 0s 11ms/step - loss: 0.6804 - accuracy: 0.5625 - precision: 0.5625 - a=recall: 1.0000\n",
            "Epoch 203/1000\n",
            "2/2 [==============================] - 0s 16ms/step - loss: 0.6817 - accuracy: 0.5625 - precision: 0.5625 - a=recall: 1.0000\n",
            "Epoch 204/1000\n",
            "2/2 [==============================] - 0s 13ms/step - loss: 0.6817 - accuracy: 0.5625 - precision: 0.5625 - a=recall: 1.0000\n",
            "Epoch 205/1000\n",
            "2/2 [==============================] - 0s 16ms/step - loss: 0.6814 - accuracy: 0.5625 - precision: 0.5645 - a=recall: 0.9722\n",
            "Epoch 206/1000\n",
            "2/2 [==============================] - 0s 20ms/step - loss: 0.6806 - accuracy: 0.5625 - precision: 0.5625 - a=recall: 1.0000\n",
            "Epoch 207/1000\n",
            "2/2 [==============================] - 0s 11ms/step - loss: 0.6806 - accuracy: 0.5781 - precision: 0.5714 - a=recall: 1.0000\n",
            "Epoch 208/1000\n",
            "2/2 [==============================] - 0s 16ms/step - loss: 0.6821 - accuracy: 0.5625 - precision: 0.5625 - a=recall: 1.0000\n",
            "Epoch 209/1000\n",
            "2/2 [==============================] - 0s 13ms/step - loss: 0.6818 - accuracy: 0.5781 - precision: 0.5714 - a=recall: 1.0000\n",
            "Epoch 210/1000\n",
            "2/2 [==============================] - 0s 12ms/step - loss: 0.6809 - accuracy: 0.5625 - precision: 0.5645 - a=recall: 0.9722\n",
            "Epoch 211/1000\n",
            "2/2 [==============================] - 0s 16ms/step - loss: 0.6829 - accuracy: 0.5625 - precision: 0.5625 - a=recall: 1.0000\n",
            "Epoch 212/1000\n",
            "2/2 [==============================] - 0s 15ms/step - loss: 0.6804 - accuracy: 0.5781 - precision: 0.5714 - a=recall: 1.0000\n",
            "Epoch 213/1000\n",
            "2/2 [==============================] - 0s 15ms/step - loss: 0.6804 - accuracy: 0.5781 - precision: 0.5714 - a=recall: 1.0000\n",
            "Epoch 214/1000\n",
            "2/2 [==============================] - 0s 12ms/step - loss: 0.6811 - accuracy: 0.5781 - precision: 0.5714 - a=recall: 1.0000\n",
            "Epoch 215/1000\n",
            "2/2 [==============================] - 0s 15ms/step - loss: 0.6812 - accuracy: 0.5781 - precision: 0.5714 - a=recall: 1.0000\n",
            "Epoch 216/1000\n",
            "2/2 [==============================] - 0s 13ms/step - loss: 0.6818 - accuracy: 0.5625 - precision: 0.5625 - a=recall: 1.0000\n",
            "Epoch 217/1000\n",
            "2/2 [==============================] - 0s 15ms/step - loss: 0.6848 - accuracy: 0.5469 - precision: 0.5574 - a=recall: 0.9444\n",
            "Epoch 218/1000\n",
            "2/2 [==============================] - 0s 16ms/step - loss: 0.6804 - accuracy: 0.5625 - precision: 0.5625 - a=recall: 1.0000\n",
            "Epoch 219/1000\n",
            "2/2 [==============================] - 0s 11ms/step - loss: 0.6805 - accuracy: 0.5625 - precision: 0.5625 - a=recall: 1.0000\n",
            "Epoch 220/1000\n",
            "2/2 [==============================] - 0s 10ms/step - loss: 0.6809 - accuracy: 0.5625 - precision: 0.5625 - a=recall: 1.0000\n",
            "Epoch 221/1000\n",
            "2/2 [==============================] - 0s 15ms/step - loss: 0.6804 - accuracy: 0.5625 - precision: 0.5645 - a=recall: 0.9722\n",
            "Epoch 222/1000\n",
            "2/2 [==============================] - 0s 15ms/step - loss: 0.6827 - accuracy: 0.5625 - precision: 0.5645 - a=recall: 0.9722\n",
            "Epoch 223/1000\n",
            "2/2 [==============================] - 0s 16ms/step - loss: 0.6807 - accuracy: 0.5625 - precision: 0.5625 - a=recall: 1.0000\n",
            "Epoch 224/1000\n",
            "2/2 [==============================] - 0s 13ms/step - loss: 0.6803 - accuracy: 0.5625 - precision: 0.5625 - a=recall: 1.0000\n",
            "Epoch 225/1000\n",
            "2/2 [==============================] - 0s 14ms/step - loss: 0.6805 - accuracy: 0.5625 - precision: 0.5645 - a=recall: 0.9722\n",
            "Epoch 226/1000\n",
            "2/2 [==============================] - 0s 12ms/step - loss: 0.6811 - accuracy: 0.5469 - precision: 0.5556 - a=recall: 0.9722\n",
            "Epoch 227/1000\n",
            "2/2 [==============================] - 0s 14ms/step - loss: 0.6804 - accuracy: 0.5625 - precision: 0.5625 - a=recall: 1.0000\n",
            "Epoch 228/1000\n",
            "2/2 [==============================] - 0s 13ms/step - loss: 0.6804 - accuracy: 0.5625 - precision: 0.5625 - a=recall: 1.0000\n",
            "Epoch 229/1000\n",
            "2/2 [==============================] - 0s 15ms/step - loss: 0.6803 - accuracy: 0.5625 - precision: 0.5625 - a=recall: 1.0000\n",
            "Epoch 230/1000\n",
            "2/2 [==============================] - 0s 15ms/step - loss: 0.6815 - accuracy: 0.5469 - precision: 0.5556 - a=recall: 0.9722\n",
            "Epoch 231/1000\n",
            "2/2 [==============================] - 0s 10ms/step - loss: 0.6808 - accuracy: 0.5625 - precision: 0.5625 - a=recall: 1.0000\n",
            "Epoch 232/1000\n",
            "2/2 [==============================] - 0s 14ms/step - loss: 0.6802 - accuracy: 0.5625 - precision: 0.5625 - a=recall: 1.0000\n",
            "Epoch 233/1000\n",
            "2/2 [==============================] - 0s 15ms/step - loss: 0.6813 - accuracy: 0.5625 - precision: 0.5625 - a=recall: 1.0000\n",
            "Epoch 234/1000\n",
            "2/2 [==============================] - 0s 10ms/step - loss: 0.6809 - accuracy: 0.5625 - precision: 0.5625 - a=recall: 1.0000\n",
            "Epoch 235/1000\n",
            "2/2 [==============================] - 0s 11ms/step - loss: 0.6807 - accuracy: 0.5625 - precision: 0.5625 - a=recall: 1.0000\n",
            "Epoch 236/1000\n",
            "2/2 [==============================] - 0s 10ms/step - loss: 0.6802 - accuracy: 0.5781 - precision: 0.5714 - a=recall: 1.0000\n",
            "Epoch 237/1000\n",
            "2/2 [==============================] - 0s 12ms/step - loss: 0.6837 - accuracy: 0.5625 - precision: 0.5625 - a=recall: 1.0000\n",
            "Epoch 238/1000\n",
            "2/2 [==============================] - 0s 10ms/step - loss: 0.6802 - accuracy: 0.5625 - precision: 0.5645 - a=recall: 0.9722\n",
            "Epoch 239/1000\n",
            "2/2 [==============================] - 0s 10ms/step - loss: 0.6815 - accuracy: 0.5781 - precision: 0.5714 - a=recall: 1.0000\n",
            "Epoch 240/1000\n",
            "2/2 [==============================] - 0s 17ms/step - loss: 0.6847 - accuracy: 0.5469 - precision: 0.5556 - a=recall: 0.9722\n",
            "Epoch 241/1000\n",
            "2/2 [==============================] - 0s 16ms/step - loss: 0.6816 - accuracy: 0.5469 - precision: 0.5556 - a=recall: 0.9722\n",
            "Epoch 242/1000\n",
            "2/2 [==============================] - 0s 10ms/step - loss: 0.6803 - accuracy: 0.5469 - precision: 0.5574 - a=recall: 0.9444\n",
            "Epoch 243/1000\n",
            "2/2 [==============================] - 0s 10ms/step - loss: 0.6832 - accuracy: 0.5469 - precision: 0.5556 - a=recall: 0.9722\n",
            "Epoch 244/1000\n",
            "2/2 [==============================] - 0s 10ms/step - loss: 0.6808 - accuracy: 0.5312 - precision: 0.5484 - a=recall: 0.9444\n",
            "Epoch 245/1000\n",
            "2/2 [==============================] - 0s 10ms/step - loss: 0.6802 - accuracy: 0.5469 - precision: 0.5574 - a=recall: 0.9444\n",
            "Epoch 246/1000\n",
            "2/2 [==============================] - 0s 10ms/step - loss: 0.6806 - accuracy: 0.5469 - precision: 0.5556 - a=recall: 0.9722\n",
            "Epoch 247/1000\n",
            "2/2 [==============================] - 0s 12ms/step - loss: 0.6805 - accuracy: 0.5625 - precision: 0.5645 - a=recall: 0.9722\n",
            "Epoch 248/1000\n",
            "2/2 [==============================] - 0s 13ms/step - loss: 0.6842 - accuracy: 0.5938 - precision: 0.5862 - a=recall: 0.9444\n",
            "Epoch 249/1000\n",
            "2/2 [==============================] - 0s 9ms/step - loss: 0.6838 - accuracy: 0.5625 - precision: 0.5625 - a=recall: 1.0000\n",
            "Epoch 250/1000\n",
            "2/2 [==============================] - 0s 11ms/step - loss: 0.6802 - accuracy: 0.5625 - precision: 0.5625 - a=recall: 1.0000\n",
            "Epoch 251/1000\n",
            "2/2 [==============================] - 0s 9ms/step - loss: 0.6801 - accuracy: 0.5781 - precision: 0.5714 - a=recall: 1.0000\n",
            "Epoch 252/1000\n",
            "2/2 [==============================] - 0s 9ms/step - loss: 0.6805 - accuracy: 0.5781 - precision: 0.5714 - a=recall: 1.0000\n",
            "Epoch 253/1000\n",
            "2/2 [==============================] - 0s 18ms/step - loss: 0.6802 - accuracy: 0.5781 - precision: 0.5714 - a=recall: 1.0000\n",
            "Epoch 254/1000\n",
            "2/2 [==============================] - 0s 12ms/step - loss: 0.6803 - accuracy: 0.5469 - precision: 0.5574 - a=recall: 0.9444\n",
            "Epoch 255/1000\n",
            "2/2 [==============================] - 0s 9ms/step - loss: 0.6808 - accuracy: 0.5625 - precision: 0.5625 - a=recall: 1.0000\n",
            "Epoch 256/1000\n",
            "2/2 [==============================] - 0s 13ms/step - loss: 0.6803 - accuracy: 0.5625 - precision: 0.5625 - a=recall: 1.0000\n",
            "Epoch 257/1000\n",
            "2/2 [==============================] - 0s 9ms/step - loss: 0.6845 - accuracy: 0.5781 - precision: 0.5738 - a=recall: 0.9722\n",
            "Epoch 258/1000\n",
            "2/2 [==============================] - 0s 12ms/step - loss: 0.6801 - accuracy: 0.5625 - precision: 0.5625 - a=recall: 1.0000\n",
            "Epoch 259/1000\n",
            "2/2 [==============================] - 0s 9ms/step - loss: 0.6818 - accuracy: 0.5625 - precision: 0.5625 - a=recall: 1.0000\n",
            "Epoch 260/1000\n",
            "2/2 [==============================] - 0s 11ms/step - loss: 0.6801 - accuracy: 0.5781 - precision: 0.5714 - a=recall: 1.0000\n",
            "Epoch 261/1000\n",
            "2/2 [==============================] - 0s 13ms/step - loss: 0.6853 - accuracy: 0.5625 - precision: 0.5625 - a=recall: 1.0000\n",
            "Epoch 262/1000\n",
            "2/2 [==============================] - 0s 11ms/step - loss: 0.6805 - accuracy: 0.5469 - precision: 0.5574 - a=recall: 0.9444\n",
            "Epoch 263/1000\n",
            "2/2 [==============================] - 0s 13ms/step - loss: 0.6827 - accuracy: 0.5781 - precision: 0.5714 - a=recall: 1.0000\n",
            "Epoch 264/1000\n",
            "2/2 [==============================] - 0s 13ms/step - loss: 0.6830 - accuracy: 0.5469 - precision: 0.5556 - a=recall: 0.9722\n",
            "Epoch 265/1000\n",
            "2/2 [==============================] - 0s 14ms/step - loss: 0.6828 - accuracy: 0.5625 - precision: 0.5667 - a=recall: 0.9444\n",
            "Epoch 266/1000\n",
            "2/2 [==============================] - 0s 12ms/step - loss: 0.6801 - accuracy: 0.5625 - precision: 0.5645 - a=recall: 0.9722\n",
            "Epoch 267/1000\n",
            "2/2 [==============================] - 0s 15ms/step - loss: 0.6800 - accuracy: 0.5781 - precision: 0.5714 - a=recall: 1.0000\n",
            "Epoch 268/1000\n",
            "2/2 [==============================] - 0s 10ms/step - loss: 0.6800 - accuracy: 0.5781 - precision: 0.5714 - a=recall: 1.0000\n",
            "Epoch 269/1000\n",
            "2/2 [==============================] - 0s 12ms/step - loss: 0.6812 - accuracy: 0.5625 - precision: 0.5645 - a=recall: 0.9722\n",
            "Epoch 270/1000\n",
            "2/2 [==============================] - 0s 11ms/step - loss: 0.6800 - accuracy: 0.5781 - precision: 0.5714 - a=recall: 1.0000\n",
            "Epoch 271/1000\n",
            "2/2 [==============================] - 0s 14ms/step - loss: 0.6809 - accuracy: 0.5625 - precision: 0.5645 - a=recall: 0.9722\n",
            "Epoch 272/1000\n",
            "2/2 [==============================] - 0s 14ms/step - loss: 0.6800 - accuracy: 0.5625 - precision: 0.5625 - a=recall: 1.0000\n",
            "Epoch 273/1000\n",
            "2/2 [==============================] - 0s 12ms/step - loss: 0.6814 - accuracy: 0.5469 - precision: 0.5556 - a=recall: 0.9722\n",
            "Epoch 274/1000\n",
            "2/2 [==============================] - 0s 12ms/step - loss: 0.6802 - accuracy: 0.5625 - precision: 0.5625 - a=recall: 1.0000\n",
            "Epoch 275/1000\n",
            "2/2 [==============================] - 0s 10ms/step - loss: 0.6810 - accuracy: 0.5469 - precision: 0.5574 - a=recall: 0.9444\n",
            "Epoch 276/1000\n",
            "2/2 [==============================] - 0s 9ms/step - loss: 0.6815 - accuracy: 0.5469 - precision: 0.5574 - a=recall: 0.9444\n",
            "Epoch 277/1000\n",
            "2/2 [==============================] - 0s 10ms/step - loss: 0.6809 - accuracy: 0.5625 - precision: 0.5625 - a=recall: 1.0000\n",
            "Epoch 278/1000\n",
            "2/2 [==============================] - 0s 10ms/step - loss: 0.6811 - accuracy: 0.5781 - precision: 0.5714 - a=recall: 1.0000\n",
            "Epoch 279/1000\n",
            "2/2 [==============================] - 0s 9ms/step - loss: 0.6815 - accuracy: 0.5625 - precision: 0.5645 - a=recall: 0.9722\n",
            "Epoch 280/1000\n",
            "2/2 [==============================] - 0s 10ms/step - loss: 0.6804 - accuracy: 0.5469 - precision: 0.5574 - a=recall: 0.9444\n",
            "Epoch 281/1000\n",
            "2/2 [==============================] - 0s 10ms/step - loss: 0.6804 - accuracy: 0.5625 - precision: 0.5625 - a=recall: 1.0000\n",
            "Epoch 282/1000\n",
            "2/2 [==============================] - 0s 12ms/step - loss: 0.6799 - accuracy: 0.5781 - precision: 0.5714 - a=recall: 1.0000\n",
            "Epoch 283/1000\n",
            "2/2 [==============================] - 0s 10ms/step - loss: 0.6800 - accuracy: 0.5625 - precision: 0.5625 - a=recall: 1.0000\n",
            "Epoch 284/1000\n",
            "2/2 [==============================] - 0s 12ms/step - loss: 0.6800 - accuracy: 0.5625 - precision: 0.5645 - a=recall: 0.9722\n",
            "Epoch 285/1000\n",
            "2/2 [==============================] - 0s 10ms/step - loss: 0.6814 - accuracy: 0.5625 - precision: 0.5645 - a=recall: 0.9722\n",
            "Epoch 286/1000\n",
            "2/2 [==============================] - 0s 10ms/step - loss: 0.6809 - accuracy: 0.5781 - precision: 0.5714 - a=recall: 1.0000\n",
            "Epoch 287/1000\n",
            "2/2 [==============================] - 0s 11ms/step - loss: 0.6812 - accuracy: 0.5781 - precision: 0.5714 - a=recall: 1.0000\n",
            "Epoch 288/1000\n",
            "2/2 [==============================] - 0s 9ms/step - loss: 0.6799 - accuracy: 0.5469 - precision: 0.5574 - a=recall: 0.9444\n",
            "Epoch 289/1000\n",
            "2/2 [==============================] - 0s 10ms/step - loss: 0.6800 - accuracy: 0.5469 - precision: 0.5574 - a=recall: 0.9444\n",
            "Epoch 290/1000\n",
            "2/2 [==============================] - 0s 12ms/step - loss: 0.6807 - accuracy: 0.5781 - precision: 0.5714 - a=recall: 1.0000\n",
            "Epoch 291/1000\n",
            "2/2 [==============================] - 0s 13ms/step - loss: 0.6804 - accuracy: 0.5469 - precision: 0.5574 - a=recall: 0.9444\n",
            "Epoch 292/1000\n",
            "2/2 [==============================] - 0s 11ms/step - loss: 0.6799 - accuracy: 0.5781 - precision: 0.5714 - a=recall: 1.0000\n",
            "Epoch 293/1000\n",
            "2/2 [==============================] - 0s 10ms/step - loss: 0.6808 - accuracy: 0.5625 - precision: 0.5625 - a=recall: 1.0000\n",
            "Epoch 294/1000\n",
            "2/2 [==============================] - 0s 10ms/step - loss: 0.6809 - accuracy: 0.5469 - precision: 0.5556 - a=recall: 0.9722\n",
            "Epoch 295/1000\n",
            "2/2 [==============================] - 0s 11ms/step - loss: 0.6799 - accuracy: 0.5469 - precision: 0.5574 - a=recall: 0.9444\n",
            "Epoch 296/1000\n",
            "2/2 [==============================] - 0s 11ms/step - loss: 0.6813 - accuracy: 0.5625 - precision: 0.5667 - a=recall: 0.9444\n",
            "Epoch 297/1000\n",
            "2/2 [==============================] - 0s 10ms/step - loss: 0.6800 - accuracy: 0.5781 - precision: 0.5714 - a=recall: 1.0000\n",
            "Epoch 298/1000\n",
            "2/2 [==============================] - 0s 10ms/step - loss: 0.6808 - accuracy: 0.5625 - precision: 0.5645 - a=recall: 0.9722\n",
            "Epoch 299/1000\n",
            "2/2 [==============================] - 0s 10ms/step - loss: 0.6812 - accuracy: 0.5781 - precision: 0.5714 - a=recall: 1.0000\n",
            "Epoch 300/1000\n",
            "2/2 [==============================] - 0s 13ms/step - loss: 0.6839 - accuracy: 0.5625 - precision: 0.5625 - a=recall: 1.0000\n",
            "Epoch 301/1000\n",
            "2/2 [==============================] - 0s 12ms/step - loss: 0.6844 - accuracy: 0.5625 - precision: 0.5667 - a=recall: 0.9444\n",
            "Epoch 302/1000\n",
            "2/2 [==============================] - 0s 11ms/step - loss: 0.6801 - accuracy: 0.5781 - precision: 0.5714 - a=recall: 1.0000\n",
            "Epoch 303/1000\n",
            "2/2 [==============================] - 0s 12ms/step - loss: 0.6800 - accuracy: 0.5781 - precision: 0.5714 - a=recall: 1.0000\n",
            "Epoch 304/1000\n",
            "2/2 [==============================] - 0s 12ms/step - loss: 0.6804 - accuracy: 0.5469 - precision: 0.5556 - a=recall: 0.9722\n",
            "Epoch 305/1000\n",
            "2/2 [==============================] - 0s 18ms/step - loss: 0.6804 - accuracy: 0.5781 - precision: 0.5714 - a=recall: 1.0000\n",
            "Epoch 306/1000\n",
            "2/2 [==============================] - 0s 13ms/step - loss: 0.6800 - accuracy: 0.5469 - precision: 0.5574 - a=recall: 0.9444\n",
            "Epoch 307/1000\n",
            "2/2 [==============================] - 0s 13ms/step - loss: 0.6798 - accuracy: 0.5469 - precision: 0.5574 - a=recall: 0.9444\n",
            "Epoch 308/1000\n",
            "2/2 [==============================] - 0s 12ms/step - loss: 0.6798 - accuracy: 0.5625 - precision: 0.5645 - a=recall: 0.9722\n",
            "Epoch 309/1000\n",
            "2/2 [==============================] - 0s 11ms/step - loss: 0.6800 - accuracy: 0.5625 - precision: 0.5645 - a=recall: 0.9722\n",
            "Epoch 310/1000\n",
            "2/2 [==============================] - 0s 14ms/step - loss: 0.6806 - accuracy: 0.5469 - precision: 0.5574 - a=recall: 0.9444\n",
            "Epoch 311/1000\n",
            "2/2 [==============================] - 0s 13ms/step - loss: 0.6835 - accuracy: 0.5625 - precision: 0.5667 - a=recall: 0.9444\n",
            "Epoch 312/1000\n",
            "2/2 [==============================] - 0s 9ms/step - loss: 0.6798 - accuracy: 0.5781 - precision: 0.5714 - a=recall: 1.0000\n",
            "Epoch 313/1000\n",
            "2/2 [==============================] - 0s 12ms/step - loss: 0.6805 - accuracy: 0.5469 - precision: 0.5574 - a=recall: 0.9444\n",
            "Epoch 314/1000\n",
            "2/2 [==============================] - 0s 10ms/step - loss: 0.6820 - accuracy: 0.5625 - precision: 0.5667 - a=recall: 0.9444\n",
            "Epoch 315/1000\n",
            "2/2 [==============================] - 0s 11ms/step - loss: 0.6800 - accuracy: 0.5625 - precision: 0.5625 - a=recall: 1.0000\n",
            "Epoch 316/1000\n",
            "2/2 [==============================] - 0s 12ms/step - loss: 0.6836 - accuracy: 0.5625 - precision: 0.5625 - a=recall: 1.0000\n",
            "Epoch 317/1000\n",
            "2/2 [==============================] - 0s 12ms/step - loss: 0.6815 - accuracy: 0.5469 - precision: 0.5574 - a=recall: 0.9444\n",
            "Epoch 318/1000\n",
            "2/2 [==============================] - 0s 10ms/step - loss: 0.6799 - accuracy: 0.5469 - precision: 0.5574 - a=recall: 0.9444\n",
            "Epoch 319/1000\n",
            "2/2 [==============================] - 0s 12ms/step - loss: 0.6800 - accuracy: 0.5781 - precision: 0.5714 - a=recall: 1.0000\n",
            "Epoch 320/1000\n",
            "2/2 [==============================] - 0s 12ms/step - loss: 0.6835 - accuracy: 0.5469 - precision: 0.5593 - a=recall: 0.9167\n",
            "Epoch 321/1000\n",
            "2/2 [==============================] - 0s 11ms/step - loss: 0.6800 - accuracy: 0.5781 - precision: 0.5714 - a=recall: 1.0000\n",
            "Epoch 322/1000\n",
            "2/2 [==============================] - 0s 10ms/step - loss: 0.6823 - accuracy: 0.5625 - precision: 0.5667 - a=recall: 0.9444\n",
            "Epoch 323/1000\n",
            "2/2 [==============================] - 0s 15ms/step - loss: 0.6797 - accuracy: 0.5625 - precision: 0.5625 - a=recall: 1.0000\n",
            "Epoch 324/1000\n",
            "2/2 [==============================] - 0s 11ms/step - loss: 0.6811 - accuracy: 0.5469 - precision: 0.5574 - a=recall: 0.9444\n",
            "Epoch 325/1000\n",
            "2/2 [==============================] - 0s 11ms/step - loss: 0.6820 - accuracy: 0.5625 - precision: 0.5625 - a=recall: 1.0000\n",
            "Epoch 326/1000\n",
            "2/2 [==============================] - 0s 11ms/step - loss: 0.6797 - accuracy: 0.5625 - precision: 0.5625 - a=recall: 1.0000\n",
            "Epoch 327/1000\n",
            "2/2 [==============================] - 0s 17ms/step - loss: 0.6823 - accuracy: 0.5625 - precision: 0.5625 - a=recall: 1.0000\n",
            "Epoch 328/1000\n",
            "2/2 [==============================] - 0s 23ms/step - loss: 0.6807 - accuracy: 0.5469 - precision: 0.5574 - a=recall: 0.9444\n",
            "Epoch 329/1000\n",
            "2/2 [==============================] - 0s 12ms/step - loss: 0.6866 - accuracy: 0.5469 - precision: 0.5593 - a=recall: 0.9167\n",
            "Epoch 330/1000\n",
            "2/2 [==============================] - 0s 13ms/step - loss: 0.6796 - accuracy: 0.5625 - precision: 0.5625 - a=recall: 1.0000\n",
            "Epoch 331/1000\n",
            "2/2 [==============================] - 0s 18ms/step - loss: 0.6809 - accuracy: 0.5781 - precision: 0.5714 - a=recall: 1.0000\n",
            "Epoch 332/1000\n",
            "2/2 [==============================] - 0s 13ms/step - loss: 0.6803 - accuracy: 0.5469 - precision: 0.5574 - a=recall: 0.9444\n",
            "Epoch 333/1000\n",
            "2/2 [==============================] - 0s 12ms/step - loss: 0.6796 - accuracy: 0.5781 - precision: 0.5714 - a=recall: 1.0000\n",
            "Epoch 334/1000\n",
            "2/2 [==============================] - 0s 12ms/step - loss: 0.6801 - accuracy: 0.5625 - precision: 0.5645 - a=recall: 0.9722\n",
            "Epoch 335/1000\n",
            "2/2 [==============================] - 0s 14ms/step - loss: 0.6798 - accuracy: 0.5625 - precision: 0.5645 - a=recall: 0.9722\n",
            "Epoch 336/1000\n",
            "2/2 [==============================] - 0s 12ms/step - loss: 0.6796 - accuracy: 0.5469 - precision: 0.5574 - a=recall: 0.9444\n",
            "Epoch 337/1000\n",
            "2/2 [==============================] - 0s 10ms/step - loss: 0.6800 - accuracy: 0.5625 - precision: 0.5645 - a=recall: 0.9722\n",
            "Epoch 338/1000\n",
            "2/2 [==============================] - 0s 10ms/step - loss: 0.6796 - accuracy: 0.5469 - precision: 0.5574 - a=recall: 0.9444\n",
            "Epoch 339/1000\n",
            "2/2 [==============================] - 0s 10ms/step - loss: 0.6810 - accuracy: 0.5625 - precision: 0.5667 - a=recall: 0.9444\n",
            "Epoch 340/1000\n",
            "2/2 [==============================] - 0s 11ms/step - loss: 0.6802 - accuracy: 0.5625 - precision: 0.5645 - a=recall: 0.9722\n",
            "Epoch 341/1000\n",
            "2/2 [==============================] - 0s 11ms/step - loss: 0.6807 - accuracy: 0.5625 - precision: 0.5645 - a=recall: 0.9722\n",
            "Epoch 342/1000\n",
            "2/2 [==============================] - 0s 13ms/step - loss: 0.6797 - accuracy: 0.5781 - precision: 0.5714 - a=recall: 1.0000\n",
            "Epoch 343/1000\n",
            "2/2 [==============================] - 0s 10ms/step - loss: 0.6820 - accuracy: 0.5469 - precision: 0.5574 - a=recall: 0.9444\n",
            "Epoch 344/1000\n",
            "2/2 [==============================] - 0s 10ms/step - loss: 0.6801 - accuracy: 0.5625 - precision: 0.5645 - a=recall: 0.9722\n",
            "Epoch 345/1000\n",
            "2/2 [==============================] - 0s 14ms/step - loss: 0.6805 - accuracy: 0.5625 - precision: 0.5625 - a=recall: 1.0000\n",
            "Epoch 346/1000\n",
            "2/2 [==============================] - 0s 16ms/step - loss: 0.6797 - accuracy: 0.5469 - precision: 0.5556 - a=recall: 0.9722\n",
            "Epoch 347/1000\n",
            "2/2 [==============================] - 0s 12ms/step - loss: 0.6805 - accuracy: 0.5469 - precision: 0.5574 - a=recall: 0.9444\n",
            "Epoch 348/1000\n",
            "2/2 [==============================] - 0s 21ms/step - loss: 0.6801 - accuracy: 0.5469 - precision: 0.5574 - a=recall: 0.9444\n",
            "Epoch 349/1000\n",
            "2/2 [==============================] - 0s 12ms/step - loss: 0.6809 - accuracy: 0.5469 - precision: 0.5574 - a=recall: 0.9444\n",
            "Epoch 350/1000\n",
            "2/2 [==============================] - 0s 10ms/step - loss: 0.6823 - accuracy: 0.5625 - precision: 0.5645 - a=recall: 0.9722\n",
            "Epoch 351/1000\n",
            "2/2 [==============================] - 0s 10ms/step - loss: 0.6819 - accuracy: 0.5781 - precision: 0.5763 - a=recall: 0.9444\n",
            "Epoch 352/1000\n",
            "2/2 [==============================] - 0s 11ms/step - loss: 0.6811 - accuracy: 0.5625 - precision: 0.5667 - a=recall: 0.9444\n",
            "Epoch 353/1000\n",
            "2/2 [==============================] - 0s 14ms/step - loss: 0.6831 - accuracy: 0.5938 - precision: 0.5833 - a=recall: 0.9722\n",
            "Epoch 354/1000\n",
            "2/2 [==============================] - 0s 11ms/step - loss: 0.6808 - accuracy: 0.5469 - precision: 0.5574 - a=recall: 0.9444\n",
            "Epoch 355/1000\n",
            "2/2 [==============================] - 0s 13ms/step - loss: 0.6795 - accuracy: 0.5625 - precision: 0.5625 - a=recall: 1.0000\n",
            "Epoch 356/1000\n",
            "2/2 [==============================] - 0s 13ms/step - loss: 0.6843 - accuracy: 0.5469 - precision: 0.5593 - a=recall: 0.9167\n",
            "Epoch 357/1000\n",
            "2/2 [==============================] - 0s 14ms/step - loss: 0.6796 - accuracy: 0.5469 - precision: 0.5556 - a=recall: 0.9722\n",
            "Epoch 358/1000\n",
            "2/2 [==============================] - 0s 14ms/step - loss: 0.6805 - accuracy: 0.5781 - precision: 0.5714 - a=recall: 1.0000\n",
            "Epoch 359/1000\n",
            "2/2 [==============================] - 0s 11ms/step - loss: 0.6829 - accuracy: 0.5781 - precision: 0.5763 - a=recall: 0.9444\n",
            "Epoch 360/1000\n",
            "2/2 [==============================] - 0s 10ms/step - loss: 0.6795 - accuracy: 0.5781 - precision: 0.5714 - a=recall: 1.0000\n",
            "Epoch 361/1000\n",
            "2/2 [==============================] - 0s 11ms/step - loss: 0.6803 - accuracy: 0.5469 - precision: 0.5574 - a=recall: 0.9444\n",
            "Epoch 362/1000\n",
            "2/2 [==============================] - 0s 10ms/step - loss: 0.6795 - accuracy: 0.5625 - precision: 0.5625 - a=recall: 1.0000\n",
            "Epoch 363/1000\n",
            "2/2 [==============================] - 0s 10ms/step - loss: 0.6798 - accuracy: 0.5469 - precision: 0.5574 - a=recall: 0.9444\n",
            "Epoch 364/1000\n",
            "2/2 [==============================] - 0s 10ms/step - loss: 0.6819 - accuracy: 0.5781 - precision: 0.5738 - a=recall: 0.9722\n",
            "Epoch 365/1000\n",
            "2/2 [==============================] - 0s 12ms/step - loss: 0.6821 - accuracy: 0.5625 - precision: 0.5625 - a=recall: 1.0000\n",
            "Epoch 366/1000\n",
            "2/2 [==============================] - 0s 12ms/step - loss: 0.6800 - accuracy: 0.5469 - precision: 0.5574 - a=recall: 0.9444\n",
            "Epoch 367/1000\n",
            "2/2 [==============================] - 0s 10ms/step - loss: 0.6795 - accuracy: 0.5469 - precision: 0.5574 - a=recall: 0.9444\n",
            "Epoch 368/1000\n",
            "2/2 [==============================] - 0s 10ms/step - loss: 0.6800 - accuracy: 0.5625 - precision: 0.5625 - a=recall: 1.0000\n",
            "Epoch 369/1000\n",
            "2/2 [==============================] - 0s 11ms/step - loss: 0.6795 - accuracy: 0.5469 - precision: 0.5574 - a=recall: 0.9444\n",
            "Epoch 370/1000\n",
            "2/2 [==============================] - 0s 10ms/step - loss: 0.6807 - accuracy: 0.5469 - precision: 0.5556 - a=recall: 0.9722\n",
            "Epoch 371/1000\n",
            "2/2 [==============================] - 0s 9ms/step - loss: 0.6875 - accuracy: 0.5469 - precision: 0.5614 - a=recall: 0.8889\n",
            "Epoch 372/1000\n",
            "2/2 [==============================] - 0s 11ms/step - loss: 0.6802 - accuracy: 0.5469 - precision: 0.5574 - a=recall: 0.9444\n",
            "Epoch 373/1000\n",
            "2/2 [==============================] - 0s 11ms/step - loss: 0.6795 - accuracy: 0.5625 - precision: 0.5645 - a=recall: 0.9722\n",
            "Epoch 374/1000\n",
            "2/2 [==============================] - 0s 11ms/step - loss: 0.6813 - accuracy: 0.5469 - precision: 0.5556 - a=recall: 0.9722\n",
            "Epoch 375/1000\n",
            "2/2 [==============================] - 0s 14ms/step - loss: 0.6797 - accuracy: 0.5312 - precision: 0.5484 - a=recall: 0.9444\n",
            "Epoch 376/1000\n",
            "2/2 [==============================] - 0s 11ms/step - loss: 0.6842 - accuracy: 0.5625 - precision: 0.5690 - a=recall: 0.9167\n",
            "Epoch 377/1000\n",
            "2/2 [==============================] - 0s 12ms/step - loss: 0.6796 - accuracy: 0.5469 - precision: 0.5574 - a=recall: 0.9444\n",
            "Epoch 378/1000\n",
            "2/2 [==============================] - 0s 13ms/step - loss: 0.6801 - accuracy: 0.5625 - precision: 0.5645 - a=recall: 0.9722\n",
            "Epoch 379/1000\n",
            "2/2 [==============================] - 0s 14ms/step - loss: 0.6816 - accuracy: 0.5469 - precision: 0.5556 - a=recall: 0.9722\n",
            "Epoch 380/1000\n",
            "2/2 [==============================] - 0s 10ms/step - loss: 0.6797 - accuracy: 0.5469 - precision: 0.5574 - a=recall: 0.9444\n",
            "Epoch 381/1000\n",
            "2/2 [==============================] - 0s 11ms/step - loss: 0.6794 - accuracy: 0.5469 - precision: 0.5574 - a=recall: 0.9444\n",
            "Epoch 382/1000\n",
            "2/2 [==============================] - 0s 10ms/step - loss: 0.6813 - accuracy: 0.5625 - precision: 0.5667 - a=recall: 0.9444\n",
            "Epoch 383/1000\n",
            "2/2 [==============================] - 0s 13ms/step - loss: 0.6816 - accuracy: 0.5781 - precision: 0.5738 - a=recall: 0.9722\n",
            "Epoch 384/1000\n",
            "2/2 [==============================] - 0s 10ms/step - loss: 0.6793 - accuracy: 0.5469 - precision: 0.5574 - a=recall: 0.9444\n",
            "Epoch 385/1000\n",
            "2/2 [==============================] - 0s 10ms/step - loss: 0.6793 - accuracy: 0.5625 - precision: 0.5645 - a=recall: 0.9722\n",
            "Epoch 386/1000\n",
            "2/2 [==============================] - 0s 9ms/step - loss: 0.6813 - accuracy: 0.5625 - precision: 0.5645 - a=recall: 0.9722\n",
            "Epoch 387/1000\n",
            "2/2 [==============================] - 0s 12ms/step - loss: 0.6793 - accuracy: 0.5469 - precision: 0.5574 - a=recall: 0.9444\n",
            "Epoch 388/1000\n",
            "2/2 [==============================] - 0s 10ms/step - loss: 0.6796 - accuracy: 0.5469 - precision: 0.5574 - a=recall: 0.9444\n",
            "Epoch 389/1000\n",
            "2/2 [==============================] - 0s 12ms/step - loss: 0.6793 - accuracy: 0.5469 - precision: 0.5574 - a=recall: 0.9444\n",
            "Epoch 390/1000\n",
            "2/2 [==============================] - 0s 9ms/step - loss: 0.6809 - accuracy: 0.5625 - precision: 0.5667 - a=recall: 0.9444\n",
            "Epoch 391/1000\n",
            "2/2 [==============================] - 0s 11ms/step - loss: 0.6793 - accuracy: 0.5469 - precision: 0.5574 - a=recall: 0.9444\n",
            "Epoch 392/1000\n",
            "2/2 [==============================] - 0s 12ms/step - loss: 0.6804 - accuracy: 0.5469 - precision: 0.5556 - a=recall: 0.9722\n",
            "Epoch 393/1000\n",
            "2/2 [==============================] - 0s 12ms/step - loss: 0.6792 - accuracy: 0.5469 - precision: 0.5574 - a=recall: 0.9444\n",
            "Epoch 394/1000\n",
            "2/2 [==============================] - 0s 12ms/step - loss: 0.6837 - accuracy: 0.5312 - precision: 0.5517 - a=recall: 0.8889\n",
            "Epoch 395/1000\n",
            "2/2 [==============================] - 0s 10ms/step - loss: 0.6793 - accuracy: 0.5469 - precision: 0.5574 - a=recall: 0.9444\n",
            "Epoch 396/1000\n",
            "2/2 [==============================] - 0s 10ms/step - loss: 0.6793 - accuracy: 0.5469 - precision: 0.5574 - a=recall: 0.9444\n",
            "Epoch 397/1000\n",
            "2/2 [==============================] - 0s 9ms/step - loss: 0.6806 - accuracy: 0.5625 - precision: 0.5667 - a=recall: 0.9444\n",
            "Epoch 398/1000\n",
            "2/2 [==============================] - 0s 10ms/step - loss: 0.6806 - accuracy: 0.5469 - precision: 0.5574 - a=recall: 0.9444\n",
            "Epoch 399/1000\n",
            "2/2 [==============================] - 0s 9ms/step - loss: 0.6805 - accuracy: 0.5625 - precision: 0.5667 - a=recall: 0.9444\n",
            "Epoch 400/1000\n",
            "2/2 [==============================] - 0s 10ms/step - loss: 0.6795 - accuracy: 0.5625 - precision: 0.5625 - a=recall: 1.0000\n",
            "Epoch 401/1000\n",
            "2/2 [==============================] - 0s 10ms/step - loss: 0.6798 - accuracy: 0.5469 - precision: 0.5556 - a=recall: 0.9722\n",
            "Epoch 402/1000\n",
            "2/2 [==============================] - 0s 9ms/step - loss: 0.6817 - accuracy: 0.5469 - precision: 0.5574 - a=recall: 0.9444\n",
            "Epoch 403/1000\n",
            "2/2 [==============================] - 0s 10ms/step - loss: 0.6842 - accuracy: 0.5469 - precision: 0.5593 - a=recall: 0.9167\n",
            "Epoch 404/1000\n",
            "2/2 [==============================] - 0s 9ms/step - loss: 0.6792 - accuracy: 0.5625 - precision: 0.5645 - a=recall: 0.9722\n",
            "Epoch 405/1000\n",
            "2/2 [==============================] - 0s 10ms/step - loss: 0.6869 - accuracy: 0.5312 - precision: 0.5517 - a=recall: 0.8889\n",
            "Epoch 406/1000\n",
            "2/2 [==============================] - 0s 10ms/step - loss: 0.6793 - accuracy: 0.5469 - precision: 0.5574 - a=recall: 0.9444\n",
            "Epoch 407/1000\n",
            "2/2 [==============================] - 0s 9ms/step - loss: 0.6792 - accuracy: 0.5625 - precision: 0.5645 - a=recall: 0.9722\n",
            "Epoch 408/1000\n",
            "2/2 [==============================] - 0s 9ms/step - loss: 0.6792 - accuracy: 0.5625 - precision: 0.5645 - a=recall: 0.9722\n",
            "Epoch 409/1000\n",
            "2/2 [==============================] - 0s 9ms/step - loss: 0.6858 - accuracy: 0.5625 - precision: 0.5690 - a=recall: 0.9167\n",
            "Epoch 410/1000\n",
            "2/2 [==============================] - 0s 9ms/step - loss: 0.6807 - accuracy: 0.5625 - precision: 0.5667 - a=recall: 0.9444\n",
            "Epoch 411/1000\n",
            "2/2 [==============================] - 0s 10ms/step - loss: 0.6803 - accuracy: 0.5625 - precision: 0.5625 - a=recall: 1.0000\n",
            "Epoch 412/1000\n",
            "2/2 [==============================] - 0s 9ms/step - loss: 0.6796 - accuracy: 0.5469 - precision: 0.5574 - a=recall: 0.9444\n",
            "Epoch 413/1000\n",
            "2/2 [==============================] - 0s 11ms/step - loss: 0.6813 - accuracy: 0.5625 - precision: 0.5667 - a=recall: 0.9444\n",
            "Epoch 414/1000\n",
            "2/2 [==============================] - 0s 10ms/step - loss: 0.6898 - accuracy: 0.5469 - precision: 0.5614 - a=recall: 0.8889\n",
            "Epoch 415/1000\n",
            "2/2 [==============================] - 0s 10ms/step - loss: 0.6801 - accuracy: 0.5469 - precision: 0.5556 - a=recall: 0.9722\n",
            "Epoch 416/1000\n",
            "2/2 [==============================] - 0s 10ms/step - loss: 0.6792 - accuracy: 0.5625 - precision: 0.5625 - a=recall: 1.0000\n",
            "Epoch 417/1000\n",
            "2/2 [==============================] - 0s 11ms/step - loss: 0.6792 - accuracy: 0.5469 - precision: 0.5556 - a=recall: 0.9722\n",
            "Epoch 418/1000\n",
            "2/2 [==============================] - 0s 9ms/step - loss: 0.6792 - accuracy: 0.5625 - precision: 0.5645 - a=recall: 0.9722\n",
            "Epoch 419/1000\n",
            "2/2 [==============================] - 0s 10ms/step - loss: 0.6853 - accuracy: 0.5625 - precision: 0.5645 - a=recall: 0.9722\n",
            "Epoch 420/1000\n",
            "2/2 [==============================] - 0s 11ms/step - loss: 0.6805 - accuracy: 0.5625 - precision: 0.5645 - a=recall: 0.9722\n",
            "Epoch 421/1000\n",
            "2/2 [==============================] - 0s 10ms/step - loss: 0.6792 - accuracy: 0.5469 - precision: 0.5574 - a=recall: 0.9444\n",
            "Epoch 422/1000\n",
            "2/2 [==============================] - 0s 11ms/step - loss: 0.6830 - accuracy: 0.5156 - precision: 0.5424 - a=recall: 0.8889\n",
            "Epoch 423/1000\n",
            "2/2 [==============================] - 0s 11ms/step - loss: 0.6796 - accuracy: 0.5469 - precision: 0.5574 - a=recall: 0.9444\n",
            "Epoch 424/1000\n",
            "2/2 [==============================] - 0s 10ms/step - loss: 0.6816 - accuracy: 0.5469 - precision: 0.5574 - a=recall: 0.9444\n",
            "Epoch 425/1000\n",
            "2/2 [==============================] - 0s 10ms/step - loss: 0.6810 - accuracy: 0.5781 - precision: 0.5714 - a=recall: 1.0000\n",
            "Epoch 426/1000\n",
            "2/2 [==============================] - 0s 10ms/step - loss: 0.6791 - accuracy: 0.5469 - precision: 0.5574 - a=recall: 0.9444\n",
            "Epoch 427/1000\n",
            "2/2 [==============================] - 0s 10ms/step - loss: 0.6790 - accuracy: 0.5469 - precision: 0.5574 - a=recall: 0.9444\n",
            "Epoch 428/1000\n",
            "2/2 [==============================] - 0s 11ms/step - loss: 0.6795 - accuracy: 0.5625 - precision: 0.5667 - a=recall: 0.9444\n",
            "Epoch 429/1000\n",
            "2/2 [==============================] - 0s 10ms/step - loss: 0.6790 - accuracy: 0.5469 - precision: 0.5574 - a=recall: 0.9444\n",
            "Epoch 430/1000\n",
            "2/2 [==============================] - 0s 9ms/step - loss: 0.6790 - accuracy: 0.5469 - precision: 0.5574 - a=recall: 0.9444\n",
            "Epoch 431/1000\n",
            "2/2 [==============================] - 0s 9ms/step - loss: 0.6790 - accuracy: 0.5469 - precision: 0.5574 - a=recall: 0.9444\n",
            "Epoch 432/1000\n",
            "2/2 [==============================] - 0s 9ms/step - loss: 0.6793 - accuracy: 0.5625 - precision: 0.5645 - a=recall: 0.9722\n",
            "Epoch 433/1000\n",
            "2/2 [==============================] - 0s 9ms/step - loss: 0.6790 - accuracy: 0.5469 - precision: 0.5574 - a=recall: 0.9444\n",
            "Epoch 434/1000\n",
            "2/2 [==============================] - 0s 9ms/step - loss: 0.6791 - accuracy: 0.5469 - precision: 0.5574 - a=recall: 0.9444\n",
            "Epoch 435/1000\n",
            "2/2 [==============================] - 0s 9ms/step - loss: 0.6793 - accuracy: 0.5469 - precision: 0.5574 - a=recall: 0.9444\n",
            "Epoch 436/1000\n",
            "2/2 [==============================] - 0s 10ms/step - loss: 0.6789 - accuracy: 0.5469 - precision: 0.5574 - a=recall: 0.9444\n",
            "Epoch 437/1000\n",
            "2/2 [==============================] - 0s 11ms/step - loss: 0.6833 - accuracy: 0.5625 - precision: 0.5645 - a=recall: 0.9722\n",
            "Epoch 438/1000\n",
            "2/2 [==============================] - 0s 10ms/step - loss: 0.6790 - accuracy: 0.5469 - precision: 0.5574 - a=recall: 0.9444\n",
            "Epoch 439/1000\n",
            "2/2 [==============================] - 0s 11ms/step - loss: 0.6804 - accuracy: 0.5781 - precision: 0.5763 - a=recall: 0.9444\n",
            "Epoch 440/1000\n",
            "2/2 [==============================] - 0s 16ms/step - loss: 0.6794 - accuracy: 0.5781 - precision: 0.5763 - a=recall: 0.9444\n",
            "Epoch 441/1000\n",
            "2/2 [==============================] - 0s 10ms/step - loss: 0.6789 - accuracy: 0.5469 - precision: 0.5574 - a=recall: 0.9444\n",
            "Epoch 442/1000\n",
            "2/2 [==============================] - 0s 10ms/step - loss: 0.6791 - accuracy: 0.5625 - precision: 0.5645 - a=recall: 0.9722\n",
            "Epoch 443/1000\n",
            "2/2 [==============================] - 0s 10ms/step - loss: 0.6799 - accuracy: 0.5469 - precision: 0.5556 - a=recall: 0.9722\n",
            "Epoch 444/1000\n",
            "2/2 [==============================] - 0s 10ms/step - loss: 0.6822 - accuracy: 0.5469 - precision: 0.5574 - a=recall: 0.9444\n",
            "Epoch 445/1000\n",
            "2/2 [==============================] - 0s 10ms/step - loss: 0.6791 - accuracy: 0.5781 - precision: 0.5763 - a=recall: 0.9444\n",
            "Epoch 446/1000\n",
            "2/2 [==============================] - 0s 9ms/step - loss: 0.6793 - accuracy: 0.5625 - precision: 0.5667 - a=recall: 0.9444\n",
            "Epoch 447/1000\n",
            "2/2 [==============================] - 0s 9ms/step - loss: 0.6793 - accuracy: 0.5625 - precision: 0.5667 - a=recall: 0.9444\n",
            "Epoch 448/1000\n",
            "2/2 [==============================] - 0s 11ms/step - loss: 0.6792 - accuracy: 0.5625 - precision: 0.5667 - a=recall: 0.9444\n",
            "Epoch 449/1000\n",
            "2/2 [==============================] - 0s 10ms/step - loss: 0.6810 - accuracy: 0.5625 - precision: 0.5667 - a=recall: 0.9444\n",
            "Epoch 450/1000\n",
            "2/2 [==============================] - 0s 9ms/step - loss: 0.6790 - accuracy: 0.5625 - precision: 0.5645 - a=recall: 0.9722\n",
            "Epoch 451/1000\n",
            "2/2 [==============================] - 0s 10ms/step - loss: 0.6814 - accuracy: 0.5469 - precision: 0.5574 - a=recall: 0.9444\n",
            "Epoch 452/1000\n",
            "2/2 [==============================] - 0s 11ms/step - loss: 0.6820 - accuracy: 0.5625 - precision: 0.5690 - a=recall: 0.9167\n",
            "Epoch 453/1000\n",
            "2/2 [==============================] - 0s 10ms/step - loss: 0.6798 - accuracy: 0.5469 - precision: 0.5556 - a=recall: 0.9722\n",
            "Epoch 454/1000\n",
            "2/2 [==============================] - 0s 12ms/step - loss: 0.6788 - accuracy: 0.5469 - precision: 0.5574 - a=recall: 0.9444\n",
            "Epoch 455/1000\n",
            "2/2 [==============================] - 0s 10ms/step - loss: 0.6788 - accuracy: 0.5469 - precision: 0.5574 - a=recall: 0.9444\n",
            "Epoch 456/1000\n",
            "2/2 [==============================] - 0s 9ms/step - loss: 0.6788 - accuracy: 0.5469 - precision: 0.5574 - a=recall: 0.9444\n",
            "Epoch 457/1000\n",
            "2/2 [==============================] - 0s 10ms/step - loss: 0.6810 - accuracy: 0.5625 - precision: 0.5667 - a=recall: 0.9444\n",
            "Epoch 458/1000\n",
            "2/2 [==============================] - 0s 10ms/step - loss: 0.6819 - accuracy: 0.5312 - precision: 0.5484 - a=recall: 0.9444\n",
            "Epoch 459/1000\n",
            "2/2 [==============================] - 0s 10ms/step - loss: 0.6802 - accuracy: 0.5625 - precision: 0.5667 - a=recall: 0.9444\n",
            "Epoch 460/1000\n",
            "2/2 [==============================] - 0s 11ms/step - loss: 0.6794 - accuracy: 0.5625 - precision: 0.5645 - a=recall: 0.9722\n",
            "Epoch 461/1000\n",
            "2/2 [==============================] - 0s 13ms/step - loss: 0.6853 - accuracy: 0.5469 - precision: 0.5556 - a=recall: 0.9722\n",
            "Epoch 462/1000\n",
            "2/2 [==============================] - 0s 10ms/step - loss: 0.6832 - accuracy: 0.5469 - precision: 0.5614 - a=recall: 0.8889\n",
            "Epoch 463/1000\n",
            "2/2 [==============================] - 0s 9ms/step - loss: 0.6839 - accuracy: 0.5312 - precision: 0.5484 - a=recall: 0.9444\n",
            "Epoch 464/1000\n",
            "2/2 [==============================] - 0s 10ms/step - loss: 0.6799 - accuracy: 0.5781 - precision: 0.5763 - a=recall: 0.9444\n",
            "Epoch 465/1000\n",
            "2/2 [==============================] - 0s 11ms/step - loss: 0.6788 - accuracy: 0.5469 - precision: 0.5574 - a=recall: 0.9444\n",
            "Epoch 466/1000\n",
            "2/2 [==============================] - 0s 11ms/step - loss: 0.6831 - accuracy: 0.5469 - precision: 0.5574 - a=recall: 0.9444\n",
            "Epoch 467/1000\n",
            "2/2 [==============================] - 0s 10ms/step - loss: 0.6802 - accuracy: 0.5625 - precision: 0.5667 - a=recall: 0.9444\n",
            "Epoch 468/1000\n",
            "2/2 [==============================] - 0s 10ms/step - loss: 0.6796 - accuracy: 0.5625 - precision: 0.5645 - a=recall: 0.9722\n",
            "Epoch 469/1000\n",
            "2/2 [==============================] - 0s 10ms/step - loss: 0.6787 - accuracy: 0.5469 - precision: 0.5574 - a=recall: 0.9444\n",
            "Epoch 470/1000\n",
            "2/2 [==============================] - 0s 9ms/step - loss: 0.6789 - accuracy: 0.5469 - precision: 0.5574 - a=recall: 0.9444\n",
            "Epoch 471/1000\n",
            "2/2 [==============================] - 0s 11ms/step - loss: 0.6788 - accuracy: 0.5469 - precision: 0.5574 - a=recall: 0.9444\n",
            "Epoch 472/1000\n",
            "2/2 [==============================] - 0s 12ms/step - loss: 0.6788 - accuracy: 0.5469 - precision: 0.5574 - a=recall: 0.9444\n",
            "Epoch 473/1000\n",
            "2/2 [==============================] - 0s 9ms/step - loss: 0.6791 - accuracy: 0.5469 - precision: 0.5574 - a=recall: 0.9444\n",
            "Epoch 474/1000\n",
            "2/2 [==============================] - 0s 13ms/step - loss: 0.6816 - accuracy: 0.5625 - precision: 0.5645 - a=recall: 0.9722\n",
            "Epoch 475/1000\n",
            "2/2 [==============================] - 0s 9ms/step - loss: 0.6803 - accuracy: 0.5312 - precision: 0.5484 - a=recall: 0.9444\n",
            "Epoch 476/1000\n",
            "2/2 [==============================] - 0s 11ms/step - loss: 0.6787 - accuracy: 0.5625 - precision: 0.5667 - a=recall: 0.9444\n",
            "Epoch 477/1000\n",
            "2/2 [==============================] - 0s 9ms/step - loss: 0.6796 - accuracy: 0.5625 - precision: 0.5667 - a=recall: 0.9444\n",
            "Epoch 478/1000\n",
            "2/2 [==============================] - 0s 10ms/step - loss: 0.6803 - accuracy: 0.5469 - precision: 0.5556 - a=recall: 0.9722\n",
            "Epoch 479/1000\n",
            "2/2 [==============================] - 0s 11ms/step - loss: 0.6787 - accuracy: 0.5469 - precision: 0.5574 - a=recall: 0.9444\n",
            "Epoch 480/1000\n",
            "2/2 [==============================] - 0s 11ms/step - loss: 0.6793 - accuracy: 0.5469 - precision: 0.5574 - a=recall: 0.9444\n",
            "Epoch 481/1000\n",
            "2/2 [==============================] - 0s 10ms/step - loss: 0.6791 - accuracy: 0.5469 - precision: 0.5574 - a=recall: 0.9444\n",
            "Epoch 482/1000\n",
            "2/2 [==============================] - 0s 11ms/step - loss: 0.6805 - accuracy: 0.5781 - precision: 0.5714 - a=recall: 1.0000\n",
            "Epoch 483/1000\n",
            "2/2 [==============================] - 0s 10ms/step - loss: 0.6786 - accuracy: 0.5625 - precision: 0.5667 - a=recall: 0.9444\n",
            "Epoch 484/1000\n",
            "2/2 [==============================] - 0s 9ms/step - loss: 0.6792 - accuracy: 0.5781 - precision: 0.5763 - a=recall: 0.9444\n",
            "Epoch 485/1000\n",
            "2/2 [==============================] - 0s 8ms/step - loss: 0.6788 - accuracy: 0.5469 - precision: 0.5574 - a=recall: 0.9444\n",
            "Epoch 486/1000\n",
            "2/2 [==============================] - 0s 10ms/step - loss: 0.6785 - accuracy: 0.5469 - precision: 0.5574 - a=recall: 0.9444\n",
            "Epoch 487/1000\n",
            "2/2 [==============================] - 0s 12ms/step - loss: 0.6786 - accuracy: 0.5469 - precision: 0.5574 - a=recall: 0.9444\n",
            "Epoch 488/1000\n",
            "2/2 [==============================] - 0s 13ms/step - loss: 0.6786 - accuracy: 0.5469 - precision: 0.5574 - a=recall: 0.9444\n",
            "Epoch 489/1000\n",
            "2/2 [==============================] - 0s 12ms/step - loss: 0.6786 - accuracy: 0.5469 - precision: 0.5574 - a=recall: 0.9444\n",
            "Epoch 490/1000\n",
            "2/2 [==============================] - 0s 10ms/step - loss: 0.6807 - accuracy: 0.5312 - precision: 0.5484 - a=recall: 0.9444\n",
            "Epoch 491/1000\n",
            "2/2 [==============================] - 0s 10ms/step - loss: 0.6787 - accuracy: 0.5781 - precision: 0.5763 - a=recall: 0.9444\n",
            "Epoch 492/1000\n",
            "2/2 [==============================] - 0s 11ms/step - loss: 0.6785 - accuracy: 0.5469 - precision: 0.5574 - a=recall: 0.9444\n",
            "Epoch 493/1000\n",
            "2/2 [==============================] - 0s 11ms/step - loss: 0.6806 - accuracy: 0.5312 - precision: 0.5484 - a=recall: 0.9444\n",
            "Epoch 494/1000\n",
            "2/2 [==============================] - 0s 17ms/step - loss: 0.6786 - accuracy: 0.5625 - precision: 0.5667 - a=recall: 0.9444\n",
            "Epoch 495/1000\n",
            "2/2 [==============================] - 0s 10ms/step - loss: 0.6790 - accuracy: 0.5469 - precision: 0.5574 - a=recall: 0.9444\n",
            "Epoch 496/1000\n",
            "2/2 [==============================] - 0s 17ms/step - loss: 0.6786 - accuracy: 0.5781 - precision: 0.5763 - a=recall: 0.9444\n",
            "Epoch 497/1000\n",
            "2/2 [==============================] - 0s 14ms/step - loss: 0.6828 - accuracy: 0.5469 - precision: 0.5574 - a=recall: 0.9444\n",
            "Epoch 498/1000\n",
            "2/2 [==============================] - 0s 11ms/step - loss: 0.6785 - accuracy: 0.5781 - precision: 0.5763 - a=recall: 0.9444\n",
            "Epoch 499/1000\n",
            "2/2 [==============================] - 0s 10ms/step - loss: 0.6795 - accuracy: 0.5938 - precision: 0.5862 - a=recall: 0.9444\n",
            "Epoch 500/1000\n",
            "2/2 [==============================] - 0s 11ms/step - loss: 0.6793 - accuracy: 0.5625 - precision: 0.5667 - a=recall: 0.9444\n",
            "Epoch 501/1000\n",
            "2/2 [==============================] - 0s 10ms/step - loss: 0.6786 - accuracy: 0.5469 - precision: 0.5574 - a=recall: 0.9444\n",
            "Epoch 502/1000\n",
            "2/2 [==============================] - 0s 10ms/step - loss: 0.6786 - accuracy: 0.5469 - precision: 0.5574 - a=recall: 0.9444\n",
            "Epoch 503/1000\n",
            "2/2 [==============================] - 0s 11ms/step - loss: 0.6836 - accuracy: 0.5312 - precision: 0.5484 - a=recall: 0.9444\n",
            "Epoch 504/1000\n",
            "2/2 [==============================] - 0s 14ms/step - loss: 0.6787 - accuracy: 0.5469 - precision: 0.5574 - a=recall: 0.9444\n",
            "Epoch 505/1000\n",
            "2/2 [==============================] - 0s 15ms/step - loss: 0.6786 - accuracy: 0.5625 - precision: 0.5667 - a=recall: 0.9444\n",
            "Epoch 506/1000\n",
            "2/2 [==============================] - 0s 9ms/step - loss: 0.6794 - accuracy: 0.5469 - precision: 0.5574 - a=recall: 0.9444\n",
            "Epoch 507/1000\n",
            "2/2 [==============================] - 0s 10ms/step - loss: 0.6784 - accuracy: 0.5781 - precision: 0.5763 - a=recall: 0.9444\n",
            "Epoch 508/1000\n",
            "2/2 [==============================] - 0s 10ms/step - loss: 0.6798 - accuracy: 0.5625 - precision: 0.5667 - a=recall: 0.9444\n",
            "Epoch 509/1000\n",
            "2/2 [==============================] - 0s 10ms/step - loss: 0.6788 - accuracy: 0.5781 - precision: 0.5763 - a=recall: 0.9444\n",
            "Epoch 510/1000\n",
            "2/2 [==============================] - 0s 10ms/step - loss: 0.6789 - accuracy: 0.5781 - precision: 0.5763 - a=recall: 0.9444\n",
            "Epoch 511/1000\n",
            "2/2 [==============================] - 0s 13ms/step - loss: 0.6784 - accuracy: 0.5781 - precision: 0.5763 - a=recall: 0.9444\n",
            "Epoch 512/1000\n",
            "2/2 [==============================] - 0s 15ms/step - loss: 0.6786 - accuracy: 0.5625 - precision: 0.5667 - a=recall: 0.9444\n",
            "Epoch 513/1000\n",
            "2/2 [==============================] - 0s 10ms/step - loss: 0.6785 - accuracy: 0.5469 - precision: 0.5574 - a=recall: 0.9444\n",
            "Epoch 514/1000\n",
            "2/2 [==============================] - 0s 10ms/step - loss: 0.6786 - accuracy: 0.5781 - precision: 0.5763 - a=recall: 0.9444\n",
            "Epoch 515/1000\n",
            "2/2 [==============================] - 0s 10ms/step - loss: 0.6813 - accuracy: 0.5469 - precision: 0.5556 - a=recall: 0.9722\n",
            "Epoch 516/1000\n",
            "2/2 [==============================] - 0s 10ms/step - loss: 0.6797 - accuracy: 0.5781 - precision: 0.5763 - a=recall: 0.9444\n",
            "Epoch 517/1000\n",
            "2/2 [==============================] - 0s 10ms/step - loss: 0.6783 - accuracy: 0.5469 - precision: 0.5574 - a=recall: 0.9444\n",
            "Epoch 518/1000\n",
            "2/2 [==============================] - 0s 12ms/step - loss: 0.6786 - accuracy: 0.5781 - precision: 0.5763 - a=recall: 0.9444\n",
            "Epoch 519/1000\n",
            "2/2 [==============================] - 0s 10ms/step - loss: 0.6788 - accuracy: 0.5781 - precision: 0.5763 - a=recall: 0.9444\n",
            "Epoch 520/1000\n",
            "2/2 [==============================] - 0s 10ms/step - loss: 0.6785 - accuracy: 0.5781 - precision: 0.5763 - a=recall: 0.9444\n",
            "Epoch 521/1000\n",
            "2/2 [==============================] - 0s 10ms/step - loss: 0.6786 - accuracy: 0.5469 - precision: 0.5574 - a=recall: 0.9444\n",
            "Epoch 522/1000\n",
            "2/2 [==============================] - 0s 9ms/step - loss: 0.6783 - accuracy: 0.5469 - precision: 0.5574 - a=recall: 0.9444\n",
            "Epoch 523/1000\n",
            "2/2 [==============================] - 0s 10ms/step - loss: 0.6813 - accuracy: 0.5469 - precision: 0.5556 - a=recall: 0.9722\n",
            "Epoch 524/1000\n",
            "2/2 [==============================] - 0s 11ms/step - loss: 0.6784 - accuracy: 0.5469 - precision: 0.5574 - a=recall: 0.9444\n",
            "Epoch 525/1000\n",
            "2/2 [==============================] - 0s 9ms/step - loss: 0.6793 - accuracy: 0.5938 - precision: 0.5862 - a=recall: 0.9444\n",
            "Epoch 526/1000\n",
            "2/2 [==============================] - 0s 10ms/step - loss: 0.6795 - accuracy: 0.5938 - precision: 0.5862 - a=recall: 0.9444\n",
            "Epoch 527/1000\n",
            "2/2 [==============================] - 0s 10ms/step - loss: 0.6784 - accuracy: 0.5469 - precision: 0.5574 - a=recall: 0.9444\n",
            "Epoch 528/1000\n",
            "2/2 [==============================] - 0s 10ms/step - loss: 0.6782 - accuracy: 0.5625 - precision: 0.5667 - a=recall: 0.9444\n",
            "Epoch 529/1000\n",
            "2/2 [==============================] - 0s 10ms/step - loss: 0.6787 - accuracy: 0.5625 - precision: 0.5667 - a=recall: 0.9444\n",
            "Epoch 530/1000\n",
            "2/2 [==============================] - 0s 10ms/step - loss: 0.6786 - accuracy: 0.5469 - precision: 0.5574 - a=recall: 0.9444\n",
            "Epoch 531/1000\n",
            "2/2 [==============================] - 0s 9ms/step - loss: 0.6852 - accuracy: 0.5469 - precision: 0.5574 - a=recall: 0.9444\n",
            "Epoch 532/1000\n",
            "2/2 [==============================] - 0s 10ms/step - loss: 0.6797 - accuracy: 0.5469 - precision: 0.5574 - a=recall: 0.9444\n",
            "Epoch 533/1000\n",
            "2/2 [==============================] - 0s 10ms/step - loss: 0.6783 - accuracy: 0.5781 - precision: 0.5763 - a=recall: 0.9444\n",
            "Epoch 534/1000\n",
            "2/2 [==============================] - 0s 10ms/step - loss: 0.6795 - accuracy: 0.5625 - precision: 0.5667 - a=recall: 0.9444\n",
            "Epoch 535/1000\n",
            "2/2 [==============================] - 0s 10ms/step - loss: 0.6782 - accuracy: 0.5781 - precision: 0.5763 - a=recall: 0.9444\n",
            "Epoch 536/1000\n",
            "2/2 [==============================] - 0s 11ms/step - loss: 0.6785 - accuracy: 0.5625 - precision: 0.5667 - a=recall: 0.9444\n",
            "Epoch 537/1000\n",
            "2/2 [==============================] - 0s 10ms/step - loss: 0.6786 - accuracy: 0.5625 - precision: 0.5667 - a=recall: 0.9444\n",
            "Epoch 538/1000\n",
            "2/2 [==============================] - 0s 10ms/step - loss: 0.6782 - accuracy: 0.5781 - precision: 0.5763 - a=recall: 0.9444\n",
            "Epoch 539/1000\n",
            "2/2 [==============================] - 0s 10ms/step - loss: 0.6784 - accuracy: 0.5781 - precision: 0.5763 - a=recall: 0.9444\n",
            "Epoch 540/1000\n",
            "2/2 [==============================] - 0s 10ms/step - loss: 0.6782 - accuracy: 0.5625 - precision: 0.5667 - a=recall: 0.9444\n",
            "Epoch 541/1000\n",
            "2/2 [==============================] - 0s 10ms/step - loss: 0.6811 - accuracy: 0.5469 - precision: 0.5556 - a=recall: 0.9722\n",
            "Epoch 542/1000\n",
            "2/2 [==============================] - 0s 10ms/step - loss: 0.6785 - accuracy: 0.5781 - precision: 0.5763 - a=recall: 0.9444\n",
            "Epoch 543/1000\n",
            "2/2 [==============================] - 0s 10ms/step - loss: 0.6784 - accuracy: 0.5469 - precision: 0.5574 - a=recall: 0.9444\n",
            "Epoch 544/1000\n",
            "2/2 [==============================] - 0s 9ms/step - loss: 0.6782 - accuracy: 0.5781 - precision: 0.5763 - a=recall: 0.9444\n",
            "Epoch 545/1000\n",
            "2/2 [==============================] - 0s 9ms/step - loss: 0.6781 - accuracy: 0.5625 - precision: 0.5667 - a=recall: 0.9444\n",
            "Epoch 546/1000\n",
            "2/2 [==============================] - 0s 10ms/step - loss: 0.6792 - accuracy: 0.5469 - precision: 0.5574 - a=recall: 0.9444\n",
            "Epoch 547/1000\n",
            "2/2 [==============================] - 0s 10ms/step - loss: 0.6810 - accuracy: 0.5938 - precision: 0.5806 - a=recall: 1.0000\n",
            "Epoch 548/1000\n",
            "2/2 [==============================] - 0s 9ms/step - loss: 0.6785 - accuracy: 0.5781 - precision: 0.5763 - a=recall: 0.9444\n",
            "Epoch 549/1000\n",
            "2/2 [==============================] - 0s 9ms/step - loss: 0.6798 - accuracy: 0.5781 - precision: 0.5763 - a=recall: 0.9444\n",
            "Epoch 550/1000\n",
            "2/2 [==============================] - 0s 10ms/step - loss: 0.6791 - accuracy: 0.5781 - precision: 0.5763 - a=recall: 0.9444\n",
            "Epoch 551/1000\n",
            "2/2 [==============================] - 0s 10ms/step - loss: 0.6793 - accuracy: 0.5625 - precision: 0.5667 - a=recall: 0.9444\n",
            "Epoch 552/1000\n",
            "2/2 [==============================] - 0s 10ms/step - loss: 0.6784 - accuracy: 0.5938 - precision: 0.5862 - a=recall: 0.9444\n",
            "Epoch 553/1000\n",
            "2/2 [==============================] - 0s 10ms/step - loss: 0.6789 - accuracy: 0.5781 - precision: 0.5763 - a=recall: 0.9444\n",
            "Epoch 554/1000\n",
            "2/2 [==============================] - 0s 10ms/step - loss: 0.6837 - accuracy: 0.5469 - precision: 0.5574 - a=recall: 0.9444\n",
            "Epoch 555/1000\n",
            "2/2 [==============================] - 0s 10ms/step - loss: 0.6782 - accuracy: 0.5781 - precision: 0.5763 - a=recall: 0.9444\n",
            "Epoch 556/1000\n",
            "2/2 [==============================] - 0s 10ms/step - loss: 0.6782 - accuracy: 0.5781 - precision: 0.5763 - a=recall: 0.9444\n",
            "Epoch 557/1000\n",
            "2/2 [==============================] - 0s 10ms/step - loss: 0.6780 - accuracy: 0.5781 - precision: 0.5763 - a=recall: 0.9444\n",
            "Epoch 558/1000\n",
            "2/2 [==============================] - 0s 10ms/step - loss: 0.6785 - accuracy: 0.5781 - precision: 0.5763 - a=recall: 0.9444\n",
            "Epoch 559/1000\n",
            "2/2 [==============================] - 0s 11ms/step - loss: 0.6822 - accuracy: 0.5469 - precision: 0.5614 - a=recall: 0.8889\n",
            "Epoch 560/1000\n",
            "2/2 [==============================] - 0s 10ms/step - loss: 0.6793 - accuracy: 0.5625 - precision: 0.5645 - a=recall: 0.9722\n",
            "Epoch 561/1000\n",
            "2/2 [==============================] - 0s 11ms/step - loss: 0.6831 - accuracy: 0.5469 - precision: 0.5614 - a=recall: 0.8889\n",
            "Epoch 562/1000\n",
            "2/2 [==============================] - 0s 10ms/step - loss: 0.6780 - accuracy: 0.5469 - precision: 0.5574 - a=recall: 0.9444\n",
            "Epoch 563/1000\n",
            "2/2 [==============================] - 0s 10ms/step - loss: 0.6784 - accuracy: 0.5469 - precision: 0.5574 - a=recall: 0.9444\n",
            "Epoch 564/1000\n",
            "2/2 [==============================] - 0s 10ms/step - loss: 0.6780 - accuracy: 0.5625 - precision: 0.5667 - a=recall: 0.9444\n",
            "Epoch 565/1000\n",
            "2/2 [==============================] - 0s 9ms/step - loss: 0.6787 - accuracy: 0.5469 - precision: 0.5574 - a=recall: 0.9444\n",
            "Epoch 566/1000\n",
            "2/2 [==============================] - 0s 11ms/step - loss: 0.6780 - accuracy: 0.5625 - precision: 0.5667 - a=recall: 0.9444\n",
            "Epoch 567/1000\n",
            "2/2 [==============================] - 0s 12ms/step - loss: 0.6784 - accuracy: 0.5781 - precision: 0.5763 - a=recall: 0.9444\n",
            "Epoch 568/1000\n",
            "2/2 [==============================] - 0s 12ms/step - loss: 0.6803 - accuracy: 0.5625 - precision: 0.5645 - a=recall: 0.9722\n",
            "Epoch 569/1000\n",
            "2/2 [==============================] - 0s 10ms/step - loss: 0.6779 - accuracy: 0.5781 - precision: 0.5763 - a=recall: 0.9444\n",
            "Epoch 570/1000\n",
            "2/2 [==============================] - 0s 10ms/step - loss: 0.6915 - accuracy: 0.5938 - precision: 0.5926 - a=recall: 0.8889\n",
            "Epoch 571/1000\n",
            "2/2 [==============================] - 0s 10ms/step - loss: 0.6790 - accuracy: 0.5469 - precision: 0.5574 - a=recall: 0.9444\n",
            "Epoch 572/1000\n",
            "2/2 [==============================] - 0s 10ms/step - loss: 0.6782 - accuracy: 0.5469 - precision: 0.5574 - a=recall: 0.9444\n",
            "Epoch 573/1000\n",
            "2/2 [==============================] - 0s 10ms/step - loss: 0.6819 - accuracy: 0.5625 - precision: 0.5690 - a=recall: 0.9167\n",
            "Epoch 574/1000\n",
            "2/2 [==============================] - 0s 10ms/step - loss: 0.6794 - accuracy: 0.5469 - precision: 0.5574 - a=recall: 0.9444\n",
            "Epoch 575/1000\n",
            "2/2 [==============================] - 0s 9ms/step - loss: 0.6817 - accuracy: 0.5469 - precision: 0.5593 - a=recall: 0.9167\n",
            "Epoch 576/1000\n",
            "2/2 [==============================] - 0s 10ms/step - loss: 0.6815 - accuracy: 0.5781 - precision: 0.5763 - a=recall: 0.9444\n",
            "Epoch 577/1000\n",
            "2/2 [==============================] - 0s 10ms/step - loss: 0.6811 - accuracy: 0.5625 - precision: 0.5667 - a=recall: 0.9444\n",
            "Epoch 578/1000\n",
            "2/2 [==============================] - 0s 10ms/step - loss: 0.6784 - accuracy: 0.5625 - precision: 0.5645 - a=recall: 0.9722\n",
            "Epoch 579/1000\n",
            "2/2 [==============================] - 0s 9ms/step - loss: 0.6790 - accuracy: 0.5625 - precision: 0.5667 - a=recall: 0.9444\n",
            "Epoch 580/1000\n",
            "2/2 [==============================] - 0s 10ms/step - loss: 0.6784 - accuracy: 0.5469 - precision: 0.5574 - a=recall: 0.9444\n",
            "Epoch 581/1000\n",
            "2/2 [==============================] - 0s 14ms/step - loss: 0.6779 - accuracy: 0.5625 - precision: 0.5667 - a=recall: 0.9444\n",
            "Epoch 582/1000\n",
            "2/2 [==============================] - 0s 10ms/step - loss: 0.6791 - accuracy: 0.5625 - precision: 0.5645 - a=recall: 0.9722\n",
            "Epoch 583/1000\n",
            "2/2 [==============================] - 0s 10ms/step - loss: 0.6799 - accuracy: 0.6094 - precision: 0.5965 - a=recall: 0.9444\n",
            "Epoch 584/1000\n",
            "2/2 [==============================] - 0s 10ms/step - loss: 0.6780 - accuracy: 0.5625 - precision: 0.5667 - a=recall: 0.9444\n",
            "Epoch 585/1000\n",
            "2/2 [==============================] - 0s 11ms/step - loss: 0.6778 - accuracy: 0.5469 - precision: 0.5574 - a=recall: 0.9444\n",
            "Epoch 586/1000\n",
            "2/2 [==============================] - 0s 10ms/step - loss: 0.6785 - accuracy: 0.5625 - precision: 0.5667 - a=recall: 0.9444\n",
            "Epoch 587/1000\n",
            "2/2 [==============================] - 0s 10ms/step - loss: 0.6783 - accuracy: 0.5469 - precision: 0.5574 - a=recall: 0.9444\n",
            "Epoch 588/1000\n",
            "2/2 [==============================] - 0s 9ms/step - loss: 0.6781 - accuracy: 0.5781 - precision: 0.5763 - a=recall: 0.9444\n",
            "Epoch 589/1000\n",
            "2/2 [==============================] - 0s 10ms/step - loss: 0.6778 - accuracy: 0.5625 - precision: 0.5667 - a=recall: 0.9444\n",
            "Epoch 590/1000\n",
            "2/2 [==============================] - 0s 13ms/step - loss: 0.6797 - accuracy: 0.5625 - precision: 0.5667 - a=recall: 0.9444\n",
            "Epoch 591/1000\n",
            "2/2 [==============================] - 0s 14ms/step - loss: 0.6778 - accuracy: 0.5781 - precision: 0.5763 - a=recall: 0.9444\n",
            "Epoch 592/1000\n",
            "2/2 [==============================] - 0s 14ms/step - loss: 0.6793 - accuracy: 0.5625 - precision: 0.5667 - a=recall: 0.9444\n",
            "Epoch 593/1000\n",
            "2/2 [==============================] - 0s 10ms/step - loss: 0.6796 - accuracy: 0.5469 - precision: 0.5614 - a=recall: 0.8889\n",
            "Epoch 594/1000\n",
            "2/2 [==============================] - 0s 10ms/step - loss: 0.6823 - accuracy: 0.5625 - precision: 0.5667 - a=recall: 0.9444\n",
            "Epoch 595/1000\n",
            "2/2 [==============================] - 0s 10ms/step - loss: 0.6777 - accuracy: 0.5781 - precision: 0.5763 - a=recall: 0.9444\n",
            "Epoch 596/1000\n",
            "2/2 [==============================] - 0s 10ms/step - loss: 0.6803 - accuracy: 0.5938 - precision: 0.5833 - a=recall: 0.9722\n",
            "Epoch 597/1000\n",
            "2/2 [==============================] - 0s 11ms/step - loss: 0.6782 - accuracy: 0.5781 - precision: 0.5763 - a=recall: 0.9444\n",
            "Epoch 598/1000\n",
            "2/2 [==============================] - 0s 10ms/step - loss: 0.6809 - accuracy: 0.5625 - precision: 0.5667 - a=recall: 0.9444\n",
            "Epoch 599/1000\n",
            "2/2 [==============================] - 0s 11ms/step - loss: 0.6777 - accuracy: 0.5781 - precision: 0.5763 - a=recall: 0.9444\n",
            "Epoch 600/1000\n",
            "2/2 [==============================] - 0s 13ms/step - loss: 0.6793 - accuracy: 0.6094 - precision: 0.6000 - a=recall: 0.9167\n",
            "Epoch 601/1000\n",
            "2/2 [==============================] - 0s 14ms/step - loss: 0.6777 - accuracy: 0.5781 - precision: 0.5763 - a=recall: 0.9444\n",
            "Epoch 602/1000\n",
            "2/2 [==============================] - 0s 12ms/step - loss: 0.6778 - accuracy: 0.5781 - precision: 0.5763 - a=recall: 0.9444\n",
            "Epoch 603/1000\n",
            "2/2 [==============================] - 0s 13ms/step - loss: 0.6776 - accuracy: 0.5781 - precision: 0.5763 - a=recall: 0.9444\n",
            "Epoch 604/1000\n",
            "2/2 [==============================] - 0s 12ms/step - loss: 0.6832 - accuracy: 0.5781 - precision: 0.5818 - a=recall: 0.8889\n",
            "Epoch 605/1000\n",
            "2/2 [==============================] - 0s 12ms/step - loss: 0.6796 - accuracy: 0.5781 - precision: 0.5714 - a=recall: 1.0000\n",
            "Epoch 606/1000\n",
            "2/2 [==============================] - 0s 12ms/step - loss: 0.6795 - accuracy: 0.5781 - precision: 0.5763 - a=recall: 0.9444\n",
            "Epoch 607/1000\n",
            "2/2 [==============================] - 0s 19ms/step - loss: 0.6808 - accuracy: 0.5938 - precision: 0.5833 - a=recall: 0.9722\n",
            "Epoch 608/1000\n",
            "2/2 [==============================] - 0s 11ms/step - loss: 0.6808 - accuracy: 0.6094 - precision: 0.6000 - a=recall: 0.9167\n",
            "Epoch 609/1000\n",
            "2/2 [==============================] - 0s 14ms/step - loss: 0.6801 - accuracy: 0.5469 - precision: 0.5574 - a=recall: 0.9444\n",
            "Epoch 610/1000\n",
            "2/2 [==============================] - 0s 10ms/step - loss: 0.6804 - accuracy: 0.5938 - precision: 0.5926 - a=recall: 0.8889\n",
            "Epoch 611/1000\n",
            "2/2 [==============================] - 0s 10ms/step - loss: 0.6780 - accuracy: 0.5781 - precision: 0.5763 - a=recall: 0.9444\n",
            "Epoch 612/1000\n",
            "2/2 [==============================] - 0s 10ms/step - loss: 0.6779 - accuracy: 0.5781 - precision: 0.5763 - a=recall: 0.9444\n",
            "Epoch 613/1000\n",
            "2/2 [==============================] - 0s 11ms/step - loss: 0.6776 - accuracy: 0.5625 - precision: 0.5667 - a=recall: 0.9444\n",
            "Epoch 614/1000\n",
            "2/2 [==============================] - 0s 12ms/step - loss: 0.6778 - accuracy: 0.5781 - precision: 0.5763 - a=recall: 0.9444\n",
            "Epoch 615/1000\n",
            "2/2 [==============================] - 0s 11ms/step - loss: 0.6793 - accuracy: 0.5469 - precision: 0.5574 - a=recall: 0.9444\n",
            "Epoch 616/1000\n",
            "2/2 [==============================] - 0s 10ms/step - loss: 0.6778 - accuracy: 0.5781 - precision: 0.5763 - a=recall: 0.9444\n",
            "Epoch 617/1000\n",
            "2/2 [==============================] - 0s 10ms/step - loss: 0.6780 - accuracy: 0.5469 - precision: 0.5574 - a=recall: 0.9444\n",
            "Epoch 618/1000\n",
            "2/2 [==============================] - 0s 10ms/step - loss: 0.6775 - accuracy: 0.5781 - precision: 0.5763 - a=recall: 0.9444\n",
            "Epoch 619/1000\n",
            "2/2 [==============================] - 0s 10ms/step - loss: 0.6826 - accuracy: 0.5625 - precision: 0.5741 - a=recall: 0.8611\n",
            "Epoch 620/1000\n",
            "2/2 [==============================] - 0s 8ms/step - loss: 0.6776 - accuracy: 0.5781 - precision: 0.5763 - a=recall: 0.9444\n",
            "Epoch 621/1000\n",
            "2/2 [==============================] - 0s 10ms/step - loss: 0.6775 - accuracy: 0.5781 - precision: 0.5763 - a=recall: 0.9444\n",
            "Epoch 622/1000\n",
            "2/2 [==============================] - 0s 10ms/step - loss: 0.6788 - accuracy: 0.5625 - precision: 0.5667 - a=recall: 0.9444\n",
            "Epoch 623/1000\n",
            "2/2 [==============================] - 0s 10ms/step - loss: 0.6775 - accuracy: 0.5781 - precision: 0.5763 - a=recall: 0.9444\n",
            "Epoch 624/1000\n",
            "2/2 [==============================] - 0s 10ms/step - loss: 0.6775 - accuracy: 0.5781 - precision: 0.5763 - a=recall: 0.9444\n",
            "Epoch 625/1000\n",
            "2/2 [==============================] - 0s 9ms/step - loss: 0.6775 - accuracy: 0.5625 - precision: 0.5667 - a=recall: 0.9444\n",
            "Epoch 626/1000\n",
            "2/2 [==============================] - 0s 10ms/step - loss: 0.6779 - accuracy: 0.5469 - precision: 0.5574 - a=recall: 0.9444\n",
            "Epoch 627/1000\n",
            "2/2 [==============================] - 0s 9ms/step - loss: 0.6809 - accuracy: 0.5625 - precision: 0.5645 - a=recall: 0.9722\n",
            "Epoch 628/1000\n",
            "2/2 [==============================] - 0s 10ms/step - loss: 0.6777 - accuracy: 0.5781 - precision: 0.5763 - a=recall: 0.9444\n",
            "Epoch 629/1000\n",
            "2/2 [==============================] - 0s 9ms/step - loss: 0.6774 - accuracy: 0.5781 - precision: 0.5763 - a=recall: 0.9444\n",
            "Epoch 630/1000\n",
            "2/2 [==============================] - 0s 9ms/step - loss: 0.6775 - accuracy: 0.5781 - precision: 0.5763 - a=recall: 0.9444\n",
            "Epoch 631/1000\n",
            "2/2 [==============================] - 0s 11ms/step - loss: 0.6775 - accuracy: 0.5781 - precision: 0.5763 - a=recall: 0.9444\n",
            "Epoch 632/1000\n",
            "2/2 [==============================] - 0s 10ms/step - loss: 0.6786 - accuracy: 0.5625 - precision: 0.5667 - a=recall: 0.9444\n",
            "Epoch 633/1000\n",
            "2/2 [==============================] - 0s 9ms/step - loss: 0.6780 - accuracy: 0.5781 - precision: 0.5789 - a=recall: 0.9167\n",
            "Epoch 634/1000\n",
            "2/2 [==============================] - 0s 9ms/step - loss: 0.6774 - accuracy: 0.5781 - precision: 0.5763 - a=recall: 0.9444\n",
            "Epoch 635/1000\n",
            "2/2 [==============================] - 0s 9ms/step - loss: 0.6829 - accuracy: 0.5312 - precision: 0.5556 - a=recall: 0.8333\n",
            "Epoch 636/1000\n",
            "2/2 [==============================] - 0s 10ms/step - loss: 0.6774 - accuracy: 0.5625 - precision: 0.5667 - a=recall: 0.9444\n",
            "Epoch 637/1000\n",
            "2/2 [==============================] - 0s 9ms/step - loss: 0.6790 - accuracy: 0.5625 - precision: 0.5667 - a=recall: 0.9444\n",
            "Epoch 638/1000\n",
            "2/2 [==============================] - 0s 11ms/step - loss: 0.6784 - accuracy: 0.5625 - precision: 0.5667 - a=recall: 0.9444\n",
            "Epoch 639/1000\n",
            "2/2 [==============================] - 0s 11ms/step - loss: 0.6774 - accuracy: 0.5781 - precision: 0.5763 - a=recall: 0.9444\n",
            "Epoch 640/1000\n",
            "2/2 [==============================] - 0s 11ms/step - loss: 0.6774 - accuracy: 0.5781 - precision: 0.5763 - a=recall: 0.9444\n",
            "Epoch 641/1000\n",
            "2/2 [==============================] - 0s 9ms/step - loss: 0.6773 - accuracy: 0.5781 - precision: 0.5763 - a=recall: 0.9444\n",
            "Epoch 642/1000\n",
            "2/2 [==============================] - 0s 11ms/step - loss: 0.6780 - accuracy: 0.5469 - precision: 0.5574 - a=recall: 0.9444\n",
            "Epoch 643/1000\n",
            "2/2 [==============================] - 0s 10ms/step - loss: 0.6789 - accuracy: 0.5625 - precision: 0.5667 - a=recall: 0.9444\n",
            "Epoch 644/1000\n",
            "2/2 [==============================] - 0s 10ms/step - loss: 0.6774 - accuracy: 0.5938 - precision: 0.5862 - a=recall: 0.9444\n",
            "Epoch 645/1000\n",
            "2/2 [==============================] - 0s 9ms/step - loss: 0.6776 - accuracy: 0.5781 - precision: 0.5763 - a=recall: 0.9444\n",
            "Epoch 646/1000\n",
            "2/2 [==============================] - 0s 10ms/step - loss: 0.6773 - accuracy: 0.5781 - precision: 0.5763 - a=recall: 0.9444\n",
            "Epoch 647/1000\n",
            "2/2 [==============================] - 0s 10ms/step - loss: 0.6772 - accuracy: 0.5781 - precision: 0.5763 - a=recall: 0.9444\n",
            "Epoch 648/1000\n",
            "2/2 [==============================] - 0s 12ms/step - loss: 0.6791 - accuracy: 0.5938 - precision: 0.5862 - a=recall: 0.9444\n",
            "Epoch 649/1000\n",
            "2/2 [==============================] - 0s 10ms/step - loss: 0.6784 - accuracy: 0.5469 - precision: 0.5574 - a=recall: 0.9444\n",
            "Epoch 650/1000\n",
            "2/2 [==============================] - 0s 10ms/step - loss: 0.6807 - accuracy: 0.5938 - precision: 0.5893 - a=recall: 0.9167\n",
            "Epoch 651/1000\n",
            "2/2 [==============================] - 0s 10ms/step - loss: 0.6862 - accuracy: 0.5469 - precision: 0.5574 - a=recall: 0.9444\n",
            "Epoch 652/1000\n",
            "2/2 [==============================] - 0s 10ms/step - loss: 0.6787 - accuracy: 0.5781 - precision: 0.5763 - a=recall: 0.9444\n",
            "Epoch 653/1000\n",
            "2/2 [==============================] - 0s 10ms/step - loss: 0.6777 - accuracy: 0.6094 - precision: 0.6000 - a=recall: 0.9167\n",
            "Epoch 654/1000\n",
            "2/2 [==============================] - 0s 10ms/step - loss: 0.6772 - accuracy: 0.5781 - precision: 0.5763 - a=recall: 0.9444\n",
            "Epoch 655/1000\n",
            "2/2 [==============================] - 0s 9ms/step - loss: 0.6796 - accuracy: 0.5625 - precision: 0.5667 - a=recall: 0.9444\n",
            "Epoch 656/1000\n",
            "2/2 [==============================] - 0s 11ms/step - loss: 0.6775 - accuracy: 0.5781 - precision: 0.5763 - a=recall: 0.9444\n",
            "Epoch 657/1000\n",
            "2/2 [==============================] - 0s 10ms/step - loss: 0.6782 - accuracy: 0.5625 - precision: 0.5667 - a=recall: 0.9444\n",
            "Epoch 658/1000\n",
            "2/2 [==============================] - 0s 10ms/step - loss: 0.6772 - accuracy: 0.5781 - precision: 0.5763 - a=recall: 0.9444\n",
            "Epoch 659/1000\n",
            "2/2 [==============================] - 0s 10ms/step - loss: 0.6773 - accuracy: 0.5781 - precision: 0.5763 - a=recall: 0.9444\n",
            "Epoch 660/1000\n",
            "2/2 [==============================] - 0s 11ms/step - loss: 0.6782 - accuracy: 0.5781 - precision: 0.5763 - a=recall: 0.9444\n",
            "Epoch 661/1000\n",
            "2/2 [==============================] - 0s 11ms/step - loss: 0.6772 - accuracy: 0.5781 - precision: 0.5763 - a=recall: 0.9444\n",
            "Epoch 662/1000\n",
            "2/2 [==============================] - 0s 10ms/step - loss: 0.6778 - accuracy: 0.5625 - precision: 0.5667 - a=recall: 0.9444\n",
            "Epoch 663/1000\n",
            "2/2 [==============================] - 0s 10ms/step - loss: 0.6781 - accuracy: 0.5469 - precision: 0.5574 - a=recall: 0.9444\n",
            "Epoch 664/1000\n",
            "2/2 [==============================] - 0s 11ms/step - loss: 0.6786 - accuracy: 0.5469 - precision: 0.5574 - a=recall: 0.9444\n",
            "Epoch 665/1000\n",
            "2/2 [==============================] - 0s 10ms/step - loss: 0.6780 - accuracy: 0.5938 - precision: 0.5862 - a=recall: 0.9444\n",
            "Epoch 666/1000\n",
            "2/2 [==============================] - 0s 9ms/step - loss: 0.6787 - accuracy: 0.5625 - precision: 0.5667 - a=recall: 0.9444\n",
            "Epoch 667/1000\n",
            "2/2 [==============================] - 0s 10ms/step - loss: 0.6776 - accuracy: 0.5625 - precision: 0.5690 - a=recall: 0.9167\n",
            "Epoch 668/1000\n",
            "2/2 [==============================] - 0s 10ms/step - loss: 0.6774 - accuracy: 0.5938 - precision: 0.5862 - a=recall: 0.9444\n",
            "Epoch 669/1000\n",
            "2/2 [==============================] - 0s 10ms/step - loss: 0.6772 - accuracy: 0.5781 - precision: 0.5763 - a=recall: 0.9444\n",
            "Epoch 670/1000\n",
            "2/2 [==============================] - 0s 10ms/step - loss: 0.6771 - accuracy: 0.5781 - precision: 0.5763 - a=recall: 0.9444\n",
            "Epoch 671/1000\n",
            "2/2 [==============================] - 0s 9ms/step - loss: 0.6772 - accuracy: 0.5781 - precision: 0.5763 - a=recall: 0.9444\n",
            "Epoch 672/1000\n",
            "2/2 [==============================] - 0s 10ms/step - loss: 0.6771 - accuracy: 0.5781 - precision: 0.5763 - a=recall: 0.9444\n",
            "Epoch 673/1000\n",
            "2/2 [==============================] - 0s 9ms/step - loss: 0.6774 - accuracy: 0.5938 - precision: 0.5862 - a=recall: 0.9444\n",
            "Epoch 674/1000\n",
            "2/2 [==============================] - 0s 9ms/step - loss: 0.6800 - accuracy: 0.5625 - precision: 0.5645 - a=recall: 0.9722\n",
            "Epoch 675/1000\n",
            "2/2 [==============================] - 0s 10ms/step - loss: 0.6796 - accuracy: 0.5781 - precision: 0.5789 - a=recall: 0.9167\n",
            "Epoch 676/1000\n",
            "2/2 [==============================] - 0s 10ms/step - loss: 0.6770 - accuracy: 0.5781 - precision: 0.5763 - a=recall: 0.9444\n",
            "Epoch 677/1000\n",
            "2/2 [==============================] - 0s 15ms/step - loss: 0.6782 - accuracy: 0.5625 - precision: 0.5667 - a=recall: 0.9444\n",
            "Epoch 678/1000\n",
            "2/2 [==============================] - 0s 11ms/step - loss: 0.6770 - accuracy: 0.5781 - precision: 0.5763 - a=recall: 0.9444\n",
            "Epoch 679/1000\n",
            "2/2 [==============================] - 0s 11ms/step - loss: 0.6771 - accuracy: 0.5781 - precision: 0.5763 - a=recall: 0.9444\n",
            "Epoch 680/1000\n",
            "2/2 [==============================] - 0s 10ms/step - loss: 0.6773 - accuracy: 0.5781 - precision: 0.5763 - a=recall: 0.9444\n",
            "Epoch 681/1000\n",
            "2/2 [==============================] - 0s 9ms/step - loss: 0.6772 - accuracy: 0.5781 - precision: 0.5763 - a=recall: 0.9444\n",
            "Epoch 682/1000\n",
            "2/2 [==============================] - 0s 10ms/step - loss: 0.6770 - accuracy: 0.5781 - precision: 0.5763 - a=recall: 0.9444\n",
            "Epoch 683/1000\n",
            "2/2 [==============================] - 0s 10ms/step - loss: 0.6778 - accuracy: 0.5625 - precision: 0.5667 - a=recall: 0.9444\n",
            "Epoch 684/1000\n",
            "2/2 [==============================] - 0s 11ms/step - loss: 0.6780 - accuracy: 0.5625 - precision: 0.5667 - a=recall: 0.9444\n",
            "Epoch 685/1000\n",
            "2/2 [==============================] - 0s 8ms/step - loss: 0.6776 - accuracy: 0.6250 - precision: 0.6071 - a=recall: 0.9444\n",
            "Epoch 686/1000\n",
            "2/2 [==============================] - 0s 11ms/step - loss: 0.6769 - accuracy: 0.5938 - precision: 0.5862 - a=recall: 0.9444\n",
            "Epoch 687/1000\n",
            "2/2 [==============================] - 0s 11ms/step - loss: 0.6769 - accuracy: 0.5781 - precision: 0.5763 - a=recall: 0.9444\n",
            "Epoch 688/1000\n",
            "2/2 [==============================] - 0s 14ms/step - loss: 0.6769 - accuracy: 0.5781 - precision: 0.5763 - a=recall: 0.9444\n",
            "Epoch 689/1000\n",
            "2/2 [==============================] - 0s 11ms/step - loss: 0.6778 - accuracy: 0.6094 - precision: 0.6000 - a=recall: 0.9167\n",
            "Epoch 690/1000\n",
            "2/2 [==============================] - 0s 11ms/step - loss: 0.6772 - accuracy: 0.5781 - precision: 0.5763 - a=recall: 0.9444\n",
            "Epoch 691/1000\n",
            "2/2 [==============================] - 0s 11ms/step - loss: 0.6785 - accuracy: 0.5625 - precision: 0.5667 - a=recall: 0.9444\n",
            "Epoch 692/1000\n",
            "2/2 [==============================] - 0s 15ms/step - loss: 0.6769 - accuracy: 0.5781 - precision: 0.5763 - a=recall: 0.9444\n",
            "Epoch 693/1000\n",
            "2/2 [==============================] - 0s 11ms/step - loss: 0.6789 - accuracy: 0.5625 - precision: 0.5741 - a=recall: 0.8611\n",
            "Epoch 694/1000\n",
            "2/2 [==============================] - 0s 12ms/step - loss: 0.6787 - accuracy: 0.6094 - precision: 0.5965 - a=recall: 0.9444\n",
            "Epoch 695/1000\n",
            "2/2 [==============================] - 0s 11ms/step - loss: 0.6787 - accuracy: 0.5781 - precision: 0.5763 - a=recall: 0.9444\n",
            "Epoch 696/1000\n",
            "2/2 [==============================] - 0s 13ms/step - loss: 0.6776 - accuracy: 0.6250 - precision: 0.6071 - a=recall: 0.9444\n",
            "Epoch 697/1000\n",
            "2/2 [==============================] - 0s 11ms/step - loss: 0.6790 - accuracy: 0.5938 - precision: 0.5926 - a=recall: 0.8889\n",
            "Epoch 698/1000\n",
            "2/2 [==============================] - 0s 10ms/step - loss: 0.6768 - accuracy: 0.5781 - precision: 0.5763 - a=recall: 0.9444\n",
            "Epoch 699/1000\n",
            "2/2 [==============================] - 0s 10ms/step - loss: 0.6844 - accuracy: 0.5469 - precision: 0.5556 - a=recall: 0.9722\n",
            "Epoch 700/1000\n",
            "2/2 [==============================] - 0s 10ms/step - loss: 0.6768 - accuracy: 0.5938 - precision: 0.5862 - a=recall: 0.9444\n",
            "Epoch 701/1000\n",
            "2/2 [==============================] - 0s 11ms/step - loss: 0.6817 - accuracy: 0.5625 - precision: 0.5741 - a=recall: 0.8611\n",
            "Epoch 702/1000\n",
            "2/2 [==============================] - 0s 11ms/step - loss: 0.6778 - accuracy: 0.5781 - precision: 0.5789 - a=recall: 0.9167\n",
            "Epoch 703/1000\n",
            "2/2 [==============================] - 0s 15ms/step - loss: 0.6775 - accuracy: 0.5469 - precision: 0.5574 - a=recall: 0.9444\n",
            "Epoch 704/1000\n",
            "2/2 [==============================] - 0s 12ms/step - loss: 0.6770 - accuracy: 0.5938 - precision: 0.5862 - a=recall: 0.9444\n",
            "Epoch 705/1000\n",
            "2/2 [==============================] - 0s 11ms/step - loss: 0.6834 - accuracy: 0.5312 - precision: 0.5484 - a=recall: 0.9444\n",
            "Epoch 706/1000\n",
            "2/2 [==============================] - 0s 10ms/step - loss: 0.6769 - accuracy: 0.5781 - precision: 0.5763 - a=recall: 0.9444\n",
            "Epoch 707/1000\n",
            "2/2 [==============================] - 0s 10ms/step - loss: 0.6770 - accuracy: 0.6250 - precision: 0.6071 - a=recall: 0.9444\n",
            "Epoch 708/1000\n",
            "2/2 [==============================] - 0s 10ms/step - loss: 0.6769 - accuracy: 0.5781 - precision: 0.5763 - a=recall: 0.9444\n",
            "Epoch 709/1000\n",
            "2/2 [==============================] - 0s 11ms/step - loss: 0.6767 - accuracy: 0.5781 - precision: 0.5763 - a=recall: 0.9444\n",
            "Epoch 710/1000\n",
            "2/2 [==============================] - 0s 10ms/step - loss: 0.6784 - accuracy: 0.5625 - precision: 0.5667 - a=recall: 0.9444\n",
            "Epoch 711/1000\n",
            "2/2 [==============================] - 0s 9ms/step - loss: 0.6793 - accuracy: 0.5469 - precision: 0.5574 - a=recall: 0.9444\n",
            "Epoch 712/1000\n",
            "2/2 [==============================] - 0s 11ms/step - loss: 0.6772 - accuracy: 0.6250 - precision: 0.6111 - a=recall: 0.9167\n",
            "Epoch 713/1000\n",
            "2/2 [==============================] - 0s 10ms/step - loss: 0.6769 - accuracy: 0.5781 - precision: 0.5763 - a=recall: 0.9444\n",
            "Epoch 714/1000\n",
            "2/2 [==============================] - 0s 9ms/step - loss: 0.6802 - accuracy: 0.5625 - precision: 0.5769 - a=recall: 0.8333\n",
            "Epoch 715/1000\n",
            "2/2 [==============================] - 0s 11ms/step - loss: 0.6774 - accuracy: 0.6094 - precision: 0.5965 - a=recall: 0.9444\n",
            "Epoch 716/1000\n",
            "2/2 [==============================] - 0s 11ms/step - loss: 0.6777 - accuracy: 0.5469 - precision: 0.5574 - a=recall: 0.9444\n",
            "Epoch 717/1000\n",
            "2/2 [==============================] - 0s 10ms/step - loss: 0.6766 - accuracy: 0.5781 - precision: 0.5763 - a=recall: 0.9444\n",
            "Epoch 718/1000\n",
            "2/2 [==============================] - 0s 10ms/step - loss: 0.6795 - accuracy: 0.5625 - precision: 0.5667 - a=recall: 0.9444\n",
            "Epoch 719/1000\n",
            "2/2 [==============================] - 0s 13ms/step - loss: 0.6779 - accuracy: 0.5781 - precision: 0.5763 - a=recall: 0.9444\n",
            "Epoch 720/1000\n",
            "2/2 [==============================] - 0s 10ms/step - loss: 0.6776 - accuracy: 0.5781 - precision: 0.5789 - a=recall: 0.9167\n",
            "Epoch 721/1000\n",
            "2/2 [==============================] - 0s 12ms/step - loss: 0.6779 - accuracy: 0.5938 - precision: 0.5926 - a=recall: 0.8889\n",
            "Epoch 722/1000\n",
            "2/2 [==============================] - 0s 11ms/step - loss: 0.6768 - accuracy: 0.5781 - precision: 0.5763 - a=recall: 0.9444\n",
            "Epoch 723/1000\n",
            "2/2 [==============================] - 0s 10ms/step - loss: 0.6772 - accuracy: 0.6094 - precision: 0.5965 - a=recall: 0.9444\n",
            "Epoch 724/1000\n",
            "2/2 [==============================] - 0s 11ms/step - loss: 0.6766 - accuracy: 0.5781 - precision: 0.5763 - a=recall: 0.9444\n",
            "Epoch 725/1000\n",
            "2/2 [==============================] - 0s 11ms/step - loss: 0.6765 - accuracy: 0.5938 - precision: 0.5862 - a=recall: 0.9444\n",
            "Epoch 726/1000\n",
            "2/2 [==============================] - 0s 11ms/step - loss: 0.6798 - accuracy: 0.5625 - precision: 0.5667 - a=recall: 0.9444\n",
            "Epoch 727/1000\n",
            "2/2 [==============================] - 0s 11ms/step - loss: 0.6774 - accuracy: 0.5938 - precision: 0.5862 - a=recall: 0.9444\n",
            "Epoch 728/1000\n",
            "2/2 [==============================] - 0s 11ms/step - loss: 0.6769 - accuracy: 0.6094 - precision: 0.6000 - a=recall: 0.9167\n",
            "Epoch 729/1000\n",
            "2/2 [==============================] - 0s 10ms/step - loss: 0.6781 - accuracy: 0.5625 - precision: 0.5667 - a=recall: 0.9444\n",
            "Epoch 730/1000\n",
            "2/2 [==============================] - 0s 10ms/step - loss: 0.6768 - accuracy: 0.5938 - precision: 0.5862 - a=recall: 0.9444\n",
            "Epoch 731/1000\n",
            "2/2 [==============================] - 0s 10ms/step - loss: 0.6778 - accuracy: 0.5781 - precision: 0.5818 - a=recall: 0.8889\n",
            "Epoch 732/1000\n",
            "2/2 [==============================] - 0s 10ms/step - loss: 0.6786 - accuracy: 0.5781 - precision: 0.5849 - a=recall: 0.8611\n",
            "Epoch 733/1000\n",
            "2/2 [==============================] - 0s 9ms/step - loss: 0.6798 - accuracy: 0.5781 - precision: 0.5818 - a=recall: 0.8889\n",
            "Epoch 734/1000\n",
            "2/2 [==============================] - 0s 9ms/step - loss: 0.6768 - accuracy: 0.5938 - precision: 0.5862 - a=recall: 0.9444\n",
            "Epoch 735/1000\n",
            "2/2 [==============================] - 0s 12ms/step - loss: 0.6766 - accuracy: 0.5781 - precision: 0.5763 - a=recall: 0.9444\n",
            "Epoch 736/1000\n",
            "2/2 [==============================] - 0s 11ms/step - loss: 0.6765 - accuracy: 0.5938 - precision: 0.5862 - a=recall: 0.9444\n",
            "Epoch 737/1000\n",
            "2/2 [==============================] - 0s 14ms/step - loss: 0.6769 - accuracy: 0.5781 - precision: 0.5763 - a=recall: 0.9444\n",
            "Epoch 738/1000\n",
            "2/2 [==============================] - 0s 11ms/step - loss: 0.6766 - accuracy: 0.5938 - precision: 0.5862 - a=recall: 0.9444\n",
            "Epoch 739/1000\n",
            "2/2 [==============================] - 0s 10ms/step - loss: 0.6765 - accuracy: 0.5938 - precision: 0.5862 - a=recall: 0.9444\n",
            "Epoch 740/1000\n",
            "2/2 [==============================] - 0s 11ms/step - loss: 0.6773 - accuracy: 0.5938 - precision: 0.5893 - a=recall: 0.9167\n",
            "Epoch 741/1000\n",
            "2/2 [==============================] - 0s 10ms/step - loss: 0.6771 - accuracy: 0.5781 - precision: 0.5763 - a=recall: 0.9444\n",
            "Epoch 742/1000\n",
            "2/2 [==============================] - 0s 11ms/step - loss: 0.6781 - accuracy: 0.5938 - precision: 0.5893 - a=recall: 0.9167\n",
            "Epoch 743/1000\n",
            "2/2 [==============================] - 0s 11ms/step - loss: 0.6779 - accuracy: 0.5781 - precision: 0.5789 - a=recall: 0.9167\n",
            "Epoch 744/1000\n",
            "2/2 [==============================] - 0s 10ms/step - loss: 0.6764 - accuracy: 0.5781 - precision: 0.5763 - a=recall: 0.9444\n",
            "Epoch 745/1000\n",
            "2/2 [==============================] - 0s 10ms/step - loss: 0.6781 - accuracy: 0.5781 - precision: 0.5763 - a=recall: 0.9444\n",
            "Epoch 746/1000\n",
            "2/2 [==============================] - 0s 10ms/step - loss: 0.6814 - accuracy: 0.5625 - precision: 0.5741 - a=recall: 0.8611\n",
            "Epoch 747/1000\n",
            "2/2 [==============================] - 0s 14ms/step - loss: 0.6791 - accuracy: 0.5781 - precision: 0.5763 - a=recall: 0.9444\n",
            "Epoch 748/1000\n",
            "2/2 [==============================] - 0s 10ms/step - loss: 0.6792 - accuracy: 0.5625 - precision: 0.5667 - a=recall: 0.9444\n",
            "Epoch 749/1000\n",
            "2/2 [==============================] - 0s 9ms/step - loss: 0.6767 - accuracy: 0.5781 - precision: 0.5763 - a=recall: 0.9444\n",
            "Epoch 750/1000\n",
            "2/2 [==============================] - 0s 10ms/step - loss: 0.6767 - accuracy: 0.6250 - precision: 0.6111 - a=recall: 0.9167\n",
            "Epoch 751/1000\n",
            "2/2 [==============================] - 0s 10ms/step - loss: 0.6770 - accuracy: 0.5938 - precision: 0.5862 - a=recall: 0.9444\n",
            "Epoch 752/1000\n",
            "2/2 [==============================] - 0s 12ms/step - loss: 0.6763 - accuracy: 0.6094 - precision: 0.5965 - a=recall: 0.9444\n",
            "Epoch 753/1000\n",
            "2/2 [==============================] - 0s 11ms/step - loss: 0.6772 - accuracy: 0.5938 - precision: 0.5862 - a=recall: 0.9444\n",
            "Epoch 754/1000\n",
            "2/2 [==============================] - 0s 11ms/step - loss: 0.6763 - accuracy: 0.6094 - precision: 0.6000 - a=recall: 0.9167\n",
            "Epoch 755/1000\n",
            "2/2 [==============================] - 0s 11ms/step - loss: 0.6763 - accuracy: 0.6250 - precision: 0.6071 - a=recall: 0.9444\n",
            "Epoch 756/1000\n",
            "2/2 [==============================] - 0s 9ms/step - loss: 0.6764 - accuracy: 0.6094 - precision: 0.5965 - a=recall: 0.9444\n",
            "Epoch 757/1000\n",
            "2/2 [==============================] - 0s 9ms/step - loss: 0.6794 - accuracy: 0.5625 - precision: 0.5667 - a=recall: 0.9444\n",
            "Epoch 758/1000\n",
            "2/2 [==============================] - 0s 10ms/step - loss: 0.6818 - accuracy: 0.6094 - precision: 0.5932 - a=recall: 0.9722\n",
            "Epoch 759/1000\n",
            "2/2 [==============================] - 0s 10ms/step - loss: 0.6767 - accuracy: 0.6250 - precision: 0.6071 - a=recall: 0.9444\n",
            "Epoch 760/1000\n",
            "2/2 [==============================] - 0s 10ms/step - loss: 0.6765 - accuracy: 0.6250 - precision: 0.6111 - a=recall: 0.9167\n",
            "Epoch 761/1000\n",
            "2/2 [==============================] - 0s 9ms/step - loss: 0.6765 - accuracy: 0.6094 - precision: 0.6000 - a=recall: 0.9167\n",
            "Epoch 762/1000\n",
            "2/2 [==============================] - 0s 9ms/step - loss: 0.6768 - accuracy: 0.5938 - precision: 0.5862 - a=recall: 0.9444\n",
            "Epoch 763/1000\n",
            "2/2 [==============================] - 0s 10ms/step - loss: 0.6778 - accuracy: 0.5781 - precision: 0.5763 - a=recall: 0.9444\n",
            "Epoch 764/1000\n",
            "2/2 [==============================] - 0s 10ms/step - loss: 0.6782 - accuracy: 0.5938 - precision: 0.5926 - a=recall: 0.8889\n",
            "Epoch 765/1000\n",
            "2/2 [==============================] - 0s 10ms/step - loss: 0.6767 - accuracy: 0.5938 - precision: 0.5862 - a=recall: 0.9444\n",
            "Epoch 766/1000\n",
            "2/2 [==============================] - 0s 9ms/step - loss: 0.6764 - accuracy: 0.6094 - precision: 0.5965 - a=recall: 0.9444\n",
            "Epoch 767/1000\n",
            "2/2 [==============================] - 0s 10ms/step - loss: 0.6782 - accuracy: 0.5781 - precision: 0.5763 - a=recall: 0.9444\n",
            "Epoch 768/1000\n",
            "2/2 [==============================] - 0s 9ms/step - loss: 0.6778 - accuracy: 0.5938 - precision: 0.5862 - a=recall: 0.9444\n",
            "Epoch 769/1000\n",
            "2/2 [==============================] - 0s 9ms/step - loss: 0.6761 - accuracy: 0.6094 - precision: 0.6000 - a=recall: 0.9167\n",
            "Epoch 770/1000\n",
            "2/2 [==============================] - 0s 11ms/step - loss: 0.6764 - accuracy: 0.6094 - precision: 0.6000 - a=recall: 0.9167\n",
            "Epoch 771/1000\n",
            "2/2 [==============================] - 0s 10ms/step - loss: 0.6762 - accuracy: 0.5781 - precision: 0.5789 - a=recall: 0.9167\n",
            "Epoch 772/1000\n",
            "2/2 [==============================] - 0s 10ms/step - loss: 0.6782 - accuracy: 0.6094 - precision: 0.6000 - a=recall: 0.9167\n",
            "Epoch 773/1000\n",
            "2/2 [==============================] - 0s 14ms/step - loss: 0.6803 - accuracy: 0.5469 - precision: 0.5636 - a=recall: 0.8611\n",
            "Epoch 774/1000\n",
            "2/2 [==============================] - 0s 11ms/step - loss: 0.6775 - accuracy: 0.5938 - precision: 0.5893 - a=recall: 0.9167\n",
            "Epoch 775/1000\n",
            "2/2 [==============================] - 0s 12ms/step - loss: 0.6765 - accuracy: 0.5781 - precision: 0.5763 - a=recall: 0.9444\n",
            "Epoch 776/1000\n",
            "2/2 [==============================] - 0s 23ms/step - loss: 0.6760 - accuracy: 0.5938 - precision: 0.5862 - a=recall: 0.9444\n",
            "Epoch 777/1000\n",
            "2/2 [==============================] - 0s 18ms/step - loss: 0.6760 - accuracy: 0.5938 - precision: 0.5862 - a=recall: 0.9444\n",
            "Epoch 778/1000\n",
            "2/2 [==============================] - 0s 17ms/step - loss: 0.6766 - accuracy: 0.5938 - precision: 0.5893 - a=recall: 0.9167\n",
            "Epoch 779/1000\n",
            "2/2 [==============================] - 0s 10ms/step - loss: 0.6762 - accuracy: 0.5938 - precision: 0.5862 - a=recall: 0.9444\n",
            "Epoch 780/1000\n",
            "2/2 [==============================] - 0s 10ms/step - loss: 0.6794 - accuracy: 0.5781 - precision: 0.5763 - a=recall: 0.9444\n",
            "Epoch 781/1000\n",
            "2/2 [==============================] - 0s 10ms/step - loss: 0.6761 - accuracy: 0.5938 - precision: 0.5893 - a=recall: 0.9167\n",
            "Epoch 782/1000\n",
            "2/2 [==============================] - 0s 13ms/step - loss: 0.6761 - accuracy: 0.5938 - precision: 0.5893 - a=recall: 0.9167\n",
            "Epoch 783/1000\n",
            "2/2 [==============================] - 0s 16ms/step - loss: 0.6760 - accuracy: 0.6094 - precision: 0.6000 - a=recall: 0.9167\n",
            "Epoch 784/1000\n",
            "2/2 [==============================] - 0s 10ms/step - loss: 0.6778 - accuracy: 0.5938 - precision: 0.5926 - a=recall: 0.8889\n",
            "Epoch 785/1000\n",
            "2/2 [==============================] - 0s 10ms/step - loss: 0.6760 - accuracy: 0.5938 - precision: 0.5862 - a=recall: 0.9444\n",
            "Epoch 786/1000\n",
            "2/2 [==============================] - 0s 10ms/step - loss: 0.6762 - accuracy: 0.5938 - precision: 0.5862 - a=recall: 0.9444\n",
            "Epoch 787/1000\n",
            "2/2 [==============================] - 0s 10ms/step - loss: 0.6768 - accuracy: 0.5625 - precision: 0.5690 - a=recall: 0.9167\n",
            "Epoch 788/1000\n",
            "2/2 [==============================] - 0s 11ms/step - loss: 0.6760 - accuracy: 0.5781 - precision: 0.5789 - a=recall: 0.9167\n",
            "Epoch 789/1000\n",
            "2/2 [==============================] - 0s 10ms/step - loss: 0.6778 - accuracy: 0.6094 - precision: 0.6000 - a=recall: 0.9167\n",
            "Epoch 790/1000\n",
            "2/2 [==============================] - 0s 10ms/step - loss: 0.6759 - accuracy: 0.6250 - precision: 0.6111 - a=recall: 0.9167\n",
            "Epoch 791/1000\n",
            "2/2 [==============================] - 0s 11ms/step - loss: 0.6760 - accuracy: 0.6094 - precision: 0.6000 - a=recall: 0.9167\n",
            "Epoch 792/1000\n",
            "2/2 [==============================] - 0s 10ms/step - loss: 0.6817 - accuracy: 0.5781 - precision: 0.5789 - a=recall: 0.9167\n",
            "Epoch 793/1000\n",
            "2/2 [==============================] - 0s 10ms/step - loss: 0.6761 - accuracy: 0.6094 - precision: 0.6000 - a=recall: 0.9167\n",
            "Epoch 794/1000\n",
            "2/2 [==============================] - 0s 11ms/step - loss: 0.6773 - accuracy: 0.6250 - precision: 0.6111 - a=recall: 0.9167\n",
            "Epoch 795/1000\n",
            "2/2 [==============================] - 0s 12ms/step - loss: 0.6772 - accuracy: 0.6094 - precision: 0.6038 - a=recall: 0.8889\n",
            "Epoch 796/1000\n",
            "2/2 [==============================] - 0s 11ms/step - loss: 0.6759 - accuracy: 0.6250 - precision: 0.6071 - a=recall: 0.9444\n",
            "Epoch 797/1000\n",
            "2/2 [==============================] - 0s 11ms/step - loss: 0.6788 - accuracy: 0.5625 - precision: 0.5667 - a=recall: 0.9444\n",
            "Epoch 798/1000\n",
            "2/2 [==============================] - 0s 9ms/step - loss: 0.6758 - accuracy: 0.6094 - precision: 0.6000 - a=recall: 0.9167\n",
            "Epoch 799/1000\n",
            "2/2 [==============================] - 0s 11ms/step - loss: 0.6772 - accuracy: 0.5781 - precision: 0.5789 - a=recall: 0.9167\n",
            "Epoch 800/1000\n",
            "2/2 [==============================] - 0s 11ms/step - loss: 0.6785 - accuracy: 0.5781 - precision: 0.5789 - a=recall: 0.9167\n",
            "Epoch 801/1000\n",
            "2/2 [==============================] - 0s 12ms/step - loss: 0.6841 - accuracy: 0.5781 - precision: 0.5738 - a=recall: 0.9722\n",
            "Epoch 802/1000\n",
            "2/2 [==============================] - 0s 12ms/step - loss: 0.6760 - accuracy: 0.6406 - precision: 0.6226 - a=recall: 0.9167\n",
            "Epoch 803/1000\n",
            "2/2 [==============================] - 0s 11ms/step - loss: 0.6774 - accuracy: 0.5781 - precision: 0.5789 - a=recall: 0.9167\n",
            "Epoch 804/1000\n",
            "2/2 [==============================] - 0s 11ms/step - loss: 0.6759 - accuracy: 0.6406 - precision: 0.6226 - a=recall: 0.9167\n",
            "Epoch 805/1000\n",
            "2/2 [==============================] - 0s 11ms/step - loss: 0.6776 - accuracy: 0.6094 - precision: 0.6038 - a=recall: 0.8889\n",
            "Epoch 806/1000\n",
            "2/2 [==============================] - 0s 11ms/step - loss: 0.6768 - accuracy: 0.6250 - precision: 0.6111 - a=recall: 0.9167\n",
            "Epoch 807/1000\n",
            "2/2 [==============================] - 0s 11ms/step - loss: 0.6778 - accuracy: 0.5469 - precision: 0.5574 - a=recall: 0.9444\n",
            "Epoch 808/1000\n",
            "2/2 [==============================] - 0s 11ms/step - loss: 0.6759 - accuracy: 0.5938 - precision: 0.5893 - a=recall: 0.9167\n",
            "Epoch 809/1000\n",
            "2/2 [==============================] - 0s 11ms/step - loss: 0.6761 - accuracy: 0.6094 - precision: 0.6000 - a=recall: 0.9167\n",
            "Epoch 810/1000\n",
            "2/2 [==============================] - 0s 10ms/step - loss: 0.6757 - accuracy: 0.6094 - precision: 0.5965 - a=recall: 0.9444\n",
            "Epoch 811/1000\n",
            "2/2 [==============================] - 0s 10ms/step - loss: 0.6779 - accuracy: 0.5625 - precision: 0.5690 - a=recall: 0.9167\n",
            "Epoch 812/1000\n",
            "2/2 [==============================] - 0s 10ms/step - loss: 0.6780 - accuracy: 0.6094 - precision: 0.6038 - a=recall: 0.8889\n",
            "Epoch 813/1000\n",
            "2/2 [==============================] - 0s 10ms/step - loss: 0.6761 - accuracy: 0.5938 - precision: 0.5862 - a=recall: 0.9444\n",
            "Epoch 814/1000\n",
            "2/2 [==============================] - 0s 10ms/step - loss: 0.6758 - accuracy: 0.6250 - precision: 0.6111 - a=recall: 0.9167\n",
            "Epoch 815/1000\n",
            "2/2 [==============================] - 0s 11ms/step - loss: 0.6797 - accuracy: 0.5938 - precision: 0.5926 - a=recall: 0.8889\n",
            "Epoch 816/1000\n",
            "2/2 [==============================] - 0s 12ms/step - loss: 0.6760 - accuracy: 0.5938 - precision: 0.5893 - a=recall: 0.9167\n",
            "Epoch 817/1000\n",
            "2/2 [==============================] - 0s 12ms/step - loss: 0.6756 - accuracy: 0.5938 - precision: 0.5862 - a=recall: 0.9444\n",
            "Epoch 818/1000\n",
            "2/2 [==============================] - 0s 10ms/step - loss: 0.6794 - accuracy: 0.5781 - precision: 0.5882 - a=recall: 0.8333\n",
            "Epoch 819/1000\n",
            "2/2 [==============================] - 0s 9ms/step - loss: 0.6825 - accuracy: 0.6094 - precision: 0.6038 - a=recall: 0.8889\n",
            "Epoch 820/1000\n",
            "2/2 [==============================] - 0s 10ms/step - loss: 0.6761 - accuracy: 0.5938 - precision: 0.5862 - a=recall: 0.9444\n",
            "Epoch 821/1000\n",
            "2/2 [==============================] - 0s 9ms/step - loss: 0.6757 - accuracy: 0.5781 - precision: 0.5763 - a=recall: 0.9444\n",
            "Epoch 822/1000\n",
            "2/2 [==============================] - 0s 10ms/step - loss: 0.6770 - accuracy: 0.6094 - precision: 0.6000 - a=recall: 0.9167\n",
            "Epoch 823/1000\n",
            "2/2 [==============================] - 0s 11ms/step - loss: 0.6761 - accuracy: 0.6094 - precision: 0.6000 - a=recall: 0.9167\n",
            "Epoch 824/1000\n",
            "2/2 [==============================] - 0s 11ms/step - loss: 0.6756 - accuracy: 0.6094 - precision: 0.5965 - a=recall: 0.9444\n",
            "Epoch 825/1000\n",
            "2/2 [==============================] - 0s 10ms/step - loss: 0.6762 - accuracy: 0.5781 - precision: 0.5763 - a=recall: 0.9444\n",
            "Epoch 826/1000\n",
            "2/2 [==============================] - 0s 10ms/step - loss: 0.6785 - accuracy: 0.5781 - precision: 0.5789 - a=recall: 0.9167\n",
            "Epoch 827/1000\n",
            "2/2 [==============================] - 0s 9ms/step - loss: 0.6800 - accuracy: 0.5781 - precision: 0.5789 - a=recall: 0.9167\n",
            "Epoch 828/1000\n",
            "2/2 [==============================] - 0s 9ms/step - loss: 0.6827 - accuracy: 0.5781 - precision: 0.5789 - a=recall: 0.9167\n",
            "Epoch 829/1000\n",
            "2/2 [==============================] - 0s 9ms/step - loss: 0.6756 - accuracy: 0.6406 - precision: 0.6226 - a=recall: 0.9167\n",
            "Epoch 830/1000\n",
            "2/2 [==============================] - 0s 12ms/step - loss: 0.6770 - accuracy: 0.6094 - precision: 0.5965 - a=recall: 0.9444\n",
            "Epoch 831/1000\n",
            "2/2 [==============================] - 0s 11ms/step - loss: 0.6759 - accuracy: 0.6250 - precision: 0.6111 - a=recall: 0.9167\n",
            "Epoch 832/1000\n",
            "2/2 [==============================] - 0s 11ms/step - loss: 0.6761 - accuracy: 0.6094 - precision: 0.6038 - a=recall: 0.8889\n",
            "Epoch 833/1000\n",
            "2/2 [==============================] - 0s 12ms/step - loss: 0.6762 - accuracy: 0.5781 - precision: 0.5763 - a=recall: 0.9444\n",
            "Epoch 834/1000\n",
            "2/2 [==============================] - 0s 9ms/step - loss: 0.6771 - accuracy: 0.5625 - precision: 0.5690 - a=recall: 0.9167\n",
            "Epoch 835/1000\n",
            "2/2 [==============================] - 0s 12ms/step - loss: 0.6755 - accuracy: 0.6250 - precision: 0.6111 - a=recall: 0.9167\n",
            "Epoch 836/1000\n",
            "2/2 [==============================] - 0s 11ms/step - loss: 0.6762 - accuracy: 0.6250 - precision: 0.6111 - a=recall: 0.9167\n",
            "Epoch 837/1000\n",
            "2/2 [==============================] - 0s 10ms/step - loss: 0.6822 - accuracy: 0.6250 - precision: 0.6200 - a=recall: 0.8611\n",
            "Epoch 838/1000\n",
            "2/2 [==============================] - 0s 11ms/step - loss: 0.6770 - accuracy: 0.5625 - precision: 0.5667 - a=recall: 0.9444\n",
            "Epoch 839/1000\n",
            "2/2 [==============================] - 0s 10ms/step - loss: 0.6764 - accuracy: 0.5781 - precision: 0.5789 - a=recall: 0.9167\n",
            "Epoch 840/1000\n",
            "2/2 [==============================] - 0s 10ms/step - loss: 0.6754 - accuracy: 0.6094 - precision: 0.6000 - a=recall: 0.9167\n",
            "Epoch 841/1000\n",
            "2/2 [==============================] - 0s 12ms/step - loss: 0.6756 - accuracy: 0.6406 - precision: 0.6226 - a=recall: 0.9167\n",
            "Epoch 842/1000\n",
            "2/2 [==============================] - 0s 10ms/step - loss: 0.6756 - accuracy: 0.6250 - precision: 0.6111 - a=recall: 0.9167\n",
            "Epoch 843/1000\n",
            "2/2 [==============================] - 0s 10ms/step - loss: 0.6763 - accuracy: 0.6094 - precision: 0.5965 - a=recall: 0.9444\n",
            "Epoch 844/1000\n",
            "2/2 [==============================] - 0s 10ms/step - loss: 0.6769 - accuracy: 0.6406 - precision: 0.6226 - a=recall: 0.9167\n",
            "Epoch 845/1000\n",
            "2/2 [==============================] - 0s 9ms/step - loss: 0.6770 - accuracy: 0.6094 - precision: 0.6038 - a=recall: 0.8889\n",
            "Epoch 846/1000\n",
            "2/2 [==============================] - 0s 10ms/step - loss: 0.6754 - accuracy: 0.5938 - precision: 0.5893 - a=recall: 0.9167\n",
            "Epoch 847/1000\n",
            "2/2 [==============================] - 0s 10ms/step - loss: 0.6753 - accuracy: 0.6094 - precision: 0.5965 - a=recall: 0.9444\n",
            "Epoch 848/1000\n",
            "2/2 [==============================] - 0s 10ms/step - loss: 0.6844 - accuracy: 0.5625 - precision: 0.5690 - a=recall: 0.9167\n",
            "Epoch 849/1000\n",
            "2/2 [==============================] - 0s 11ms/step - loss: 0.6757 - accuracy: 0.6250 - precision: 0.6111 - a=recall: 0.9167\n",
            "Epoch 850/1000\n",
            "2/2 [==============================] - 0s 10ms/step - loss: 0.6753 - accuracy: 0.6250 - precision: 0.6111 - a=recall: 0.9167\n",
            "Epoch 851/1000\n",
            "2/2 [==============================] - 0s 9ms/step - loss: 0.6755 - accuracy: 0.6250 - precision: 0.6111 - a=recall: 0.9167\n",
            "Epoch 852/1000\n",
            "2/2 [==============================] - 0s 10ms/step - loss: 0.6765 - accuracy: 0.6094 - precision: 0.6000 - a=recall: 0.9167\n",
            "Epoch 853/1000\n",
            "2/2 [==============================] - 0s 10ms/step - loss: 0.6792 - accuracy: 0.5938 - precision: 0.5926 - a=recall: 0.8889\n",
            "Epoch 854/1000\n",
            "2/2 [==============================] - 0s 11ms/step - loss: 0.6766 - accuracy: 0.5781 - precision: 0.5763 - a=recall: 0.9444\n",
            "Epoch 855/1000\n",
            "2/2 [==============================] - 0s 11ms/step - loss: 0.6752 - accuracy: 0.6094 - precision: 0.6000 - a=recall: 0.9167\n",
            "Epoch 856/1000\n",
            "2/2 [==============================] - 0s 10ms/step - loss: 0.6768 - accuracy: 0.6094 - precision: 0.6038 - a=recall: 0.8889\n",
            "Epoch 857/1000\n",
            "2/2 [==============================] - 0s 14ms/step - loss: 0.6773 - accuracy: 0.5781 - precision: 0.5763 - a=recall: 0.9444\n",
            "Epoch 858/1000\n",
            "2/2 [==============================] - 0s 10ms/step - loss: 0.6752 - accuracy: 0.6250 - precision: 0.6111 - a=recall: 0.9167\n",
            "Epoch 859/1000\n",
            "2/2 [==============================] - 0s 12ms/step - loss: 0.6796 - accuracy: 0.5781 - precision: 0.5763 - a=recall: 0.9444\n",
            "Epoch 860/1000\n",
            "2/2 [==============================] - 0s 10ms/step - loss: 0.6768 - accuracy: 0.6094 - precision: 0.6000 - a=recall: 0.9167\n",
            "Epoch 861/1000\n",
            "2/2 [==============================] - 0s 14ms/step - loss: 0.6757 - accuracy: 0.6250 - precision: 0.6111 - a=recall: 0.9167\n",
            "Epoch 862/1000\n",
            "2/2 [==============================] - 0s 10ms/step - loss: 0.6755 - accuracy: 0.6250 - precision: 0.6111 - a=recall: 0.9167\n",
            "Epoch 863/1000\n",
            "2/2 [==============================] - 0s 11ms/step - loss: 0.6753 - accuracy: 0.6250 - precision: 0.6111 - a=recall: 0.9167\n",
            "Epoch 864/1000\n",
            "2/2 [==============================] - 0s 10ms/step - loss: 0.6752 - accuracy: 0.6250 - precision: 0.6111 - a=recall: 0.9167\n",
            "Epoch 865/1000\n",
            "2/2 [==============================] - 0s 10ms/step - loss: 0.6757 - accuracy: 0.6250 - precision: 0.6111 - a=recall: 0.9167\n",
            "Epoch 866/1000\n",
            "2/2 [==============================] - 0s 10ms/step - loss: 0.6793 - accuracy: 0.6406 - precision: 0.6226 - a=recall: 0.9167\n",
            "Epoch 867/1000\n",
            "2/2 [==============================] - 0s 12ms/step - loss: 0.6752 - accuracy: 0.5938 - precision: 0.5862 - a=recall: 0.9444\n",
            "Epoch 868/1000\n",
            "2/2 [==============================] - 0s 10ms/step - loss: 0.6769 - accuracy: 0.5781 - precision: 0.5789 - a=recall: 0.9167\n",
            "Epoch 869/1000\n",
            "2/2 [==============================] - 0s 12ms/step - loss: 0.6751 - accuracy: 0.6250 - precision: 0.6111 - a=recall: 0.9167\n",
            "Epoch 870/1000\n",
            "2/2 [==============================] - 0s 11ms/step - loss: 0.6785 - accuracy: 0.5781 - precision: 0.5789 - a=recall: 0.9167\n",
            "Epoch 871/1000\n",
            "2/2 [==============================] - 0s 14ms/step - loss: 0.6843 - accuracy: 0.5781 - precision: 0.5763 - a=recall: 0.9444\n",
            "Epoch 872/1000\n",
            "2/2 [==============================] - 0s 10ms/step - loss: 0.6758 - accuracy: 0.5938 - precision: 0.6000 - a=recall: 0.8333\n",
            "Epoch 873/1000\n",
            "2/2 [==============================] - 0s 11ms/step - loss: 0.6765 - accuracy: 0.5938 - precision: 0.5962 - a=recall: 0.8611\n",
            "Epoch 874/1000\n",
            "2/2 [==============================] - 0s 9ms/step - loss: 0.6757 - accuracy: 0.5781 - precision: 0.5789 - a=recall: 0.9167\n",
            "Epoch 875/1000\n",
            "2/2 [==============================] - 0s 11ms/step - loss: 0.6798 - accuracy: 0.5938 - precision: 0.6000 - a=recall: 0.8333\n",
            "Epoch 876/1000\n",
            "2/2 [==============================] - 0s 10ms/step - loss: 0.6754 - accuracy: 0.6250 - precision: 0.6111 - a=recall: 0.9167\n",
            "Epoch 877/1000\n",
            "2/2 [==============================] - 0s 17ms/step - loss: 0.6762 - accuracy: 0.5938 - precision: 0.5893 - a=recall: 0.9167\n",
            "Epoch 878/1000\n",
            "2/2 [==============================] - 0s 14ms/step - loss: 0.6751 - accuracy: 0.6250 - precision: 0.6111 - a=recall: 0.9167\n",
            "Epoch 879/1000\n",
            "2/2 [==============================] - 0s 11ms/step - loss: 0.6755 - accuracy: 0.6250 - precision: 0.6071 - a=recall: 0.9444\n",
            "Epoch 880/1000\n",
            "2/2 [==============================] - 0s 11ms/step - loss: 0.6760 - accuracy: 0.5938 - precision: 0.5962 - a=recall: 0.8611\n",
            "Epoch 881/1000\n",
            "2/2 [==============================] - 0s 10ms/step - loss: 0.6773 - accuracy: 0.5938 - precision: 0.5962 - a=recall: 0.8611\n",
            "Epoch 882/1000\n",
            "2/2 [==============================] - 0s 10ms/step - loss: 0.6767 - accuracy: 0.5938 - precision: 0.5862 - a=recall: 0.9444\n",
            "Epoch 883/1000\n",
            "2/2 [==============================] - 0s 10ms/step - loss: 0.6766 - accuracy: 0.6094 - precision: 0.5965 - a=recall: 0.9444\n",
            "Epoch 884/1000\n",
            "2/2 [==============================] - 0s 15ms/step - loss: 0.6881 - accuracy: 0.5312 - precision: 0.5625 - a=recall: 0.7500\n",
            "Epoch 885/1000\n",
            "2/2 [==============================] - 0s 12ms/step - loss: 0.6788 - accuracy: 0.5938 - precision: 0.5926 - a=recall: 0.8889\n",
            "Epoch 886/1000\n",
            "2/2 [==============================] - 0s 14ms/step - loss: 0.6750 - accuracy: 0.6094 - precision: 0.5965 - a=recall: 0.9444\n",
            "Epoch 887/1000\n",
            "2/2 [==============================] - 0s 12ms/step - loss: 0.6760 - accuracy: 0.6094 - precision: 0.6000 - a=recall: 0.9167\n",
            "Epoch 888/1000\n",
            "2/2 [==============================] - 0s 12ms/step - loss: 0.6762 - accuracy: 0.5938 - precision: 0.5862 - a=recall: 0.9444\n",
            "Epoch 889/1000\n",
            "2/2 [==============================] - 0s 14ms/step - loss: 0.6783 - accuracy: 0.5625 - precision: 0.5690 - a=recall: 0.9167\n",
            "Epoch 890/1000\n",
            "2/2 [==============================] - 0s 14ms/step - loss: 0.6775 - accuracy: 0.6250 - precision: 0.6071 - a=recall: 0.9444\n",
            "Epoch 891/1000\n",
            "2/2 [==============================] - 0s 17ms/step - loss: 0.6807 - accuracy: 0.5625 - precision: 0.5833 - a=recall: 0.7778\n",
            "Epoch 892/1000\n",
            "2/2 [==============================] - 0s 11ms/step - loss: 0.6767 - accuracy: 0.6250 - precision: 0.6154 - a=recall: 0.8889\n",
            "Epoch 893/1000\n",
            "2/2 [==============================] - 0s 11ms/step - loss: 0.6750 - accuracy: 0.5938 - precision: 0.5893 - a=recall: 0.9167\n",
            "Epoch 894/1000\n",
            "2/2 [==============================] - 0s 12ms/step - loss: 0.6760 - accuracy: 0.5625 - precision: 0.5690 - a=recall: 0.9167\n",
            "Epoch 895/1000\n",
            "2/2 [==============================] - 0s 15ms/step - loss: 0.6761 - accuracy: 0.6406 - precision: 0.6226 - a=recall: 0.9167\n",
            "Epoch 896/1000\n",
            "2/2 [==============================] - 0s 11ms/step - loss: 0.6751 - accuracy: 0.5938 - precision: 0.5862 - a=recall: 0.9444\n",
            "Epoch 897/1000\n",
            "2/2 [==============================] - 0s 14ms/step - loss: 0.6749 - accuracy: 0.6406 - precision: 0.6226 - a=recall: 0.9167\n",
            "Epoch 898/1000\n",
            "2/2 [==============================] - 0s 15ms/step - loss: 0.6766 - accuracy: 0.5938 - precision: 0.5862 - a=recall: 0.9444\n",
            "Epoch 899/1000\n",
            "2/2 [==============================] - 0s 14ms/step - loss: 0.6767 - accuracy: 0.6250 - precision: 0.6111 - a=recall: 0.9167\n",
            "Epoch 900/1000\n",
            "2/2 [==============================] - 0s 11ms/step - loss: 0.6786 - accuracy: 0.5938 - precision: 0.5962 - a=recall: 0.8611\n",
            "Epoch 901/1000\n",
            "2/2 [==============================] - 0s 12ms/step - loss: 0.6752 - accuracy: 0.5938 - precision: 0.5862 - a=recall: 0.9444\n",
            "Epoch 902/1000\n",
            "2/2 [==============================] - 0s 11ms/step - loss: 0.6764 - accuracy: 0.5938 - precision: 0.5893 - a=recall: 0.9167\n",
            "Epoch 903/1000\n",
            "2/2 [==============================] - 0s 11ms/step - loss: 0.6777 - accuracy: 0.6094 - precision: 0.6000 - a=recall: 0.9167\n",
            "Epoch 904/1000\n",
            "2/2 [==============================] - 0s 12ms/step - loss: 0.6750 - accuracy: 0.6250 - precision: 0.6154 - a=recall: 0.8889\n",
            "Epoch 905/1000\n",
            "2/2 [==============================] - 0s 10ms/step - loss: 0.6752 - accuracy: 0.6250 - precision: 0.6111 - a=recall: 0.9167\n",
            "Epoch 906/1000\n",
            "2/2 [==============================] - 0s 11ms/step - loss: 0.6751 - accuracy: 0.6250 - precision: 0.6111 - a=recall: 0.9167\n",
            "Epoch 907/1000\n",
            "2/2 [==============================] - 0s 11ms/step - loss: 0.6754 - accuracy: 0.6250 - precision: 0.6111 - a=recall: 0.9167\n",
            "Epoch 908/1000\n",
            "2/2 [==============================] - 0s 17ms/step - loss: 0.6764 - accuracy: 0.5938 - precision: 0.5862 - a=recall: 0.9444\n",
            "Epoch 909/1000\n",
            "2/2 [==============================] - 0s 34ms/step - loss: 0.6748 - accuracy: 0.6250 - precision: 0.6111 - a=recall: 0.9167\n",
            "Epoch 910/1000\n",
            "2/2 [==============================] - 0s 19ms/step - loss: 0.6848 - accuracy: 0.5625 - precision: 0.5667 - a=recall: 0.9444\n",
            "Epoch 911/1000\n",
            "2/2 [==============================] - 0s 20ms/step - loss: 0.6747 - accuracy: 0.6406 - precision: 0.6226 - a=recall: 0.9167\n",
            "Epoch 912/1000\n",
            "2/2 [==============================] - 0s 15ms/step - loss: 0.6752 - accuracy: 0.6250 - precision: 0.6111 - a=recall: 0.9167\n",
            "Epoch 913/1000\n",
            "2/2 [==============================] - 0s 32ms/step - loss: 0.6764 - accuracy: 0.6250 - precision: 0.6071 - a=recall: 0.9444\n",
            "Epoch 914/1000\n",
            "2/2 [==============================] - 0s 25ms/step - loss: 0.6751 - accuracy: 0.6406 - precision: 0.6226 - a=recall: 0.9167\n",
            "Epoch 915/1000\n",
            "2/2 [==============================] - 0s 25ms/step - loss: 0.6755 - accuracy: 0.5781 - precision: 0.5789 - a=recall: 0.9167\n",
            "Epoch 916/1000\n",
            "2/2 [==============================] - 0s 20ms/step - loss: 0.6752 - accuracy: 0.6250 - precision: 0.6111 - a=recall: 0.9167\n",
            "Epoch 917/1000\n",
            "2/2 [==============================] - 0s 10ms/step - loss: 0.6747 - accuracy: 0.6406 - precision: 0.6226 - a=recall: 0.9167\n",
            "Epoch 918/1000\n",
            "2/2 [==============================] - 0s 10ms/step - loss: 0.6750 - accuracy: 0.6094 - precision: 0.6000 - a=recall: 0.9167\n",
            "Epoch 919/1000\n",
            "2/2 [==============================] - 0s 9ms/step - loss: 0.6748 - accuracy: 0.6094 - precision: 0.6000 - a=recall: 0.9167\n",
            "Epoch 920/1000\n",
            "2/2 [==============================] - 0s 10ms/step - loss: 0.6802 - accuracy: 0.5938 - precision: 0.5862 - a=recall: 0.9444\n",
            "Epoch 921/1000\n",
            "2/2 [==============================] - 0s 10ms/step - loss: 0.6746 - accuracy: 0.6406 - precision: 0.6226 - a=recall: 0.9167\n",
            "Epoch 922/1000\n",
            "2/2 [==============================] - 0s 10ms/step - loss: 0.6782 - accuracy: 0.6094 - precision: 0.6078 - a=recall: 0.8611\n",
            "Epoch 923/1000\n",
            "2/2 [==============================] - 0s 10ms/step - loss: 0.6759 - accuracy: 0.6250 - precision: 0.6154 - a=recall: 0.8889\n",
            "Epoch 924/1000\n",
            "2/2 [==============================] - 0s 9ms/step - loss: 0.6747 - accuracy: 0.5938 - precision: 0.5893 - a=recall: 0.9167\n",
            "Epoch 925/1000\n",
            "2/2 [==============================] - 0s 9ms/step - loss: 0.6825 - accuracy: 0.5469 - precision: 0.5714 - a=recall: 0.7778\n",
            "Epoch 926/1000\n",
            "2/2 [==============================] - 0s 9ms/step - loss: 0.6756 - accuracy: 0.5938 - precision: 0.5893 - a=recall: 0.9167\n",
            "Epoch 927/1000\n",
            "2/2 [==============================] - 0s 9ms/step - loss: 0.6746 - accuracy: 0.6094 - precision: 0.6000 - a=recall: 0.9167\n",
            "Epoch 928/1000\n",
            "2/2 [==============================] - 0s 9ms/step - loss: 0.6748 - accuracy: 0.6250 - precision: 0.6111 - a=recall: 0.9167\n",
            "Epoch 929/1000\n",
            "2/2 [==============================] - 0s 10ms/step - loss: 0.6746 - accuracy: 0.5938 - precision: 0.5862 - a=recall: 0.9444\n",
            "Epoch 930/1000\n",
            "2/2 [==============================] - 0s 9ms/step - loss: 0.6747 - accuracy: 0.6250 - precision: 0.6111 - a=recall: 0.9167\n",
            "Epoch 931/1000\n",
            "2/2 [==============================] - 0s 10ms/step - loss: 0.6767 - accuracy: 0.5625 - precision: 0.5690 - a=recall: 0.9167\n",
            "Epoch 932/1000\n",
            "2/2 [==============================] - 0s 9ms/step - loss: 0.6745 - accuracy: 0.6406 - precision: 0.6226 - a=recall: 0.9167\n",
            "Epoch 933/1000\n",
            "2/2 [==============================] - 0s 11ms/step - loss: 0.6761 - accuracy: 0.6094 - precision: 0.6078 - a=recall: 0.8611\n",
            "Epoch 934/1000\n",
            "2/2 [==============================] - 0s 10ms/step - loss: 0.6744 - accuracy: 0.6250 - precision: 0.6111 - a=recall: 0.9167\n",
            "Epoch 935/1000\n",
            "2/2 [==============================] - 0s 12ms/step - loss: 0.6780 - accuracy: 0.5625 - precision: 0.5690 - a=recall: 0.9167\n",
            "Epoch 936/1000\n",
            "2/2 [==============================] - 0s 12ms/step - loss: 0.6749 - accuracy: 0.6094 - precision: 0.6078 - a=recall: 0.8611\n",
            "Epoch 937/1000\n",
            "2/2 [==============================] - 0s 15ms/step - loss: 0.6743 - accuracy: 0.6250 - precision: 0.6111 - a=recall: 0.9167\n",
            "Epoch 938/1000\n",
            "2/2 [==============================] - 0s 13ms/step - loss: 0.6743 - accuracy: 0.6250 - precision: 0.6111 - a=recall: 0.9167\n",
            "Epoch 939/1000\n",
            "2/2 [==============================] - 0s 11ms/step - loss: 0.6746 - accuracy: 0.6094 - precision: 0.6000 - a=recall: 0.9167\n",
            "Epoch 940/1000\n",
            "2/2 [==============================] - 0s 11ms/step - loss: 0.6746 - accuracy: 0.6250 - precision: 0.6111 - a=recall: 0.9167\n",
            "Epoch 941/1000\n",
            "2/2 [==============================] - 0s 13ms/step - loss: 0.6744 - accuracy: 0.6406 - precision: 0.6226 - a=recall: 0.9167\n",
            "Epoch 942/1000\n",
            "2/2 [==============================] - 0s 14ms/step - loss: 0.6767 - accuracy: 0.6094 - precision: 0.6000 - a=recall: 0.9167\n",
            "Epoch 943/1000\n",
            "2/2 [==============================] - 0s 9ms/step - loss: 0.6743 - accuracy: 0.6406 - precision: 0.6226 - a=recall: 0.9167\n",
            "Epoch 944/1000\n",
            "2/2 [==============================] - 0s 10ms/step - loss: 0.6754 - accuracy: 0.6250 - precision: 0.6111 - a=recall: 0.9167\n",
            "Epoch 945/1000\n",
            "2/2 [==============================] - 0s 13ms/step - loss: 0.6743 - accuracy: 0.6406 - precision: 0.6226 - a=recall: 0.9167\n",
            "Epoch 946/1000\n",
            "2/2 [==============================] - 0s 11ms/step - loss: 0.6803 - accuracy: 0.6094 - precision: 0.6170 - a=recall: 0.8056\n",
            "Epoch 947/1000\n",
            "2/2 [==============================] - 0s 12ms/step - loss: 0.6745 - accuracy: 0.6094 - precision: 0.5965 - a=recall: 0.9444\n",
            "Epoch 948/1000\n",
            "2/2 [==============================] - 0s 11ms/step - loss: 0.6772 - accuracy: 0.5938 - precision: 0.5962 - a=recall: 0.8611\n",
            "Epoch 949/1000\n",
            "2/2 [==============================] - 0s 10ms/step - loss: 0.6746 - accuracy: 0.6094 - precision: 0.5965 - a=recall: 0.9444\n",
            "Epoch 950/1000\n",
            "2/2 [==============================] - 0s 13ms/step - loss: 0.6837 - accuracy: 0.5312 - precision: 0.5652 - a=recall: 0.7222\n",
            "Epoch 951/1000\n",
            "2/2 [==============================] - 0s 13ms/step - loss: 0.6743 - accuracy: 0.5938 - precision: 0.5862 - a=recall: 0.9444\n",
            "Epoch 952/1000\n",
            "2/2 [==============================] - 0s 9ms/step - loss: 0.6742 - accuracy: 0.6094 - precision: 0.6000 - a=recall: 0.9167\n",
            "Epoch 953/1000\n",
            "2/2 [==============================] - 0s 9ms/step - loss: 0.6771 - accuracy: 0.5781 - precision: 0.5789 - a=recall: 0.9167\n",
            "Epoch 954/1000\n",
            "2/2 [==============================] - 0s 13ms/step - loss: 0.6752 - accuracy: 0.6406 - precision: 0.6182 - a=recall: 0.9444\n",
            "Epoch 955/1000\n",
            "2/2 [==============================] - 0s 10ms/step - loss: 0.6743 - accuracy: 0.6250 - precision: 0.6154 - a=recall: 0.8889\n",
            "Epoch 956/1000\n",
            "2/2 [==============================] - 0s 13ms/step - loss: 0.6743 - accuracy: 0.6250 - precision: 0.6111 - a=recall: 0.9167\n",
            "Epoch 957/1000\n",
            "2/2 [==============================] - 0s 11ms/step - loss: 0.6765 - accuracy: 0.6250 - precision: 0.6154 - a=recall: 0.8889\n",
            "Epoch 958/1000\n",
            "2/2 [==============================] - 0s 11ms/step - loss: 0.6747 - accuracy: 0.5938 - precision: 0.5893 - a=recall: 0.9167\n",
            "Epoch 959/1000\n",
            "2/2 [==============================] - 0s 11ms/step - loss: 0.6763 - accuracy: 0.5938 - precision: 0.5893 - a=recall: 0.9167\n",
            "Epoch 960/1000\n",
            "2/2 [==============================] - 0s 11ms/step - loss: 0.6777 - accuracy: 0.5938 - precision: 0.6042 - a=recall: 0.8056\n",
            "Epoch 961/1000\n",
            "2/2 [==============================] - 0s 10ms/step - loss: 0.6754 - accuracy: 0.6094 - precision: 0.5965 - a=recall: 0.9444\n",
            "Epoch 962/1000\n",
            "2/2 [==============================] - 0s 15ms/step - loss: 0.6769 - accuracy: 0.6250 - precision: 0.6154 - a=recall: 0.8889\n",
            "Epoch 963/1000\n",
            "2/2 [==============================] - 0s 13ms/step - loss: 0.6742 - accuracy: 0.6094 - precision: 0.6000 - a=recall: 0.9167\n",
            "Epoch 964/1000\n",
            "2/2 [==============================] - 0s 10ms/step - loss: 0.6745 - accuracy: 0.6250 - precision: 0.6071 - a=recall: 0.9444\n",
            "Epoch 965/1000\n",
            "2/2 [==============================] - 0s 12ms/step - loss: 0.6844 - accuracy: 0.5781 - precision: 0.5789 - a=recall: 0.9167\n",
            "Epoch 966/1000\n",
            "2/2 [==============================] - 0s 10ms/step - loss: 0.6755 - accuracy: 0.6250 - precision: 0.6111 - a=recall: 0.9167\n",
            "Epoch 967/1000\n",
            "2/2 [==============================] - 0s 10ms/step - loss: 0.6740 - accuracy: 0.6406 - precision: 0.6226 - a=recall: 0.9167\n",
            "Epoch 968/1000\n",
            "2/2 [==============================] - 0s 11ms/step - loss: 0.6741 - accuracy: 0.6250 - precision: 0.6111 - a=recall: 0.9167\n",
            "Epoch 969/1000\n",
            "2/2 [==============================] - 0s 9ms/step - loss: 0.6758 - accuracy: 0.5938 - precision: 0.6000 - a=recall: 0.8333\n",
            "Epoch 970/1000\n",
            "2/2 [==============================] - 0s 9ms/step - loss: 0.6766 - accuracy: 0.6094 - precision: 0.6078 - a=recall: 0.8611\n",
            "Epoch 971/1000\n",
            "2/2 [==============================] - 0s 9ms/step - loss: 0.6741 - accuracy: 0.6094 - precision: 0.6000 - a=recall: 0.9167\n",
            "Epoch 972/1000\n",
            "2/2 [==============================] - 0s 10ms/step - loss: 0.6768 - accuracy: 0.5938 - precision: 0.5862 - a=recall: 0.9444\n",
            "Epoch 973/1000\n",
            "2/2 [==============================] - 0s 9ms/step - loss: 0.6761 - accuracy: 0.6406 - precision: 0.6226 - a=recall: 0.9167\n",
            "Epoch 974/1000\n",
            "2/2 [==============================] - 0s 11ms/step - loss: 0.6741 - accuracy: 0.6094 - precision: 0.6000 - a=recall: 0.9167\n",
            "Epoch 975/1000\n",
            "2/2 [==============================] - 0s 16ms/step - loss: 0.6787 - accuracy: 0.5781 - precision: 0.5789 - a=recall: 0.9167\n",
            "Epoch 976/1000\n",
            "2/2 [==============================] - 0s 12ms/step - loss: 0.6741 - accuracy: 0.6406 - precision: 0.6226 - a=recall: 0.9167\n",
            "Epoch 977/1000\n",
            "2/2 [==============================] - 0s 12ms/step - loss: 0.6746 - accuracy: 0.6094 - precision: 0.6000 - a=recall: 0.9167\n",
            "Epoch 978/1000\n",
            "2/2 [==============================] - 0s 11ms/step - loss: 0.6739 - accuracy: 0.6406 - precision: 0.6226 - a=recall: 0.9167\n",
            "Epoch 979/1000\n",
            "2/2 [==============================] - 0s 10ms/step - loss: 0.6744 - accuracy: 0.6250 - precision: 0.6111 - a=recall: 0.9167\n",
            "Epoch 980/1000\n",
            "2/2 [==============================] - 0s 9ms/step - loss: 0.6743 - accuracy: 0.6250 - precision: 0.6111 - a=recall: 0.9167\n",
            "Epoch 981/1000\n",
            "2/2 [==============================] - 0s 13ms/step - loss: 0.6812 - accuracy: 0.5625 - precision: 0.5870 - a=recall: 0.7500\n",
            "Epoch 982/1000\n",
            "2/2 [==============================] - 0s 9ms/step - loss: 0.6783 - accuracy: 0.6094 - precision: 0.6078 - a=recall: 0.8611\n",
            "Epoch 983/1000\n",
            "2/2 [==============================] - 0s 10ms/step - loss: 0.6739 - accuracy: 0.6094 - precision: 0.6000 - a=recall: 0.9167\n",
            "Epoch 984/1000\n",
            "2/2 [==============================] - 0s 10ms/step - loss: 0.6808 - accuracy: 0.5469 - precision: 0.5714 - a=recall: 0.7778\n",
            "Epoch 985/1000\n",
            "2/2 [==============================] - 0s 10ms/step - loss: 0.6742 - accuracy: 0.5938 - precision: 0.5893 - a=recall: 0.9167\n",
            "Epoch 986/1000\n",
            "2/2 [==============================] - 0s 10ms/step - loss: 0.6739 - accuracy: 0.6250 - precision: 0.6111 - a=recall: 0.9167\n",
            "Epoch 987/1000\n",
            "2/2 [==============================] - 0s 10ms/step - loss: 0.6763 - accuracy: 0.5938 - precision: 0.5962 - a=recall: 0.8611\n",
            "Epoch 988/1000\n",
            "2/2 [==============================] - 0s 10ms/step - loss: 0.6741 - accuracy: 0.6406 - precision: 0.6226 - a=recall: 0.9167\n",
            "Epoch 989/1000\n",
            "2/2 [==============================] - 0s 9ms/step - loss: 0.6739 - accuracy: 0.6250 - precision: 0.6111 - a=recall: 0.9167\n",
            "Epoch 990/1000\n",
            "2/2 [==============================] - 0s 9ms/step - loss: 0.6746 - accuracy: 0.5938 - precision: 0.5893 - a=recall: 0.9167\n",
            "Epoch 991/1000\n",
            "2/2 [==============================] - 0s 9ms/step - loss: 0.6755 - accuracy: 0.6094 - precision: 0.5965 - a=recall: 0.9444\n",
            "Epoch 992/1000\n",
            "2/2 [==============================] - 0s 9ms/step - loss: 0.6740 - accuracy: 0.6406 - precision: 0.6226 - a=recall: 0.9167\n",
            "Epoch 993/1000\n",
            "2/2 [==============================] - 0s 10ms/step - loss: 0.6742 - accuracy: 0.6406 - precision: 0.6226 - a=recall: 0.9167\n",
            "Epoch 994/1000\n",
            "2/2 [==============================] - 0s 9ms/step - loss: 0.6737 - accuracy: 0.6406 - precision: 0.6226 - a=recall: 0.9167\n",
            "Epoch 995/1000\n",
            "2/2 [==============================] - 0s 10ms/step - loss: 0.6739 - accuracy: 0.6406 - precision: 0.6226 - a=recall: 0.9167\n",
            "Epoch 996/1000\n",
            "2/2 [==============================] - 0s 10ms/step - loss: 0.6744 - accuracy: 0.6250 - precision: 0.6154 - a=recall: 0.8889\n",
            "Epoch 997/1000\n",
            "2/2 [==============================] - 0s 10ms/step - loss: 0.6739 - accuracy: 0.6094 - precision: 0.6000 - a=recall: 0.9167\n",
            "Epoch 998/1000\n",
            "2/2 [==============================] - 0s 9ms/step - loss: 0.6738 - accuracy: 0.6250 - precision: 0.6111 - a=recall: 0.9167\n",
            "Epoch 999/1000\n",
            "2/2 [==============================] - 0s 10ms/step - loss: 0.6740 - accuracy: 0.6406 - precision: 0.6226 - a=recall: 0.9167\n",
            "Epoch 1000/1000\n",
            "2/2 [==============================] - 0s 11ms/step - loss: 0.6738 - accuracy: 0.6250 - precision: 0.6154 - a=recall: 0.8889\n"
          ]
        }
      ]
    },
    {
      "cell_type": "code",
      "source": [],
      "metadata": {
        "id": "pwjsqmDTSb1j"
      },
      "id": "pwjsqmDTSb1j",
      "execution_count": null,
      "outputs": []
    }
  ],
  "metadata": {
    "kernelspec": {
      "display_name": "Python 3 (ipykernel)",
      "language": "python",
      "name": "python3"
    },
    "language_info": {
      "codemirror_mode": {
        "name": "ipython",
        "version": 3
      },
      "file_extension": ".py",
      "mimetype": "text/x-python",
      "name": "python",
      "nbconvert_exporter": "python",
      "pygments_lexer": "ipython3",
      "version": "3.9.12"
    },
    "colab": {
      "provenance": [],
      "toc_visible": true
    }
  },
  "nbformat": 4,
  "nbformat_minor": 5
}